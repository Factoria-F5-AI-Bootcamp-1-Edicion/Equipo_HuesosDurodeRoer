{
  "cells": [
    {
      "cell_type": "code",
      "execution_count": 1,
      "id": "9dd9719a-3b0d-4afc-ae6a-0de352588cbd",
      "metadata": {
        "id": "9dd9719a-3b0d-4afc-ae6a-0de352588cbd"
      },
      "outputs": [],
      "source": [
        "#Importar Librerias para el eda\n",
        "import pandas as pd\n",
        "import numpy as np\n",
        "\n",
        "#Librerias de visualización\n",
        "import matplotlib.pyplot as plt\n",
        "import seaborn as sns\n",
        "\n",
        "##Guardamos el modelo y el transformer\n",
        "import joblib"
      ]
    },
    {
      "cell_type": "code",
      "execution_count": 2,
      "id": "5f1bffe0-89bc-4154-82e1-97bdb5853e2e",
      "metadata": {
        "id": "5f1bffe0-89bc-4154-82e1-97bdb5853e2e"
      },
      "outputs": [],
      "source": [
        "## Escalar los datos, para ejecutar el StandardScaler y el MinMax Scaler y verificar si tenemos los mejores resultados usando el escalado\n",
        "from sklearn.preprocessing import MinMaxScaler, OneHotEncoder\n",
        "from sklearn.compose import ColumnTransformer"
      ]
    },
    {
      "cell_type": "code",
      "execution_count": 3,
      "id": "7f16720d-d85f-4ec0-8c80-c104216e8144",
      "metadata": {
        "id": "7f16720d-d85f-4ec0-8c80-c104216e8144"
      },
      "outputs": [],
      "source": [
        "#Algoritmos\n",
        "from sklearn.naive_bayes import GaussianNB\n",
        "from xgboost import XGBClassifier\n",
        "from lightgbm import LGBMClassifier\n",
        "#from catboost import CatBoostClassifier\n",
        "\n",
        "#Métricas de sklearn\n",
        "from sklearn.metrics import accuracy_score\n",
        "from sklearn.metrics import balanced_accuracy_score\n",
        "from sklearn.metrics import precision_score\n",
        "from sklearn.metrics import recall_score\n",
        "from sklearn.metrics import hamming_loss\n",
        "from sklearn.metrics import jaccard_score\n",
        "from sklearn.metrics import log_loss\n",
        "from sklearn.metrics import zero_one_loss\n",
        "from sklearn.metrics import f1_score\n",
        "from sklearn.metrics import roc_auc_score\n",
        "from sklearn.metrics import matthews_corrcoef\n",
        "from sklearn.metrics import confusion_matrix\n",
        "from sklearn.metrics import classification_report\n"
      ]
    },
    {
      "cell_type": "code",
      "execution_count": 4,
      "id": "e4850272-328a-4a92-a1fb-11833b1f1ab9",
      "metadata": {
        "id": "e4850272-328a-4a92-a1fb-11833b1f1ab9"
      },
      "outputs": [],
      "source": [
        "## Optimización de hiperparámetros\n",
        "from sklearn.model_selection import GridSearchCV, RandomizedSearchCV\n",
        "from sklearn.model_selection import ParameterGrid\n",
        "import multiprocessing\n",
        "from multiprocessing import Pool\n",
        "from sklearn.model_selection import RepeatedKFold\n",
        "from sklearn.model_selection import KFold\n",
        "from scipy.stats import uniform as sp_randFloat\n",
        "from scipy.stats import randint as sp_randInt\n",
        "\n",
        "# Estrategia para hacer split\n",
        "from sklearn.model_selection import train_test_split\n",
        "\n",
        "#Estrategia de balanceo: oversampling\n",
        "from pylab import rcParams\n",
        "from imblearn.over_sampling import RandomOverSampler\n",
        " \n",
        "from collections import Counter\n",
        "\n"
      ]
    },
    {
      "cell_type": "code",
      "execution_count": 5,
      "id": "cc9fac79-f7e0-4562-8ef8-98914e8683f6",
      "metadata": {
        "id": "cc9fac79-f7e0-4562-8ef8-98914e8683f6"
      },
      "outputs": [],
      "source": [
        "# Configuración warnings\n",
        "import warnings\n",
        "warnings.filterwarnings('once')"
      ]
    },
    {
      "cell_type": "markdown",
      "id": "5943c882-4b42-49ed-b1e7-65b346c43696",
      "metadata": {
        "id": "5943c882-4b42-49ed-b1e7-65b346c43696"
      },
      "source": [
        "## Leer dataset"
      ]
    },
    {
      "cell_type": "code",
      "execution_count": 6,
      "id": "f42ada4c-e13c-43d6-bc10-4e1e09a9b7a8",
      "metadata": {
        "colab": {
          "base_uri": "https://localhost:8080/",
          "height": 206
        },
        "id": "f42ada4c-e13c-43d6-bc10-4e1e09a9b7a8",
        "outputId": "ff445326-ee1e-4900-fdea-eb2ebf653d05",
        "tags": []
      },
      "outputs": [
        {
          "output_type": "execute_result",
          "data": {
            "text/plain": [
              "   gender   age  hypertension  heart_disease ever_married      work_type  \\\n",
              "0    Male  67.0             0              1          Yes        Private   \n",
              "1    Male  80.0             0              1          Yes        Private   \n",
              "2  Female  49.0             0              0          Yes        Private   \n",
              "3  Female  79.0             1              0          Yes  Self-employed   \n",
              "4    Male  81.0             0              0          Yes        Private   \n",
              "\n",
              "  Residence_type  avg_glucose_level   bmi   smoking_status  stroke  \n",
              "0          Urban             228.69  36.6  formerly smoked       1  \n",
              "1          Rural             105.92  32.5     never smoked       1  \n",
              "2          Urban             171.23  34.4           smokes       1  \n",
              "3          Rural             174.12  24.0     never smoked       1  \n",
              "4          Urban             186.21  29.0  formerly smoked       1  "
            ],
            "text/html": [
              "\n",
              "  <div id=\"df-851147f0-08da-48e6-b924-e0f9d4ea38e6\">\n",
              "    <div class=\"colab-df-container\">\n",
              "      <div>\n",
              "<style scoped>\n",
              "    .dataframe tbody tr th:only-of-type {\n",
              "        vertical-align: middle;\n",
              "    }\n",
              "\n",
              "    .dataframe tbody tr th {\n",
              "        vertical-align: top;\n",
              "    }\n",
              "\n",
              "    .dataframe thead th {\n",
              "        text-align: right;\n",
              "    }\n",
              "</style>\n",
              "<table border=\"1\" class=\"dataframe\">\n",
              "  <thead>\n",
              "    <tr style=\"text-align: right;\">\n",
              "      <th></th>\n",
              "      <th>gender</th>\n",
              "      <th>age</th>\n",
              "      <th>hypertension</th>\n",
              "      <th>heart_disease</th>\n",
              "      <th>ever_married</th>\n",
              "      <th>work_type</th>\n",
              "      <th>Residence_type</th>\n",
              "      <th>avg_glucose_level</th>\n",
              "      <th>bmi</th>\n",
              "      <th>smoking_status</th>\n",
              "      <th>stroke</th>\n",
              "    </tr>\n",
              "  </thead>\n",
              "  <tbody>\n",
              "    <tr>\n",
              "      <th>0</th>\n",
              "      <td>Male</td>\n",
              "      <td>67.0</td>\n",
              "      <td>0</td>\n",
              "      <td>1</td>\n",
              "      <td>Yes</td>\n",
              "      <td>Private</td>\n",
              "      <td>Urban</td>\n",
              "      <td>228.69</td>\n",
              "      <td>36.6</td>\n",
              "      <td>formerly smoked</td>\n",
              "      <td>1</td>\n",
              "    </tr>\n",
              "    <tr>\n",
              "      <th>1</th>\n",
              "      <td>Male</td>\n",
              "      <td>80.0</td>\n",
              "      <td>0</td>\n",
              "      <td>1</td>\n",
              "      <td>Yes</td>\n",
              "      <td>Private</td>\n",
              "      <td>Rural</td>\n",
              "      <td>105.92</td>\n",
              "      <td>32.5</td>\n",
              "      <td>never smoked</td>\n",
              "      <td>1</td>\n",
              "    </tr>\n",
              "    <tr>\n",
              "      <th>2</th>\n",
              "      <td>Female</td>\n",
              "      <td>49.0</td>\n",
              "      <td>0</td>\n",
              "      <td>0</td>\n",
              "      <td>Yes</td>\n",
              "      <td>Private</td>\n",
              "      <td>Urban</td>\n",
              "      <td>171.23</td>\n",
              "      <td>34.4</td>\n",
              "      <td>smokes</td>\n",
              "      <td>1</td>\n",
              "    </tr>\n",
              "    <tr>\n",
              "      <th>3</th>\n",
              "      <td>Female</td>\n",
              "      <td>79.0</td>\n",
              "      <td>1</td>\n",
              "      <td>0</td>\n",
              "      <td>Yes</td>\n",
              "      <td>Self-employed</td>\n",
              "      <td>Rural</td>\n",
              "      <td>174.12</td>\n",
              "      <td>24.0</td>\n",
              "      <td>never smoked</td>\n",
              "      <td>1</td>\n",
              "    </tr>\n",
              "    <tr>\n",
              "      <th>4</th>\n",
              "      <td>Male</td>\n",
              "      <td>81.0</td>\n",
              "      <td>0</td>\n",
              "      <td>0</td>\n",
              "      <td>Yes</td>\n",
              "      <td>Private</td>\n",
              "      <td>Urban</td>\n",
              "      <td>186.21</td>\n",
              "      <td>29.0</td>\n",
              "      <td>formerly smoked</td>\n",
              "      <td>1</td>\n",
              "    </tr>\n",
              "  </tbody>\n",
              "</table>\n",
              "</div>\n",
              "      <button class=\"colab-df-convert\" onclick=\"convertToInteractive('df-851147f0-08da-48e6-b924-e0f9d4ea38e6')\"\n",
              "              title=\"Convert this dataframe to an interactive table.\"\n",
              "              style=\"display:none;\">\n",
              "        \n",
              "  <svg xmlns=\"http://www.w3.org/2000/svg\" height=\"24px\"viewBox=\"0 0 24 24\"\n",
              "       width=\"24px\">\n",
              "    <path d=\"M0 0h24v24H0V0z\" fill=\"none\"/>\n",
              "    <path d=\"M18.56 5.44l.94 2.06.94-2.06 2.06-.94-2.06-.94-.94-2.06-.94 2.06-2.06.94zm-11 1L8.5 8.5l.94-2.06 2.06-.94-2.06-.94L8.5 2.5l-.94 2.06-2.06.94zm10 10l.94 2.06.94-2.06 2.06-.94-2.06-.94-.94-2.06-.94 2.06-2.06.94z\"/><path d=\"M17.41 7.96l-1.37-1.37c-.4-.4-.92-.59-1.43-.59-.52 0-1.04.2-1.43.59L10.3 9.45l-7.72 7.72c-.78.78-.78 2.05 0 2.83L4 21.41c.39.39.9.59 1.41.59.51 0 1.02-.2 1.41-.59l7.78-7.78 2.81-2.81c.8-.78.8-2.07 0-2.86zM5.41 20L4 18.59l7.72-7.72 1.47 1.35L5.41 20z\"/>\n",
              "  </svg>\n",
              "      </button>\n",
              "      \n",
              "  <style>\n",
              "    .colab-df-container {\n",
              "      display:flex;\n",
              "      flex-wrap:wrap;\n",
              "      gap: 12px;\n",
              "    }\n",
              "\n",
              "    .colab-df-convert {\n",
              "      background-color: #E8F0FE;\n",
              "      border: none;\n",
              "      border-radius: 50%;\n",
              "      cursor: pointer;\n",
              "      display: none;\n",
              "      fill: #1967D2;\n",
              "      height: 32px;\n",
              "      padding: 0 0 0 0;\n",
              "      width: 32px;\n",
              "    }\n",
              "\n",
              "    .colab-df-convert:hover {\n",
              "      background-color: #E2EBFA;\n",
              "      box-shadow: 0px 1px 2px rgba(60, 64, 67, 0.3), 0px 1px 3px 1px rgba(60, 64, 67, 0.15);\n",
              "      fill: #174EA6;\n",
              "    }\n",
              "\n",
              "    [theme=dark] .colab-df-convert {\n",
              "      background-color: #3B4455;\n",
              "      fill: #D2E3FC;\n",
              "    }\n",
              "\n",
              "    [theme=dark] .colab-df-convert:hover {\n",
              "      background-color: #434B5C;\n",
              "      box-shadow: 0px 1px 3px 1px rgba(0, 0, 0, 0.15);\n",
              "      filter: drop-shadow(0px 1px 2px rgba(0, 0, 0, 0.3));\n",
              "      fill: #FFFFFF;\n",
              "    }\n",
              "  </style>\n",
              "\n",
              "      <script>\n",
              "        const buttonEl =\n",
              "          document.querySelector('#df-851147f0-08da-48e6-b924-e0f9d4ea38e6 button.colab-df-convert');\n",
              "        buttonEl.style.display =\n",
              "          google.colab.kernel.accessAllowed ? 'block' : 'none';\n",
              "\n",
              "        async function convertToInteractive(key) {\n",
              "          const element = document.querySelector('#df-851147f0-08da-48e6-b924-e0f9d4ea38e6');\n",
              "          const dataTable =\n",
              "            await google.colab.kernel.invokeFunction('convertToInteractive',\n",
              "                                                     [key], {});\n",
              "          if (!dataTable) return;\n",
              "\n",
              "          const docLinkHtml = 'Like what you see? Visit the ' +\n",
              "            '<a target=\"_blank\" href=https://colab.research.google.com/notebooks/data_table.ipynb>data table notebook</a>'\n",
              "            + ' to learn more about interactive tables.';\n",
              "          element.innerHTML = '';\n",
              "          dataTable['output_type'] = 'display_data';\n",
              "          await google.colab.output.renderOutput(dataTable, element);\n",
              "          const docLink = document.createElement('div');\n",
              "          docLink.innerHTML = docLinkHtml;\n",
              "          element.appendChild(docLink);\n",
              "        }\n",
              "      </script>\n",
              "    </div>\n",
              "  </div>\n",
              "  "
            ]
          },
          "metadata": {},
          "execution_count": 6
        }
      ],
      "source": [
        "path = '/content/stroke_dataset.csv'\n",
        "df = pd.read_csv(path)\n",
        "df.head()"
      ]
    },
    {
      "cell_type": "markdown",
      "id": "6fe5964e-ee79-4b16-8ea8-49952d930d44",
      "metadata": {
        "id": "6fe5964e-ee79-4b16-8ea8-49952d930d44"
      },
      "source": [
        "# **EDA**"
      ]
    },
    {
      "cell_type": "code",
      "execution_count": 7,
      "id": "1958696a-ca6c-4bf5-976d-3c8e27e4cf28",
      "metadata": {
        "colab": {
          "base_uri": "https://localhost:8080/"
        },
        "id": "1958696a-ca6c-4bf5-976d-3c8e27e4cf28",
        "outputId": "127d4e2f-bad1-4f2d-c155-838c708775a2"
      },
      "outputs": [
        {
          "output_type": "stream",
          "name": "stdout",
          "text": [
            "<class 'pandas.core.frame.DataFrame'>\n",
            "RangeIndex: 4981 entries, 0 to 4980\n",
            "Data columns (total 11 columns):\n",
            " #   Column             Non-Null Count  Dtype  \n",
            "---  ------             --------------  -----  \n",
            " 0   gender             4981 non-null   object \n",
            " 1   age                4981 non-null   float64\n",
            " 2   hypertension       4981 non-null   int64  \n",
            " 3   heart_disease      4981 non-null   int64  \n",
            " 4   ever_married       4981 non-null   object \n",
            " 5   work_type          4981 non-null   object \n",
            " 6   Residence_type     4981 non-null   object \n",
            " 7   avg_glucose_level  4981 non-null   float64\n",
            " 8   bmi                4981 non-null   float64\n",
            " 9   smoking_status     4981 non-null   object \n",
            " 10  stroke             4981 non-null   int64  \n",
            "dtypes: float64(3), int64(3), object(5)\n",
            "memory usage: 428.2+ KB\n"
          ]
        }
      ],
      "source": [
        "df.info()"
      ]
    },
    {
      "cell_type": "code",
      "execution_count": 8,
      "id": "403d5caf-ece1-4b13-9bda-0591da2b31fc",
      "metadata": {
        "colab": {
          "base_uri": "https://localhost:8080/"
        },
        "id": "403d5caf-ece1-4b13-9bda-0591da2b31fc",
        "outputId": "a4aa0ac4-a22a-4c8e-8e9f-93beb634d805"
      },
      "outputs": [
        {
          "output_type": "execute_result",
          "data": {
            "text/plain": [
              "Private          2860\n",
              "Self-employed     804\n",
              "children          673\n",
              "Govt_job          644\n",
              "Name: work_type, dtype: int64"
            ]
          },
          "metadata": {},
          "execution_count": 8
        }
      ],
      "source": [
        "df[\"work_type\"].value_counts()"
      ]
    },
    {
      "cell_type": "markdown",
      "id": "d353c999-0f21-4831-892b-b64e5806b658",
      "metadata": {
        "id": "d353c999-0f21-4831-892b-b64e5806b658"
      },
      "source": [
        "## Tipos de opciones por columna"
      ]
    },
    {
      "cell_type": "code",
      "execution_count": 9,
      "id": "c958ffb3-15cc-4910-b69b-94ab01ec36e2",
      "metadata": {
        "colab": {
          "base_uri": "https://localhost:8080/"
        },
        "id": "c958ffb3-15cc-4910-b69b-94ab01ec36e2",
        "outputId": "b1651131-c34c-4f6d-f533-6c20e9d12f21"
      },
      "outputs": [
        {
          "output_type": "stream",
          "name": "stdout",
          "text": [
            "Valores en 'work_type':\n",
            "\tPrivate\n",
            "\tSelf-employed\n",
            "\tGovt_job\n",
            "\tchildren\n",
            "\n",
            "Valores en 'Residence_type':\n",
            "\tUrban\n",
            "\tRural\n",
            "\n",
            "Valores en 'smoking_status':\n",
            "\tformerly smoked\n",
            "\tnever smoked\n",
            "\tsmokes\n",
            "\tUnknown\n",
            "\n"
          ]
        }
      ],
      "source": [
        "for col in [\"work_type\", \"Residence_type\", \"smoking_status\"]:\n",
        "    print(f\"Valores en '{col}':\")\n",
        "    for i in df[col].unique():\n",
        "        print(\"\\t\"+str(i))\n",
        "    print()"
      ]
    },
    {
      "cell_type": "markdown",
      "id": "00e6833a-4ac5-473f-83b2-b7cba99f3c05",
      "metadata": {
        "id": "00e6833a-4ac5-473f-83b2-b7cba99f3c05"
      },
      "source": [
        "## Datos nulos"
      ]
    },
    {
      "cell_type": "code",
      "execution_count": 10,
      "id": "b62d762b-d519-4611-95dd-e3bd2d21b427",
      "metadata": {
        "colab": {
          "base_uri": "https://localhost:8080/"
        },
        "id": "b62d762b-d519-4611-95dd-e3bd2d21b427",
        "outputId": "00b2796e-f2fd-4c3d-90a6-b93c59310b92"
      },
      "outputs": [
        {
          "output_type": "execute_result",
          "data": {
            "text/plain": [
              "gender               0\n",
              "age                  0\n",
              "hypertension         0\n",
              "heart_disease        0\n",
              "ever_married         0\n",
              "work_type            0\n",
              "Residence_type       0\n",
              "avg_glucose_level    0\n",
              "bmi                  0\n",
              "smoking_status       0\n",
              "stroke               0\n",
              "dtype: int64"
            ]
          },
          "metadata": {},
          "execution_count": 10
        }
      ],
      "source": [
        "df.isnull().sum()"
      ]
    },
    {
      "cell_type": "markdown",
      "id": "d2b2c616-1d8a-4251-8cb0-bc16e9234ace",
      "metadata": {
        "id": "d2b2c616-1d8a-4251-8cb0-bc16e9234ace"
      },
      "source": [
        "### Veamos de cuantas filas tenemos y cuantas hay :"
      ]
    },
    {
      "cell_type": "code",
      "execution_count": 11,
      "id": "011db5dc-62fc-4253-be02-d3658e35f208",
      "metadata": {
        "colab": {
          "base_uri": "https://localhost:8080/"
        },
        "id": "011db5dc-62fc-4253-be02-d3658e35f208",
        "outputId": "46c69df3-9212-4dac-9f20-c698cacaaf79"
      },
      "outputs": [
        {
          "output_type": "stream",
          "name": "stdout",
          "text": [
            "(4981, 11)\n",
            "0    4733\n",
            "1     248\n",
            "Name: stroke, dtype: int64\n"
          ]
        }
      ],
      "source": [
        "print(df.shape)\n",
        "print(pd.value_counts(df['stroke'], sort = True))"
      ]
    },
    {
      "cell_type": "markdown",
      "id": "b4aad517-6d39-4a0d-8e6a-6467cc9cba6f",
      "metadata": {
        "id": "b4aad517-6d39-4a0d-8e6a-6467cc9cba6f"
      },
      "source": [
        "## Boxplot para ver outliers"
      ]
    },
    {
      "cell_type": "code",
      "execution_count": 12,
      "id": "e342f48c-5737-4089-983c-6410f1bed60d",
      "metadata": {
        "colab": {
          "base_uri": "https://localhost:8080/",
          "height": 283
        },
        "id": "e342f48c-5737-4089-983c-6410f1bed60d",
        "outputId": "86b5b91f-2ec5-4aa5-e98e-3877e6372e57"
      },
      "outputs": [
        {
          "output_type": "execute_result",
          "data": {
            "text/plain": [
              "<matplotlib.axes._subplots.AxesSubplot at 0x7f7a0c0ff910>"
            ]
          },
          "metadata": {},
          "execution_count": 12
        },
        {
          "output_type": "display_data",
          "data": {
            "text/plain": [
              "<Figure size 432x288 with 1 Axes>"
            ],
            "image/png": "[encoded data removed]"
          },
          "metadata": {
            "needs_background": "light"
          }
        }
      ],
      "source": [
        "sns.boxplot(data=df)"
      ]
    },
    {
      "cell_type": "markdown",
      "id": "a8025a58-f2c8-4d0f-9967-c99d00c7353d",
      "metadata": {
        "id": "a8025a58-f2c8-4d0f-9967-c99d00c7353d"
      },
      "source": [
        "## Scatterplots para aclarar variables predictoras más importantes"
      ]
    },
    {
      "cell_type": "markdown",
      "id": "kbajdvDpG17e",
      "metadata": {
        "id": "kbajdvDpG17e"
      },
      "source": [
        "### La variable predictora más importante en nuestro dataset es la edad. Cuando observamos nuestra variable de edad, podemos ver que sólo a partir de los 40 años la gente empieza a tener Ictus, y los casos por debajo de esa edad son muy raros. La tendencia es que cuanto mayor es la persona, más probable es que tenga un Ictus"
      ]
    },
    {
      "cell_type": "code",
      "execution_count": 13,
      "id": "J5-CB7J3GnyG",
      "metadata": {
        "colab": {
          "base_uri": "https://localhost:8080/",
          "height": 386
        },
        "id": "J5-CB7J3GnyG",
        "outputId": "b340779d-fb27-41ec-944d-f29063628fbe"
      },
      "outputs": [
        {
          "output_type": "execute_result",
          "data": {
            "text/plain": [
              "<seaborn.axisgrid.FacetGrid at 0x7f7a0bfdd990>"
            ]
          },
          "metadata": {},
          "execution_count": 13
        },
        {
          "output_type": "display_data",
          "data": {
            "text/plain": [
              "<Figure size 360x360 with 1 Axes>"
            ],
            "image/png": "[encoded data removed]"
          },
          "metadata": {
            "needs_background": "light"
          }
        }
      ],
      "source": [
        "sns.catplot(x = \"stroke\", y = \"age\", palette = \"Set2\", data = df)"
      ]
    },
    {
      "cell_type": "markdown",
      "id": "q20mU3MOGCTT",
      "metadata": {
        "id": "q20mU3MOGCTT"
      },
      "source": [
        "### El rango de glucosa concentrado esta en el rango de 60 a 120"
      ]
    },
    {
      "cell_type": "code",
      "execution_count": 14,
      "id": "cNGtPBvQF-5t",
      "metadata": {
        "colab": {
          "base_uri": "https://localhost:8080/",
          "height": 386
        },
        "id": "cNGtPBvQF-5t",
        "outputId": "e636233d-bf26-42f6-b585-1f38d7f40243"
      },
      "outputs": [
        {
          "output_type": "execute_result",
          "data": {
            "text/plain": [
              "<seaborn.axisgrid.FacetGrid at 0x7f7a0bfd24d0>"
            ]
          },
          "metadata": {},
          "execution_count": 14
        },
        {
          "output_type": "display_data",
          "data": {
            "text/plain": [
              "<Figure size 360x360 with 1 Axes>"
            ],
            "image/png": "[encoded data removed]"
          },
          "metadata": {
            "needs_background": "light"
          }
        }
      ],
      "source": [
        "sns.catplot(x = \"stroke\", y = \"avg_glucose_level\", palette = \"Set2\", data = df)"
      ]
    },
    {
      "cell_type": "markdown",
      "id": "T-IWp4tJEJ9c",
      "metadata": {
        "id": "T-IWp4tJEJ9c"
      },
      "source": [
        "### Si miramos el BMI podemos ver que es más común que la gente tenga un accidente cerebrovascular cuando el BMI está en la media, ni muy alto ni muy bajo."
      ]
    },
    {
      "cell_type": "code",
      "execution_count": 15,
      "id": "bsHMSf7tEGeK",
      "metadata": {
        "colab": {
          "base_uri": "https://localhost:8080/",
          "height": 386
        },
        "id": "bsHMSf7tEGeK",
        "outputId": "4b505152-6d7d-4dcf-da7e-d938ca1fcd2b"
      },
      "outputs": [
        {
          "output_type": "execute_result",
          "data": {
            "text/plain": [
              "<seaborn.axisgrid.FacetGrid at 0x7f7a092cf690>"
            ]
          },
          "metadata": {},
          "execution_count": 15
        },
        {
          "output_type": "display_data",
          "data": {
            "text/plain": [
              "<Figure size 360x360 with 1 Axes>"
            ],
            "image/png": "[encoded data removed]"
          },
          "metadata": {
            "needs_background": "light"
          }
        }
      ],
      "source": [
        "sns.catplot(x = \"stroke\", y = \"bmi\", palette = \"Set2\", data = df)"
      ]
    },
    {
      "cell_type": "code",
      "execution_count": 16,
      "id": "48011ad7-f99f-4535-af40-164a8033b990",
      "metadata": {
        "colab": {
          "base_uri": "https://localhost:8080/",
          "height": 300
        },
        "id": "48011ad7-f99f-4535-af40-164a8033b990",
        "outputId": "8d6aee1f-4acc-4cfa-87e5-c01bf27a8221"
      },
      "outputs": [
        {
          "output_type": "execute_result",
          "data": {
            "text/plain": [
              "               age  hypertension  heart_disease  avg_glucose_level  \\\n",
              "count  4981.000000   4981.000000    4981.000000        4981.000000   \n",
              "mean     43.419859      0.096165       0.055210         105.943562   \n",
              "std      22.662755      0.294848       0.228412          45.075373   \n",
              "min       0.080000      0.000000       0.000000          55.120000   \n",
              "25%      25.000000      0.000000       0.000000          77.230000   \n",
              "50%      45.000000      0.000000       0.000000          91.850000   \n",
              "75%      61.000000      0.000000       0.000000         113.860000   \n",
              "max      82.000000      1.000000       1.000000         271.740000   \n",
              "\n",
              "               bmi       stroke  \n",
              "count  4981.000000  4981.000000  \n",
              "mean     28.498173     0.049789  \n",
              "std       6.790464     0.217531  \n",
              "min      14.000000     0.000000  \n",
              "25%      23.700000     0.000000  \n",
              "50%      28.100000     0.000000  \n",
              "75%      32.600000     0.000000  \n",
              "max      48.900000     1.000000  "
            ],
            "text/html": [
              "\n",
              "  <div id=\"df-d460a27b-3ef5-4900-a415-f10a53ea1bae\">\n",
              "    <div class=\"colab-df-container\">\n",
              "      <div>\n",
              "<style scoped>\n",
              "    .dataframe tbody tr th:only-of-type {\n",
              "        vertical-align: middle;\n",
              "    }\n",
              "\n",
              "    .dataframe tbody tr th {\n",
              "        vertical-align: top;\n",
              "    }\n",
              "\n",
              "    .dataframe thead th {\n",
              "        text-align: right;\n",
              "    }\n",
              "</style>\n",
              "<table border=\"1\" class=\"dataframe\">\n",
              "  <thead>\n",
              "    <tr style=\"text-align: right;\">\n",
              "      <th></th>\n",
              "      <th>age</th>\n",
              "      <th>hypertension</th>\n",
              "      <th>heart_disease</th>\n",
              "      <th>avg_glucose_level</th>\n",
              "      <th>bmi</th>\n",
              "      <th>stroke</th>\n",
              "    </tr>\n",
              "  </thead>\n",
              "  <tbody>\n",
              "    <tr>\n",
              "      <th>count</th>\n",
              "      <td>4981.000000</td>\n",
              "      <td>4981.000000</td>\n",
              "      <td>4981.000000</td>\n",
              "      <td>4981.000000</td>\n",
              "      <td>4981.000000</td>\n",
              "      <td>4981.000000</td>\n",
              "    </tr>\n",
              "    <tr>\n",
              "      <th>mean</th>\n",
              "      <td>43.419859</td>\n",
              "      <td>0.096165</td>\n",
              "      <td>0.055210</td>\n",
              "      <td>105.943562</td>\n",
              "      <td>28.498173</td>\n",
              "      <td>0.049789</td>\n",
              "    </tr>\n",
              "    <tr>\n",
              "      <th>std</th>\n",
              "      <td>22.662755</td>\n",
              "      <td>0.294848</td>\n",
              "      <td>0.228412</td>\n",
              "      <td>45.075373</td>\n",
              "      <td>6.790464</td>\n",
              "      <td>0.217531</td>\n",
              "    </tr>\n",
              "    <tr>\n",
              "      <th>min</th>\n",
              "      <td>0.080000</td>\n",
              "      <td>0.000000</td>\n",
              "      <td>0.000000</td>\n",
              "      <td>55.120000</td>\n",
              "      <td>14.000000</td>\n",
              "      <td>0.000000</td>\n",
              "    </tr>\n",
              "    <tr>\n",
              "      <th>25%</th>\n",
              "      <td>25.000000</td>\n",
              "      <td>0.000000</td>\n",
              "      <td>0.000000</td>\n",
              "      <td>77.230000</td>\n",
              "      <td>23.700000</td>\n",
              "      <td>0.000000</td>\n",
              "    </tr>\n",
              "    <tr>\n",
              "      <th>50%</th>\n",
              "      <td>45.000000</td>\n",
              "      <td>0.000000</td>\n",
              "      <td>0.000000</td>\n",
              "      <td>91.850000</td>\n",
              "      <td>28.100000</td>\n",
              "      <td>0.000000</td>\n",
              "    </tr>\n",
              "    <tr>\n",
              "      <th>75%</th>\n",
              "      <td>61.000000</td>\n",
              "      <td>0.000000</td>\n",
              "      <td>0.000000</td>\n",
              "      <td>113.860000</td>\n",
              "      <td>32.600000</td>\n",
              "      <td>0.000000</td>\n",
              "    </tr>\n",
              "    <tr>\n",
              "      <th>max</th>\n",
              "      <td>82.000000</td>\n",
              "      <td>1.000000</td>\n",
              "      <td>1.000000</td>\n",
              "      <td>271.740000</td>\n",
              "      <td>48.900000</td>\n",
              "      <td>1.000000</td>\n",
              "    </tr>\n",
              "  </tbody>\n",
              "</table>\n",
              "</div>\n",
              "      <button class=\"colab-df-convert\" onclick=\"convertToInteractive('df-d460a27b-3ef5-4900-a415-f10a53ea1bae')\"\n",
              "              title=\"Convert this dataframe to an interactive table.\"\n",
              "              style=\"display:none;\">\n",
              "        \n",
              "  <svg xmlns=\"http://www.w3.org/2000/svg\" height=\"24px\"viewBox=\"0 0 24 24\"\n",
              "       width=\"24px\">\n",
              "    <path d=\"M0 0h24v24H0V0z\" fill=\"none\"/>\n",
              "    <path d=\"M18.56 5.44l.94 2.06.94-2.06 2.06-.94-2.06-.94-.94-2.06-.94 2.06-2.06.94zm-11 1L8.5 8.5l.94-2.06 2.06-.94-2.06-.94L8.5 2.5l-.94 2.06-2.06.94zm10 10l.94 2.06.94-2.06 2.06-.94-2.06-.94-.94-2.06-.94 2.06-2.06.94z\"/><path d=\"M17.41 7.96l-1.37-1.37c-.4-.4-.92-.59-1.43-.59-.52 0-1.04.2-1.43.59L10.3 9.45l-7.72 7.72c-.78.78-.78 2.05 0 2.83L4 21.41c.39.39.9.59 1.41.59.51 0 1.02-.2 1.41-.59l7.78-7.78 2.81-2.81c.8-.78.8-2.07 0-2.86zM5.41 20L4 18.59l7.72-7.72 1.47 1.35L5.41 20z\"/>\n",
              "  </svg>\n",
              "      </button>\n",
              "      \n",
              "  <style>\n",
              "    .colab-df-container {\n",
              "      display:flex;\n",
              "      flex-wrap:wrap;\n",
              "      gap: 12px;\n",
              "    }\n",
              "\n",
              "    .colab-df-convert {\n",
              "      background-color: #E8F0FE;\n",
              "      border: none;\n",
              "      border-radius: 50%;\n",
              "      cursor: pointer;\n",
              "      display: none;\n",
              "      fill: #1967D2;\n",
              "      height: 32px;\n",
              "      padding: 0 0 0 0;\n",
              "      width: 32px;\n",
              "    }\n",
              "\n",
              "    .colab-df-convert:hover {\n",
              "      background-color: #E2EBFA;\n",
              "      box-shadow: 0px 1px 2px rgba(60, 64, 67, 0.3), 0px 1px 3px 1px rgba(60, 64, 67, 0.15);\n",
              "      fill: #174EA6;\n",
              "    }\n",
              "\n",
              "    [theme=dark] .colab-df-convert {\n",
              "      background-color: #3B4455;\n",
              "      fill: #D2E3FC;\n",
              "    }\n",
              "\n",
              "    [theme=dark] .colab-df-convert:hover {\n",
              "      background-color: #434B5C;\n",
              "      box-shadow: 0px 1px 3px 1px rgba(0, 0, 0, 0.15);\n",
              "      filter: drop-shadow(0px 1px 2px rgba(0, 0, 0, 0.3));\n",
              "      fill: #FFFFFF;\n",
              "    }\n",
              "  </style>\n",
              "\n",
              "      <script>\n",
              "        const buttonEl =\n",
              "          document.querySelector('#df-d460a27b-3ef5-4900-a415-f10a53ea1bae button.colab-df-convert');\n",
              "        buttonEl.style.display =\n",
              "          google.colab.kernel.accessAllowed ? 'block' : 'none';\n",
              "\n",
              "        async function convertToInteractive(key) {\n",
              "          const element = document.querySelector('#df-d460a27b-3ef5-4900-a415-f10a53ea1bae');\n",
              "          const dataTable =\n",
              "            await google.colab.kernel.invokeFunction('convertToInteractive',\n",
              "                                                     [key], {});\n",
              "          if (!dataTable) return;\n",
              "\n",
              "          const docLinkHtml = 'Like what you see? Visit the ' +\n",
              "            '<a target=\"_blank\" href=https://colab.research.google.com/notebooks/data_table.ipynb>data table notebook</a>'\n",
              "            + ' to learn more about interactive tables.';\n",
              "          element.innerHTML = '';\n",
              "          dataTable['output_type'] = 'display_data';\n",
              "          await google.colab.output.renderOutput(dataTable, element);\n",
              "          const docLink = document.createElement('div');\n",
              "          docLink.innerHTML = docLinkHtml;\n",
              "          element.appendChild(docLink);\n",
              "        }\n",
              "      </script>\n",
              "    </div>\n",
              "  </div>\n",
              "  "
            ]
          },
          "metadata": {},
          "execution_count": 16
        }
      ],
      "source": [
        "df.describe()"
      ]
    },
    {
      "cell_type": "markdown",
      "id": "sWqqbPXCJdDn",
      "metadata": {
        "id": "sWqqbPXCJdDn"
      },
      "source": [
        "# Preparación del modelo"
      ]
    },
    {
      "cell_type": "markdown",
      "id": "kG7Sv-dYJU8x",
      "metadata": {
        "id": "kG7Sv-dYJU8x"
      },
      "source": [
        "## Separamos las variables predictorasy la objetivo"
      ]
    },
    {
      "cell_type": "code",
      "execution_count": 17,
      "id": "7714f9ae-525b-4306-8256-cca133368726",
      "metadata": {
        "id": "7714f9ae-525b-4306-8256-cca133368726"
      },
      "outputs": [],
      "source": [
        "X = df.drop(\"stroke\", axis = 1)\n",
        "y = df[\"stroke\"]"
      ]
    },
    {
      "cell_type": "code",
      "execution_count": 18,
      "id": "5dc023d0-22d6-462d-b0b5-a274f4bc2f30",
      "metadata": {
        "colab": {
          "base_uri": "https://localhost:8080/",
          "height": 322
        },
        "id": "5dc023d0-22d6-462d-b0b5-a274f4bc2f30",
        "outputId": "f7275150-7b02-4a73-8a0f-35f5fc6ade94"
      },
      "outputs": [
        {
          "output_type": "execute_result",
          "data": {
            "text/plain": [
              "   gender   age  hypertension  heart_disease ever_married      work_type  \\\n",
              "0    Male  67.0             0              1          Yes        Private   \n",
              "1    Male  80.0             0              1          Yes        Private   \n",
              "2  Female  49.0             0              0          Yes        Private   \n",
              "3  Female  79.0             1              0          Yes  Self-employed   \n",
              "4    Male  81.0             0              0          Yes        Private   \n",
              "\n",
              "  Residence_type  avg_glucose_level   bmi   smoking_status  \n",
              "0          Urban             228.69  36.6  formerly smoked  \n",
              "1          Rural             105.92  32.5     never smoked  \n",
              "2          Urban             171.23  34.4           smokes  \n",
              "3          Rural             174.12  24.0     never smoked  \n",
              "4          Urban             186.21  29.0  formerly smoked  "
            ],
            "text/html": [
              "\n",
              "  <div id=\"df-aa9c010d-ac23-4384-9564-a5e0d40c976b\">\n",
              "    <div class=\"colab-df-container\">\n",
              "      <div>\n",
              "<style scoped>\n",
              "    .dataframe tbody tr th:only-of-type {\n",
              "        vertical-align: middle;\n",
              "    }\n",
              "\n",
              "    .dataframe tbody tr th {\n",
              "        vertical-align: top;\n",
              "    }\n",
              "\n",
              "    .dataframe thead th {\n",
              "        text-align: right;\n",
              "    }\n",
              "</style>\n",
              "<table border=\"1\" class=\"dataframe\">\n",
              "  <thead>\n",
              "    <tr style=\"text-align: right;\">\n",
              "      <th></th>\n",
              "      <th>gender</th>\n",
              "      <th>age</th>\n",
              "      <th>hypertension</th>\n",
              "      <th>heart_disease</th>\n",
              "      <th>ever_married</th>\n",
              "      <th>work_type</th>\n",
              "      <th>Residence_type</th>\n",
              "      <th>avg_glucose_level</th>\n",
              "      <th>bmi</th>\n",
              "      <th>smoking_status</th>\n",
              "    </tr>\n",
              "  </thead>\n",
              "  <tbody>\n",
              "    <tr>\n",
              "      <th>0</th>\n",
              "      <td>Male</td>\n",
              "      <td>67.0</td>\n",
              "      <td>0</td>\n",
              "      <td>1</td>\n",
              "      <td>Yes</td>\n",
              "      <td>Private</td>\n",
              "      <td>Urban</td>\n",
              "      <td>228.69</td>\n",
              "      <td>36.6</td>\n",
              "      <td>formerly smoked</td>\n",
              "    </tr>\n",
              "    <tr>\n",
              "      <th>1</th>\n",
              "      <td>Male</td>\n",
              "      <td>80.0</td>\n",
              "      <td>0</td>\n",
              "      <td>1</td>\n",
              "      <td>Yes</td>\n",
              "      <td>Private</td>\n",
              "      <td>Rural</td>\n",
              "      <td>105.92</td>\n",
              "      <td>32.5</td>\n",
              "      <td>never smoked</td>\n",
              "    </tr>\n",
              "    <tr>\n",
              "      <th>2</th>\n",
              "      <td>Female</td>\n",
              "      <td>49.0</td>\n",
              "      <td>0</td>\n",
              "      <td>0</td>\n",
              "      <td>Yes</td>\n",
              "      <td>Private</td>\n",
              "      <td>Urban</td>\n",
              "      <td>171.23</td>\n",
              "      <td>34.4</td>\n",
              "      <td>smokes</td>\n",
              "    </tr>\n",
              "    <tr>\n",
              "      <th>3</th>\n",
              "      <td>Female</td>\n",
              "      <td>79.0</td>\n",
              "      <td>1</td>\n",
              "      <td>0</td>\n",
              "      <td>Yes</td>\n",
              "      <td>Self-employed</td>\n",
              "      <td>Rural</td>\n",
              "      <td>174.12</td>\n",
              "      <td>24.0</td>\n",
              "      <td>never smoked</td>\n",
              "    </tr>\n",
              "    <tr>\n",
              "      <th>4</th>\n",
              "      <td>Male</td>\n",
              "      <td>81.0</td>\n",
              "      <td>0</td>\n",
              "      <td>0</td>\n",
              "      <td>Yes</td>\n",
              "      <td>Private</td>\n",
              "      <td>Urban</td>\n",
              "      <td>186.21</td>\n",
              "      <td>29.0</td>\n",
              "      <td>formerly smoked</td>\n",
              "    </tr>\n",
              "  </tbody>\n",
              "</table>\n",
              "</div>\n",
              "      <button class=\"colab-df-convert\" onclick=\"convertToInteractive('df-aa9c010d-ac23-4384-9564-a5e0d40c976b')\"\n",
              "              title=\"Convert this dataframe to an interactive table.\"\n",
              "              style=\"display:none;\">\n",
              "        \n",
              "  <svg xmlns=\"http://www.w3.org/2000/svg\" height=\"24px\"viewBox=\"0 0 24 24\"\n",
              "       width=\"24px\">\n",
              "    <path d=\"M0 0h24v24H0V0z\" fill=\"none\"/>\n",
              "    <path d=\"M18.56 5.44l.94 2.06.94-2.06 2.06-.94-2.06-.94-.94-2.06-.94 2.06-2.06.94zm-11 1L8.5 8.5l.94-2.06 2.06-.94-2.06-.94L8.5 2.5l-.94 2.06-2.06.94zm10 10l.94 2.06.94-2.06 2.06-.94-2.06-.94-.94-2.06-.94 2.06-2.06.94z\"/><path d=\"M17.41 7.96l-1.37-1.37c-.4-.4-.92-.59-1.43-.59-.52 0-1.04.2-1.43.59L10.3 9.45l-7.72 7.72c-.78.78-.78 2.05 0 2.83L4 21.41c.39.39.9.59 1.41.59.51 0 1.02-.2 1.41-.59l7.78-7.78 2.81-2.81c.8-.78.8-2.07 0-2.86zM5.41 20L4 18.59l7.72-7.72 1.47 1.35L5.41 20z\"/>\n",
              "  </svg>\n",
              "      </button>\n",
              "      \n",
              "  <style>\n",
              "    .colab-df-container {\n",
              "      display:flex;\n",
              "      flex-wrap:wrap;\n",
              "      gap: 12px;\n",
              "    }\n",
              "\n",
              "    .colab-df-convert {\n",
              "      background-color: #E8F0FE;\n",
              "      border: none;\n",
              "      border-radius: 50%;\n",
              "      cursor: pointer;\n",
              "      display: none;\n",
              "      fill: #1967D2;\n",
              "      height: 32px;\n",
              "      padding: 0 0 0 0;\n",
              "      width: 32px;\n",
              "    }\n",
              "\n",
              "    .colab-df-convert:hover {\n",
              "      background-color: #E2EBFA;\n",
              "      box-shadow: 0px 1px 2px rgba(60, 64, 67, 0.3), 0px 1px 3px 1px rgba(60, 64, 67, 0.15);\n",
              "      fill: #174EA6;\n",
              "    }\n",
              "\n",
              "    [theme=dark] .colab-df-convert {\n",
              "      background-color: #3B4455;\n",
              "      fill: #D2E3FC;\n",
              "    }\n",
              "\n",
              "    [theme=dark] .colab-df-convert:hover {\n",
              "      background-color: #434B5C;\n",
              "      box-shadow: 0px 1px 3px 1px rgba(0, 0, 0, 0.15);\n",
              "      filter: drop-shadow(0px 1px 2px rgba(0, 0, 0, 0.3));\n",
              "      fill: #FFFFFF;\n",
              "    }\n",
              "  </style>\n",
              "\n",
              "      <script>\n",
              "        const buttonEl =\n",
              "          document.querySelector('#df-aa9c010d-ac23-4384-9564-a5e0d40c976b button.colab-df-convert');\n",
              "        buttonEl.style.display =\n",
              "          google.colab.kernel.accessAllowed ? 'block' : 'none';\n",
              "\n",
              "        async function convertToInteractive(key) {\n",
              "          const element = document.querySelector('#df-aa9c010d-ac23-4384-9564-a5e0d40c976b');\n",
              "          const dataTable =\n",
              "            await google.colab.kernel.invokeFunction('convertToInteractive',\n",
              "                                                     [key], {});\n",
              "          if (!dataTable) return;\n",
              "\n",
              "          const docLinkHtml = 'Like what you see? Visit the ' +\n",
              "            '<a target=\"_blank\" href=https://colab.research.google.com/notebooks/data_table.ipynb>data table notebook</a>'\n",
              "            + ' to learn more about interactive tables.';\n",
              "          element.innerHTML = '';\n",
              "          dataTable['output_type'] = 'display_data';\n",
              "          await google.colab.output.renderOutput(dataTable, element);\n",
              "          const docLink = document.createElement('div');\n",
              "          docLink.innerHTML = docLinkHtml;\n",
              "          element.appendChild(docLink);\n",
              "        }\n",
              "      </script>\n",
              "    </div>\n",
              "  </div>\n",
              "  "
            ]
          },
          "metadata": {},
          "execution_count": 18
        }
      ],
      "source": [
        "X.head()"
      ]
    },
    {
      "cell_type": "code",
      "execution_count": 19,
      "id": "8edbe7b1-3a2e-466b-b928-c2612a5ee94b",
      "metadata": {
        "colab": {
          "base_uri": "https://localhost:8080/"
        },
        "id": "8edbe7b1-3a2e-466b-b928-c2612a5ee94b",
        "outputId": "8dadd946-0388-41f4-f72d-4250ad3b6e02"
      },
      "outputs": [
        {
          "output_type": "execute_result",
          "data": {
            "text/plain": [
              "0    1\n",
              "1    1\n",
              "2    1\n",
              "3    1\n",
              "4    1\n",
              "Name: stroke, dtype: int64"
            ]
          },
          "metadata": {},
          "execution_count": 19
        }
      ],
      "source": [
        "y.head()"
      ]
    },
    {
      "cell_type": "markdown",
      "id": "6td4OCmFJ75Y",
      "metadata": {
        "id": "6td4OCmFJ75Y"
      },
      "source": [
        "## Transformamos"
      ]
    },
    {
      "cell_type": "markdown",
      "source": [
        "### Definimos tipos de variables"
      ],
      "metadata": {
        "id": "z4cRs-nf0r59"
      },
      "id": "z4cRs-nf0r59"
    },
    {
      "cell_type": "code",
      "execution_count": 20,
      "id": "796f7229-9eb3-43a7-bc12-5460a5083c7a",
      "metadata": {
        "id": "796f7229-9eb3-43a7-bc12-5460a5083c7a"
      },
      "outputs": [],
      "source": [
        "categoricas = [\"gender\", \"ever_married\", \"work_type\", \"Residence_type\", \"smoking_status\"]\n",
        "numericas = [\"age\", \"avg_glucose_level\", \"bmi\"]\n",
        "binarias = [\"hypertension\", \"heart_disease\"]"
      ]
    },
    {
      "cell_type": "code",
      "execution_count": 21,
      "id": "fcded680-babd-4fc0-9923-fc1377ab4c1f",
      "metadata": {
        "id": "fcded680-babd-4fc0-9923-fc1377ab4c1f"
      },
      "outputs": [],
      "source": [
        "transformer_numerico = (\"transformer_numerico\", MinMaxScaler(), numericas)\n",
        "transformer_categorico = (\"transformer_categorico\", OneHotEncoder(), categoricas)\n",
        "\n",
        "transformer = ColumnTransformer([transformer_numerico, transformer_categorico], remainder=\"passthrough\")"
      ]
    },
    {
      "cell_type": "code",
      "execution_count": 22,
      "id": "53292553-c9ed-493a-a6c5-a57acf060a2f",
      "metadata": {
        "id": "53292553-c9ed-493a-a6c5-a57acf060a2f"
      },
      "outputs": [],
      "source": [
        "X = transformer.fit_transform(X)"
      ]
    },
    {
      "cell_type": "code",
      "execution_count": 23,
      "id": "e4781256-4f1f-41a0-9bbc-c1eadebf971e",
      "metadata": {
        "colab": {
          "base_uri": "https://localhost:8080/",
          "height": 505
        },
        "id": "e4781256-4f1f-41a0-9bbc-c1eadebf971e",
        "outputId": "8594f34b-80f5-4ef4-ea27-e57a140feeab"
      },
      "outputs": [
        {
          "output_type": "execute_result",
          "data": {
            "text/plain": [
              "      transformer_numerico__age  transformer_numerico__avg_glucose_level  \\\n",
              "0                      0.816895                                 0.801265   \n",
              "1                      0.975586                                 0.234512   \n",
              "2                      0.597168                                 0.536008   \n",
              "3                      0.963379                                 0.549349   \n",
              "4                      0.987793                                 0.605161   \n",
              "...                         ...                                      ...   \n",
              "4976                   0.499512                                 0.069384   \n",
              "4977                   0.487305                                 0.627966   \n",
              "4978                   0.548340                                 0.184194   \n",
              "4979                   0.487305                                 0.133044   \n",
              "4980                   0.975586                                 0.132167   \n",
              "\n",
              "      transformer_numerico__bmi  transformer_categorico__gender_Female  \\\n",
              "0                      0.647564                                    0.0   \n",
              "1                      0.530086                                    0.0   \n",
              "2                      0.584527                                    1.0   \n",
              "3                      0.286533                                    1.0   \n",
              "4                      0.429799                                    0.0   \n",
              "...                         ...                                    ...   \n",
              "4976                   0.452722                                    0.0   \n",
              "4977                   0.489971                                    0.0   \n",
              "4978                   0.510029                                    1.0   \n",
              "4979                   0.458453                                    0.0   \n",
              "4980                   0.432665                                    1.0   \n",
              "\n",
              "      transformer_categorico__gender_Male  \\\n",
              "0                                     1.0   \n",
              "1                                     1.0   \n",
              "2                                     0.0   \n",
              "3                                     0.0   \n",
              "4                                     1.0   \n",
              "...                                   ...   \n",
              "4976                                  1.0   \n",
              "4977                                  1.0   \n",
              "4978                                  0.0   \n",
              "4979                                  1.0   \n",
              "4980                                  0.0   \n",
              "\n",
              "      transformer_categorico__ever_married_No  \\\n",
              "0                                         0.0   \n",
              "1                                         0.0   \n",
              "2                                         0.0   \n",
              "3                                         0.0   \n",
              "4                                         0.0   \n",
              "...                                       ...   \n",
              "4976                                      1.0   \n",
              "4977                                      0.0   \n",
              "4978                                      0.0   \n",
              "4979                                      0.0   \n",
              "4980                                      0.0   \n",
              "\n",
              "      transformer_categorico__ever_married_Yes  \\\n",
              "0                                          1.0   \n",
              "1                                          1.0   \n",
              "2                                          1.0   \n",
              "3                                          1.0   \n",
              "4                                          1.0   \n",
              "...                                        ...   \n",
              "4976                                       0.0   \n",
              "4977                                       1.0   \n",
              "4978                                       1.0   \n",
              "4979                                       1.0   \n",
              "4980                                       1.0   \n",
              "\n",
              "      transformer_categorico__work_type_Govt_job  \\\n",
              "0                                            0.0   \n",
              "1                                            0.0   \n",
              "2                                            0.0   \n",
              "3                                            0.0   \n",
              "4                                            0.0   \n",
              "...                                          ...   \n",
              "4976                                         0.0   \n",
              "4977                                         0.0   \n",
              "4978                                         1.0   \n",
              "4979                                         0.0   \n",
              "4980                                         0.0   \n",
              "\n",
              "      transformer_categorico__work_type_Private  \\\n",
              "0                                           1.0   \n",
              "1                                           1.0   \n",
              "2                                           1.0   \n",
              "3                                           0.0   \n",
              "4                                           1.0   \n",
              "...                                         ...   \n",
              "4976                                        1.0   \n",
              "4977                                        1.0   \n",
              "4978                                        0.0   \n",
              "4979                                        1.0   \n",
              "4980                                        1.0   \n",
              "\n",
              "      transformer_categorico__work_type_Self-employed  \\\n",
              "0                                                 0.0   \n",
              "1                                                 0.0   \n",
              "2                                                 0.0   \n",
              "3                                                 1.0   \n",
              "4                                                 0.0   \n",
              "...                                               ...   \n",
              "4976                                              0.0   \n",
              "4977                                              0.0   \n",
              "4978                                              0.0   \n",
              "4979                                              0.0   \n",
              "4980                                              0.0   \n",
              "\n",
              "      transformer_categorico__work_type_children  \\\n",
              "0                                            0.0   \n",
              "1                                            0.0   \n",
              "2                                            0.0   \n",
              "3                                            0.0   \n",
              "4                                            0.0   \n",
              "...                                          ...   \n",
              "4976                                         0.0   \n",
              "4977                                         0.0   \n",
              "4978                                         0.0   \n",
              "4979                                         0.0   \n",
              "4980                                         0.0   \n",
              "\n",
              "      transformer_categorico__Residence_type_Rural  \\\n",
              "0                                              0.0   \n",
              "1                                              1.0   \n",
              "2                                              0.0   \n",
              "3                                              1.0   \n",
              "4                                              0.0   \n",
              "...                                            ...   \n",
              "4976                                           1.0   \n",
              "4977                                           0.0   \n",
              "4978                                           1.0   \n",
              "4979                                           1.0   \n",
              "4980                                           0.0   \n",
              "\n",
              "      transformer_categorico__Residence_type_Urban  \\\n",
              "0                                              1.0   \n",
              "1                                              0.0   \n",
              "2                                              1.0   \n",
              "3                                              0.0   \n",
              "4                                              1.0   \n",
              "...                                            ...   \n",
              "4976                                           0.0   \n",
              "4977                                           1.0   \n",
              "4978                                           0.0   \n",
              "4979                                           0.0   \n",
              "4980                                           1.0   \n",
              "\n",
              "      transformer_categorico__smoking_status_Unknown  \\\n",
              "0                                                0.0   \n",
              "1                                                0.0   \n",
              "2                                                0.0   \n",
              "3                                                0.0   \n",
              "4                                                0.0   \n",
              "...                                              ...   \n",
              "4976                                             0.0   \n",
              "4977                                             0.0   \n",
              "4978                                             0.0   \n",
              "4979                                             0.0   \n",
              "4980                                             0.0   \n",
              "\n",
              "      transformer_categorico__smoking_status_formerly smoked  \\\n",
              "0                                                   1.0        \n",
              "1                                                   0.0        \n",
              "2                                                   0.0        \n",
              "3                                                   0.0        \n",
              "4                                                   1.0        \n",
              "...                                                 ...        \n",
              "4976                                                1.0        \n",
              "4977                                                0.0        \n",
              "4978                                                0.0        \n",
              "4979                                                0.0        \n",
              "4980                                                0.0        \n",
              "\n",
              "      transformer_categorico__smoking_status_never smoked  \\\n",
              "0                                                   0.0     \n",
              "1                                                   1.0     \n",
              "2                                                   0.0     \n",
              "3                                                   1.0     \n",
              "4                                                   0.0     \n",
              "...                                                 ...     \n",
              "4976                                                0.0     \n",
              "4977                                                0.0     \n",
              "4978                                                0.0     \n",
              "4979                                                0.0     \n",
              "4980                                                1.0     \n",
              "\n",
              "      transformer_categorico__smoking_status_smokes  remainder__hypertension  \\\n",
              "0                                               0.0                      0.0   \n",
              "1                                               0.0                      0.0   \n",
              "2                                               1.0                      0.0   \n",
              "3                                               0.0                      1.0   \n",
              "4                                               0.0                      0.0   \n",
              "...                                             ...                      ...   \n",
              "4976                                            0.0                      0.0   \n",
              "4977                                            1.0                      0.0   \n",
              "4978                                            1.0                      1.0   \n",
              "4979                                            1.0                      0.0   \n",
              "4980                                            0.0                      1.0   \n",
              "\n",
              "      remainder__heart_disease  \n",
              "0                          1.0  \n",
              "1                          1.0  \n",
              "2                          0.0  \n",
              "3                          0.0  \n",
              "4                          0.0  \n",
              "...                        ...  \n",
              "4976                       0.0  \n",
              "4977                       0.0  \n",
              "4978                       0.0  \n",
              "4979                       0.0  \n",
              "4980                       0.0  \n",
              "\n",
              "[4981 rows x 19 columns]"
            ],
            "text/html": [
              "\n",
              "  <div id=\"df-ca794e96-cb57-48fb-801d-a19dcb5cd887\">\n",
              "    <div class=\"colab-df-container\">\n",
              "      <div>\n",
              "<style scoped>\n",
              "    .dataframe tbody tr th:only-of-type {\n",
              "        vertical-align: middle;\n",
              "    }\n",
              "\n",
              "    .dataframe tbody tr th {\n",
              "        vertical-align: top;\n",
              "    }\n",
              "\n",
              "    .dataframe thead th {\n",
              "        text-align: right;\n",
              "    }\n",
              "</style>\n",
              "<table border=\"1\" class=\"dataframe\">\n",
              "  <thead>\n",
              "    <tr style=\"text-align: right;\">\n",
              "      <th></th>\n",
              "      <th>transformer_numerico__age</th>\n",
              "      <th>transformer_numerico__avg_glucose_level</th>\n",
              "      <th>transformer_numerico__bmi</th>\n",
              "      <th>transformer_categorico__gender_Female</th>\n",
              "      <th>transformer_categorico__gender_Male</th>\n",
              "      <th>transformer_categorico__ever_married_No</th>\n",
              "      <th>transformer_categorico__ever_married_Yes</th>\n",
              "      <th>transformer_categorico__work_type_Govt_job</th>\n",
              "      <th>transformer_categorico__work_type_Private</th>\n",
              "      <th>transformer_categorico__work_type_Self-employed</th>\n",
              "      <th>transformer_categorico__work_type_children</th>\n",
              "      <th>transformer_categorico__Residence_type_Rural</th>\n",
              "      <th>transformer_categorico__Residence_type_Urban</th>\n",
              "      <th>transformer_categorico__smoking_status_Unknown</th>\n",
              "      <th>transformer_categorico__smoking_status_formerly smoked</th>\n",
              "      <th>transformer_categorico__smoking_status_never smoked</th>\n",
              "      <th>transformer_categorico__smoking_status_smokes</th>\n",
              "      <th>remainder__hypertension</th>\n",
              "      <th>remainder__heart_disease</th>\n",
              "    </tr>\n",
              "  </thead>\n",
              "  <tbody>\n",
              "    <tr>\n",
              "      <th>0</th>\n",
              "      <td>0.816895</td>\n",
              "      <td>0.801265</td>\n",
              "      <td>0.647564</td>\n",
              "      <td>0.0</td>\n",
              "      <td>1.0</td>\n",
              "      <td>0.0</td>\n",
              "      <td>1.0</td>\n",
              "      <td>0.0</td>\n",
              "      <td>1.0</td>\n",
              "      <td>0.0</td>\n",
              "      <td>0.0</td>\n",
              "      <td>0.0</td>\n",
              "      <td>1.0</td>\n",
              "      <td>0.0</td>\n",
              "      <td>1.0</td>\n",
              "      <td>0.0</td>\n",
              "      <td>0.0</td>\n",
              "      <td>0.0</td>\n",
              "      <td>1.0</td>\n",
              "    </tr>\n",
              "    <tr>\n",
              "      <th>1</th>\n",
              "      <td>0.975586</td>\n",
              "      <td>0.234512</td>\n",
              "      <td>0.530086</td>\n",
              "      <td>0.0</td>\n",
              "      <td>1.0</td>\n",
              "      <td>0.0</td>\n",
              "      <td>1.0</td>\n",
              "      <td>0.0</td>\n",
              "      <td>1.0</td>\n",
              "      <td>0.0</td>\n",
              "      <td>0.0</td>\n",
              "      <td>1.0</td>\n",
              "      <td>0.0</td>\n",
              "      <td>0.0</td>\n",
              "      <td>0.0</td>\n",
              "      <td>1.0</td>\n",
              "      <td>0.0</td>\n",
              "      <td>0.0</td>\n",
              "      <td>1.0</td>\n",
              "    </tr>\n",
              "    <tr>\n",
              "      <th>2</th>\n",
              "      <td>0.597168</td>\n",
              "      <td>0.536008</td>\n",
              "      <td>0.584527</td>\n",
              "      <td>1.0</td>\n",
              "      <td>0.0</td>\n",
              "      <td>0.0</td>\n",
              "      <td>1.0</td>\n",
              "      <td>0.0</td>\n",
              "      <td>1.0</td>\n",
              "      <td>0.0</td>\n",
              "      <td>0.0</td>\n",
              "      <td>0.0</td>\n",
              "      <td>1.0</td>\n",
              "      <td>0.0</td>\n",
              "      <td>0.0</td>\n",
              "      <td>0.0</td>\n",
              "      <td>1.0</td>\n",
              "      <td>0.0</td>\n",
              "      <td>0.0</td>\n",
              "    </tr>\n",
              "    <tr>\n",
              "      <th>3</th>\n",
              "      <td>0.963379</td>\n",
              "      <td>0.549349</td>\n",
              "      <td>0.286533</td>\n",
              "      <td>1.0</td>\n",
              "      <td>0.0</td>\n",
              "      <td>0.0</td>\n",
              "      <td>1.0</td>\n",
              "      <td>0.0</td>\n",
              "      <td>0.0</td>\n",
              "      <td>1.0</td>\n",
              "      <td>0.0</td>\n",
              "      <td>1.0</td>\n",
              "      <td>0.0</td>\n",
              "      <td>0.0</td>\n",
              "      <td>0.0</td>\n",
              "      <td>1.0</td>\n",
              "      <td>0.0</td>\n",
              "      <td>1.0</td>\n",
              "      <td>0.0</td>\n",
              "    </tr>\n",
              "    <tr>\n",
              "      <th>4</th>\n",
              "      <td>0.987793</td>\n",
              "      <td>0.605161</td>\n",
              "      <td>0.429799</td>\n",
              "      <td>0.0</td>\n",
              "      <td>1.0</td>\n",
              "      <td>0.0</td>\n",
              "      <td>1.0</td>\n",
              "      <td>0.0</td>\n",
              "      <td>1.0</td>\n",
              "      <td>0.0</td>\n",
              "      <td>0.0</td>\n",
              "      <td>0.0</td>\n",
              "      <td>1.0</td>\n",
              "      <td>0.0</td>\n",
              "      <td>1.0</td>\n",
              "      <td>0.0</td>\n",
              "      <td>0.0</td>\n",
              "      <td>0.0</td>\n",
              "      <td>0.0</td>\n",
              "    </tr>\n",
              "    <tr>\n",
              "      <th>...</th>\n",
              "      <td>...</td>\n",
              "      <td>...</td>\n",
              "      <td>...</td>\n",
              "      <td>...</td>\n",
              "      <td>...</td>\n",
              "      <td>...</td>\n",
              "      <td>...</td>\n",
              "      <td>...</td>\n",
              "      <td>...</td>\n",
              "      <td>...</td>\n",
              "      <td>...</td>\n",
              "      <td>...</td>\n",
              "      <td>...</td>\n",
              "      <td>...</td>\n",
              "      <td>...</td>\n",
              "      <td>...</td>\n",
              "      <td>...</td>\n",
              "      <td>...</td>\n",
              "      <td>...</td>\n",
              "    </tr>\n",
              "    <tr>\n",
              "      <th>4976</th>\n",
              "      <td>0.499512</td>\n",
              "      <td>0.069384</td>\n",
              "      <td>0.452722</td>\n",
              "      <td>0.0</td>\n",
              "      <td>1.0</td>\n",
              "      <td>1.0</td>\n",
              "      <td>0.0</td>\n",
              "      <td>0.0</td>\n",
              "      <td>1.0</td>\n",
              "      <td>0.0</td>\n",
              "      <td>0.0</td>\n",
              "      <td>1.0</td>\n",
              "      <td>0.0</td>\n",
              "      <td>0.0</td>\n",
              "      <td>1.0</td>\n",
              "      <td>0.0</td>\n",
              "      <td>0.0</td>\n",
              "      <td>0.0</td>\n",
              "      <td>0.0</td>\n",
              "    </tr>\n",
              "    <tr>\n",
              "      <th>4977</th>\n",
              "      <td>0.487305</td>\n",
              "      <td>0.627966</td>\n",
              "      <td>0.489971</td>\n",
              "      <td>0.0</td>\n",
              "      <td>1.0</td>\n",
              "      <td>0.0</td>\n",
              "      <td>1.0</td>\n",
              "      <td>0.0</td>\n",
              "      <td>1.0</td>\n",
              "      <td>0.0</td>\n",
              "      <td>0.0</td>\n",
              "      <td>0.0</td>\n",
              "      <td>1.0</td>\n",
              "      <td>0.0</td>\n",
              "      <td>0.0</td>\n",
              "      <td>0.0</td>\n",
              "      <td>1.0</td>\n",
              "      <td>0.0</td>\n",
              "      <td>0.0</td>\n",
              "    </tr>\n",
              "    <tr>\n",
              "      <th>4978</th>\n",
              "      <td>0.548340</td>\n",
              "      <td>0.184194</td>\n",
              "      <td>0.510029</td>\n",
              "      <td>1.0</td>\n",
              "      <td>0.0</td>\n",
              "      <td>0.0</td>\n",
              "      <td>1.0</td>\n",
              "      <td>1.0</td>\n",
              "      <td>0.0</td>\n",
              "      <td>0.0</td>\n",
              "      <td>0.0</td>\n",
              "      <td>1.0</td>\n",
              "      <td>0.0</td>\n",
              "      <td>0.0</td>\n",
              "      <td>0.0</td>\n",
              "      <td>0.0</td>\n",
              "      <td>1.0</td>\n",
              "      <td>1.0</td>\n",
              "      <td>0.0</td>\n",
              "    </tr>\n",
              "    <tr>\n",
              "      <th>4979</th>\n",
              "      <td>0.487305</td>\n",
              "      <td>0.133044</td>\n",
              "      <td>0.458453</td>\n",
              "      <td>0.0</td>\n",
              "      <td>1.0</td>\n",
              "      <td>0.0</td>\n",
              "      <td>1.0</td>\n",
              "      <td>0.0</td>\n",
              "      <td>1.0</td>\n",
              "      <td>0.0</td>\n",
              "      <td>0.0</td>\n",
              "      <td>1.0</td>\n",
              "      <td>0.0</td>\n",
              "      <td>0.0</td>\n",
              "      <td>0.0</td>\n",
              "      <td>0.0</td>\n",
              "      <td>1.0</td>\n",
              "      <td>0.0</td>\n",
              "      <td>0.0</td>\n",
              "    </tr>\n",
              "    <tr>\n",
              "      <th>4980</th>\n",
              "      <td>0.975586</td>\n",
              "      <td>0.132167</td>\n",
              "      <td>0.432665</td>\n",
              "      <td>1.0</td>\n",
              "      <td>0.0</td>\n",
              "      <td>0.0</td>\n",
              "      <td>1.0</td>\n",
              "      <td>0.0</td>\n",
              "      <td>1.0</td>\n",
              "      <td>0.0</td>\n",
              "      <td>0.0</td>\n",
              "      <td>0.0</td>\n",
              "      <td>1.0</td>\n",
              "      <td>0.0</td>\n",
              "      <td>0.0</td>\n",
              "      <td>1.0</td>\n",
              "      <td>0.0</td>\n",
              "      <td>1.0</td>\n",
              "      <td>0.0</td>\n",
              "    </tr>\n",
              "  </tbody>\n",
              "</table>\n",
              "<p>4981 rows × 19 columns</p>\n",
              "</div>\n",
              "      <button class=\"colab-df-convert\" onclick=\"convertToInteractive('df-ca794e96-cb57-48fb-801d-a19dcb5cd887')\"\n",
              "              title=\"Convert this dataframe to an interactive table.\"\n",
              "              style=\"display:none;\">\n",
              "        \n",
              "  <svg xmlns=\"http://www.w3.org/2000/svg\" height=\"24px\"viewBox=\"0 0 24 24\"\n",
              "       width=\"24px\">\n",
              "    <path d=\"M0 0h24v24H0V0z\" fill=\"none\"/>\n",
              "    <path d=\"M18.56 5.44l.94 2.06.94-2.06 2.06-.94-2.06-.94-.94-2.06-.94 2.06-2.06.94zm-11 1L8.5 8.5l.94-2.06 2.06-.94-2.06-.94L8.5 2.5l-.94 2.06-2.06.94zm10 10l.94 2.06.94-2.06 2.06-.94-2.06-.94-.94-2.06-.94 2.06-2.06.94z\"/><path d=\"M17.41 7.96l-1.37-1.37c-.4-.4-.92-.59-1.43-.59-.52 0-1.04.2-1.43.59L10.3 9.45l-7.72 7.72c-.78.78-.78 2.05 0 2.83L4 21.41c.39.39.9.59 1.41.59.51 0 1.02-.2 1.41-.59l7.78-7.78 2.81-2.81c.8-.78.8-2.07 0-2.86zM5.41 20L4 18.59l7.72-7.72 1.47 1.35L5.41 20z\"/>\n",
              "  </svg>\n",
              "      </button>\n",
              "      \n",
              "  <style>\n",
              "    .colab-df-container {\n",
              "      display:flex;\n",
              "      flex-wrap:wrap;\n",
              "      gap: 12px;\n",
              "    }\n",
              "\n",
              "    .colab-df-convert {\n",
              "      background-color: #E8F0FE;\n",
              "      border: none;\n",
              "      border-radius: 50%;\n",
              "      cursor: pointer;\n",
              "      display: none;\n",
              "      fill: #1967D2;\n",
              "      height: 32px;\n",
              "      padding: 0 0 0 0;\n",
              "      width: 32px;\n",
              "    }\n",
              "\n",
              "    .colab-df-convert:hover {\n",
              "      background-color: #E2EBFA;\n",
              "      box-shadow: 0px 1px 2px rgba(60, 64, 67, 0.3), 0px 1px 3px 1px rgba(60, 64, 67, 0.15);\n",
              "      fill: #174EA6;\n",
              "    }\n",
              "\n",
              "    [theme=dark] .colab-df-convert {\n",
              "      background-color: #3B4455;\n",
              "      fill: #D2E3FC;\n",
              "    }\n",
              "\n",
              "    [theme=dark] .colab-df-convert:hover {\n",
              "      background-color: #434B5C;\n",
              "      box-shadow: 0px 1px 3px 1px rgba(0, 0, 0, 0.15);\n",
              "      filter: drop-shadow(0px 1px 2px rgba(0, 0, 0, 0.3));\n",
              "      fill: #FFFFFF;\n",
              "    }\n",
              "  </style>\n",
              "\n",
              "      <script>\n",
              "        const buttonEl =\n",
              "          document.querySelector('#df-ca794e96-cb57-48fb-801d-a19dcb5cd887 button.colab-df-convert');\n",
              "        buttonEl.style.display =\n",
              "          google.colab.kernel.accessAllowed ? 'block' : 'none';\n",
              "\n",
              "        async function convertToInteractive(key) {\n",
              "          const element = document.querySelector('#df-ca794e96-cb57-48fb-801d-a19dcb5cd887');\n",
              "          const dataTable =\n",
              "            await google.colab.kernel.invokeFunction('convertToInteractive',\n",
              "                                                     [key], {});\n",
              "          if (!dataTable) return;\n",
              "\n",
              "          const docLinkHtml = 'Like what you see? Visit the ' +\n",
              "            '<a target=\"_blank\" href=https://colab.research.google.com/notebooks/data_table.ipynb>data table notebook</a>'\n",
              "            + ' to learn more about interactive tables.';\n",
              "          element.innerHTML = '';\n",
              "          dataTable['output_type'] = 'display_data';\n",
              "          await google.colab.output.renderOutput(dataTable, element);\n",
              "          const docLink = document.createElement('div');\n",
              "          docLink.innerHTML = docLinkHtml;\n",
              "          element.appendChild(docLink);\n",
              "        }\n",
              "      </script>\n",
              "    </div>\n",
              "  </div>\n",
              "  "
            ]
          },
          "metadata": {},
          "execution_count": 23
        }
      ],
      "source": [
        "pd.DataFrame(X, columns = transformer.get_feature_names_out())"
      ]
    },
    {
      "cell_type": "code",
      "execution_count": 24,
      "id": "1711071a-c366-44bc-9944-e8778679dae8",
      "metadata": {
        "colab": {
          "base_uri": "https://localhost:8080/"
        },
        "id": "1711071a-c366-44bc-9944-e8778679dae8",
        "outputId": "77595ca2-79e0-497c-bf8e-5cdfe714c2a4"
      },
      "outputs": [
        {
          "output_type": "execute_result",
          "data": {
            "text/plain": [
              "{'transformer_numerico': slice(0, 3, None),\n",
              " 'transformer_categorico': slice(3, 17, None),\n",
              " 'remainder': slice(17, 19, None)}"
            ]
          },
          "metadata": {},
          "execution_count": 24
        }
      ],
      "source": [
        "transformer.output_indices_"
      ]
    },
    {
      "cell_type": "markdown",
      "id": "C9vP2rvHJjqM",
      "metadata": {
        "id": "C9vP2rvHJjqM"
      },
      "source": [
        "# **ENTRENAR**"
      ]
    },
    {
      "cell_type": "code",
      "execution_count": 25,
      "id": "S4j7yhdpJp6l",
      "metadata": {
        "id": "S4j7yhdpJp6l"
      },
      "outputs": [],
      "source": [
        "X_train, X_test, y_train, y_test = train_test_split(X, y, test_size = 0.3, stratify=y)"
      ]
    },
    {
      "cell_type": "code",
      "execution_count": 26,
      "id": "43f9967d-933d-46f3-ac75-ebc78064d9d9",
      "metadata": {
        "id": "43f9967d-933d-46f3-ac75-ebc78064d9d9"
      },
      "outputs": [],
      "source": [
        "def train_evaluate(nombre_modelo, modelo):\n",
        "    mod = modelo()\n",
        "    mod.fit(X_train, y_train)\n",
        "    \n",
        "    y_predict = mod.predict(X_test)\n",
        "    #accuracy del modelo\n",
        "    acc = accuracy_score(y_test, y_predict)\n",
        "    #overfitting\n",
        "    y_pred_train = mod.predict(X_train)\n",
        "    acc_train = accuracy_score(y_train, y_pred_train)\n",
        "    \n",
        "    \n",
        "    print(nombre_modelo)\n",
        "    print()\n",
        "    \n",
        "    print(f\"Accuaracy: {acc}\")\n",
        "    print(f\"Accuaracy_train: {acc_train}\")\n",
        "    print(\"Balanced_Accuracy:\", balanced_accuracy_score(y_test, y_predict))\n",
        "    print(\"Precision:\", precision_score(y_test, y_predict))\n",
        "    print( \"f1 score macro\", f1_score(y_test, y_predict, average='macro')) \n",
        "    print( \"f1 score micro\", f1_score(y_test, y_predict, average='micro')) \n",
        "    print( \"precision score\", precision_score(y_test, y_predict, average='macro')) \n",
        "    print( \"recall score\", recall_score(y_test, y_predict, average='macro'))\n",
        "    print( \"classification_report\\n\\n\", classification_report(y_test, y_predict))   \n",
        "\n",
        "    #Generamos la matriz de confusión\n",
        "    cnf_matrix = confusion_matrix(y_test, y_predict)\n",
        "    print(cnf_matrix)\n",
        "    # Mapa de calor con la matriz de confusión\n",
        "    print(\" \")\n",
        "    sns.heatmap(cnf_matrix, annot= True, fmt=\"g\", cmap=\"YlGnBu\")  "
      ]
    },
    {
      "cell_type": "code",
      "execution_count": 27,
      "id": "d7731a7a-ef09-4e19-9b7d-e8b91d2ef5a3",
      "metadata": {
        "colab": {
          "base_uri": "https://localhost:8080/",
          "height": 685
        },
        "id": "d7731a7a-ef09-4e19-9b7d-e8b91d2ef5a3",
        "outputId": "637ea6a3-9867-43ca-da3c-26140a1d0d07"
      },
      "outputs": [
        {
          "output_type": "stream",
          "name": "stdout",
          "text": [
            "LGBMClassifier\n",
            "\n",
            "Accuaracy: 0.9444816053511705\n",
            "Accuaracy_train: 0.9982788296041308\n",
            "Balanced_Accuracy: 0.5224527835365274\n",
            "Precision: 0.23529411764705882\n",
            "f1 score macro 0.5296407628246194\n",
            "f1 score micro 0.9444816053511705\n",
            "precision score 0.5939664092971424\n",
            "recall score 0.5224527835365274\n",
            "classification_report\n",
            "\n",
            "               precision    recall  f1-score   support\n",
            "\n",
            "           0       0.95      0.99      0.97      1421\n",
            "           1       0.24      0.05      0.09        74\n",
            "\n",
            "    accuracy                           0.94      1495\n",
            "   macro avg       0.59      0.52      0.53      1495\n",
            "weighted avg       0.92      0.94      0.93      1495\n",
            "\n",
            "[[1408   13]\n",
            " [  70    4]]\n",
            " \n"
          ]
        },
        {
          "output_type": "display_data",
          "data": {
            "text/plain": [
              "<Figure size 432x288 with 2 Axes>"
            ],
            "image/png": "[encoded data removed]"
          },
          "metadata": {
            "needs_background": "light"
          }
        }
      ],
      "source": [
        "train_evaluate(\"LGBMClassifier\", LGBMClassifier)"
      ]
    },
    {
      "cell_type": "code",
      "execution_count": 28,
      "id": "9615563f-a605-4c5a-af95-e0ab4b002e72",
      "metadata": {
        "colab": {
          "base_uri": "https://localhost:8080/",
          "height": 682
        },
        "id": "9615563f-a605-4c5a-af95-e0ab4b002e72",
        "outputId": "ed15aea2-8823-4ebc-f128-22425565908c"
      },
      "outputs": [
        {
          "output_type": "stream",
          "name": "stdout",
          "text": [
            "Gaussiano\n",
            "\n",
            "Accuaracy: 0.7698996655518394\n",
            "Accuaracy_train: 0.7871485943775101\n",
            "Balanced_Accuracy: 0.7060263993761531\n",
            "Precision: 0.12912087912087913\n",
            "f1 score macro 0.5399078169508023\n",
            "f1 score micro 0.7698996655518394\n",
            "precision score 0.5526241000378932\n",
            "recall score 0.7060263993761531\n",
            "classification_report\n",
            "\n",
            "               precision    recall  f1-score   support\n",
            "\n",
            "           0       0.98      0.78      0.87      1421\n",
            "           1       0.13      0.64      0.21        74\n",
            "\n",
            "    accuracy                           0.77      1495\n",
            "   macro avg       0.55      0.71      0.54      1495\n",
            "weighted avg       0.93      0.77      0.83      1495\n",
            "\n",
            "[[1104  317]\n",
            " [  27   47]]\n",
            " \n"
          ]
        },
        {
          "output_type": "display_data",
          "data": {
            "text/plain": [
              "<Figure size 432x288 with 2 Axes>"
            ],
            "image/png": "[encoded data removed]"
          },
          "metadata": {
            "needs_background": "light"
          }
        }
      ],
      "source": [
        "train_evaluate(\"Gaussiano\", GaussianNB)"
      ]
    },
    {
      "cell_type": "markdown",
      "id": "18e6e159-382d-4f1f-b0fc-82b4bd75cd61",
      "metadata": {
        "id": "18e6e159-382d-4f1f-b0fc-82b4bd75cd61"
      },
      "source": [
        "### Este algoritmo, el Gaussiano, más básico que el LGBM sería más interesante para estudios a futuros. Usaremos LGBM en este proyecto porque podemos \"jugar\" con él más"
      ]
    },
    {
      "cell_type": "markdown",
      "id": "eaee5568-ff44-4981-bf0c-c6308ade1687",
      "metadata": {
        "id": "eaee5568-ff44-4981-bf0c-c6308ade1687"
      },
      "source": [
        "# **Modelos Machine Learning. Balanceo de datos**"
      ]
    },
    {
      "cell_type": "markdown",
      "id": "751d4aef-f094-4b87-b40a-dff8729b9b5c",
      "metadata": {
        "id": "751d4aef-f094-4b87-b40a-dff8729b9b5c"
      },
      "source": [
        "### Después de ver varios modelos descartamos y elegimos: LGBM"
      ]
    },
    {
      "cell_type": "markdown",
      "id": "c17f1d68-dc84-460e-8b55-a82ed7f3d78f",
      "metadata": {
        "id": "c17f1d68-dc84-460e-8b55-a82ed7f3d78f"
      },
      "source": [
        "# **Oversampling**"
      ]
    },
    {
      "cell_type": "code",
      "execution_count": 29,
      "id": "7392ae3d-2d3e-453f-a54b-892c278e2023",
      "metadata": {
        "colab": {
          "base_uri": "https://localhost:8080/"
        },
        "id": "7392ae3d-2d3e-453f-a54b-892c278e2023",
        "outputId": "85c2c280-9dd8-4cf6-da26-32290e4e3e8e"
      },
      "outputs": [
        {
          "output_type": "stream",
          "name": "stdout",
          "text": [
            "Distribution before resampling Counter({0: 3312, 1: 174})\n",
            "Distribution labels after resampling Counter({0: 3312, 1: 3312})\n"
          ]
        }
      ],
      "source": [
        "os = RandomOverSampler(random_state=0)   #rate = 0.5 para y_train se la mitad de X_train\n",
        "X_train_os, y_train_os = os.fit_resample(X_train, y_train)\n",
        " \n",
        "print (\"Distribution before resampling {}\".format(Counter(y_train)))\n",
        "print (\"Distribution labels after resampling {}\".format(Counter(y_train_os)))"
      ]
    },
    {
      "cell_type": "code",
      "execution_count": 30,
      "id": "111bd8b3-9476-4dfe-8205-f8bb60ca8539",
      "metadata": {
        "id": "111bd8b3-9476-4dfe-8205-f8bb60ca8539"
      },
      "outputs": [],
      "source": [
        "def train_evaluate_oversampling(nombre_modelo, modelo):\n",
        "    mod = modelo()\n",
        "    mod.fit(X_train_os, y_train_os)\n",
        "    \n",
        "    y_predict = mod.predict(X_test)\n",
        "    #accuracy del modelo\n",
        "    acc = accuracy_score(y_test, y_predict)\n",
        "    #overfitting\n",
        "    y_pred_train = mod.predict(X_train)\n",
        "    acc_train = accuracy_score(y_train, y_pred_train)\n",
        "    \n",
        "    \n",
        "    print(nombre_modelo)\n",
        "    print()\n",
        "    \n",
        "    print(f\"Accuaracy: {acc}\")\n",
        "    print(f\"Accuaracy_train: {acc_train}\")\n",
        "    print(\"Balanced_Accuracy:\", balanced_accuracy_score(y_test, y_predict))\n",
        "    print(\"Precision:\", precision_score(y_test, y_predict))\n",
        "    print( \"f1 score macro\", f1_score(y_test, y_predict, average='macro')) \n",
        "    print( \"f1 score micro\", f1_score(y_test, y_predict, average='micro')) \n",
        "    print( \"precision score\", precision_score(y_test, y_predict, average='macro')) \n",
        "    print( \"recall score\", recall_score(y_test, y_predict, average='macro'))\n",
        "    print( \"classification_report\\n\\n\", classification_report(y_test, y_predict))   \n",
        "\n",
        "    #Generamos la matriz de confusión\n",
        "    cnf_matrix = confusion_matrix(y_test, y_predict)\n",
        "    print(cnf_matrix)\n",
        "    # Mapa de calor con la matriz de confusión\n",
        "    print(\" \")\n",
        "    sns.heatmap(cnf_matrix, annot= True, fmt=\"g\", cmap=\"YlGnBu\")  "
      ]
    },
    {
      "cell_type": "code",
      "execution_count": 31,
      "id": "Cp22gn0DW514",
      "metadata": {
        "colab": {
          "base_uri": "https://localhost:8080/",
          "height": 682
        },
        "id": "Cp22gn0DW514",
        "outputId": "9af6e0a2-b0fa-4e6a-b1b6-dd18ab4e5939"
      },
      "outputs": [
        {
          "output_type": "stream",
          "name": "stdout",
          "text": [
            "LGBM\n",
            "\n",
            "Accuaracy: 0.9117056856187291\n",
            "Accuaracy_train: 0.985083189902467\n",
            "Balanced_Accuracy: 0.5756652148277764\n",
            "Precision: 0.17045454545454544\n",
            "f1 score macro 0.5692545445020692\n",
            "f1 score micro 0.9117056856187291\n",
            "precision score 0.5642606771338115\n",
            "recall score 0.5756652148277764\n",
            "classification_report\n",
            "\n",
            "               precision    recall  f1-score   support\n",
            "\n",
            "           0       0.96      0.95      0.95      1421\n",
            "           1       0.17      0.20      0.19        74\n",
            "\n",
            "    accuracy                           0.91      1495\n",
            "   macro avg       0.56      0.58      0.57      1495\n",
            "weighted avg       0.92      0.91      0.92      1495\n",
            "\n",
            "[[1348   73]\n",
            " [  59   15]]\n",
            " \n"
          ]
        },
        {
          "output_type": "display_data",
          "data": {
            "text/plain": [
              "<Figure size 432x288 with 2 Axes>"
            ],
            "image/png": "[encoded data removed]"
          },
          "metadata": {
            "needs_background": "light"
          }
        }
      ],
      "source": [
        "train_evaluate_oversampling(\"LGBM\", LGBMClassifier)"
      ]
    },
    {
      "cell_type": "markdown",
      "id": "d0d0046e-9031-4eae-8215-cce1aa9010ff",
      "metadata": {
        "id": "d0d0046e-9031-4eae-8215-cce1aa9010ff"
      },
      "source": [
        "### Mejora algo nuestro modelo LGBM con oversampling"
      ]
    },
    {
      "cell_type": "markdown",
      "id": "_MJHlwrHLV24",
      "metadata": {
        "id": "_MJHlwrHLV24"
      },
      "source": [
        "## **Usamos hiperparámetros a nuestros modelos**"
      ]
    },
    {
      "cell_type": "markdown",
      "id": "4zDptLsgx0Jo",
      "metadata": {
        "id": "4zDptLsgx0Jo"
      },
      "source": [
        "## LGBM con RandomOverSample"
      ]
    },
    {
      "cell_type": "markdown",
      "id": "C6-z9gjAVncQ",
      "metadata": {
        "id": "C6-z9gjAVncQ"
      },
      "source": [
        "### LGBM con gridsearch\n"
      ]
    },
    {
      "cell_type": "code",
      "execution_count": 32,
      "id": "b55ff7de-2ea9-40d3-979b-0bd6054dae7d",
      "metadata": {
        "colab": {
          "base_uri": "https://localhost:8080/"
        },
        "id": "b55ff7de-2ea9-40d3-979b-0bd6054dae7d",
        "outputId": "d33260dc-d0cb-4d7e-e578-17e76576baca"
      },
      "outputs": [
        {
          "output_type": "stream",
          "name": "stdout",
          "text": [
            "Resultados GridSearch ---->>> LGBMClassifier\n",
            "----------------------------------------\n",
            "Mejores hiperparámetros encontrados (cv) LGBMClassifier\n",
            "----------------------------------------\n",
            "{'boosting_type': 'gbdt', 'colsample_bytree': 1, 'learning_rate': 1, 'n_estimators': 500, 'num_leaves': 2, 'objective': 'binary', 'reg_alpha': 1, 'reg_lambda': 2, 'scale_pos_weight': 191, 'subsample': 0.5} : 1.0 recall\n"
          ]
        }
      ],
      "source": [
        "# Grid de hiperparámetros evaluados\n",
        "# ==============================================================================\n",
        "param_grid = {'learning_rate' : [1],\n",
        "              'n_estimators'  : [500],\n",
        "             'num_leaves': [2], # large num_leaves helps improve accuracy but might lead to over-fitting\n",
        "              'boosting_type' : ['gbdt'], # for better accuracy -> try dart\n",
        "              'objective' : ['binary'],\n",
        "               # large max_bin helps improve accuracy but might slow down training progress\n",
        "              'colsample_bytree' : [1],\n",
        "              'subsample'     : [0.5],\n",
        "              'reg_alpha' : [1],\n",
        "              'reg_lambda' : [2],\n",
        "              'scale_pos_weight' : [191]\n",
        "    }\n",
        "\n",
        "# Búsqueda por grid search con validación cruzada\n",
        "# ==============================================================================\n",
        "grid_LGBM= GridSearchCV(\n",
        "        estimator  = LGBMClassifier(),\n",
        "        param_grid = param_grid,\n",
        "        scoring    = 'recall',\n",
        "        n_jobs     = multiprocessing.cpu_count() - 1,\n",
        "        cv         = RepeatedKFold(n_splits=100, n_repeats=1), \n",
        "        refit      = True,\n",
        "        verbose    = 0,\n",
        "        return_train_score = True\n",
        "       )\n",
        "\n",
        "grid_LGBM.fit(X = X_train_os, y = y_train_os)\n",
        "\n",
        "# Resultados\n",
        "# ==============================================================================\n",
        "print(\"Resultados GridSearch ---->>> LGBMClassifier\")\n",
        "resultados = pd.DataFrame(grid_LGBM.cv_results_)\n",
        "resultados.filter(regex = '(param*|mean_t|std_t)') \\\n",
        "    .drop(columns = 'params') \\\n",
        "    .sort_values('mean_test_score', ascending = False) \\\n",
        "    .head(4)\n",
        "\n",
        "# Mejores hiperparámetros por validación cruzada LGBMClassifier\n",
        "# ==============================================================================\n",
        "print(\"----------------------------------------\")\n",
        "print(\"Mejores hiperparámetros encontrados (cv) LGBMClassifier\")\n",
        "print(\"----------------------------------------\")\n",
        "print(grid_LGBM.best_params_, \":\", grid_LGBM.best_score_, grid_LGBM.scoring)\n",
        "\n",
        "# Guardamos el mejor modelo\n",
        "modelo_LGBM_nr = grid_LGBM.best_estimator_\n",
        "#Accuracy del modelo\n",
        "LGBM_accuracy_nr = grid_LGBM.best_score_\n"
      ]
    },
    {
      "cell_type": "markdown",
      "id": "-JyD4m7UFclf",
      "metadata": {
        "id": "-JyD4m7UFclf"
      },
      "source": [
        "Mejores hiperparámetros encontrados (cv) LGBMClassifier\n",
        "----------------------------------------\n",
        "{'boosting_type': 'gbdt', 'colsample_bytree': 1, 'learning_rate': 1, 'n_estimators': 500, 'num_leaves': 2, 'objective': 'binary', 'reg_alpha': 1, 'reg_lambda': 2, 'scale_pos_weight': 191, 'subsample': 0.5} : 1.0 recall\n",
        "\n"
      ]
    },
    {
      "cell_type": "code",
      "execution_count": 33,
      "id": "-ksgLX38VxIG",
      "metadata": {
        "colab": {
          "base_uri": "https://localhost:8080/",
          "height": 699
        },
        "id": "-ksgLX38VxIG",
        "outputId": "2e32a158-10a4-4905-ab89-57acd6fe6503"
      },
      "outputs": [
        {
          "output_type": "stream",
          "name": "stdout",
          "text": [
            "LGBM + hyperparameters (Strategy: Oversampling)\n",
            "\n",
            "Accuaracy: 0.5558528428093645\n",
            "Accuaracy_train: 0.5671256454388984\n",
            "Balanced_Accuracy: 0.7279323658634004\n",
            "Precision: 0.09366391184573003\n",
            "f1 score macro 0.4334018264840183\n",
            "f1 score micro 0.5558528428093645\n",
            "precision score 0.5429307855717597\n",
            "recall score 0.7279323658634004\n",
            "classification_report\n",
            "\n",
            "               precision    recall  f1-score   support\n",
            "\n",
            "           0       0.99      0.54      0.70      1421\n",
            "           1       0.09      0.92      0.17        74\n",
            "\n",
            "    accuracy                           0.56      1495\n",
            "   macro avg       0.54      0.73      0.43      1495\n",
            "weighted avg       0.95      0.56      0.67      1495\n",
            "\n",
            "[[763 658]\n",
            " [  6  68]]\n",
            " \n"
          ]
        },
        {
          "output_type": "execute_result",
          "data": {
            "text/plain": [
              "<matplotlib.axes._subplots.AxesSubplot at 0x7f7a087af950>"
            ]
          },
          "metadata": {},
          "execution_count": 33
        },
        {
          "output_type": "display_data",
          "data": {
            "text/plain": [
              "<Figure size 432x288 with 2 Axes>"
            ],
            "image/png": "[encoded data removed]"
          },
          "metadata": {
            "needs_background": "light"
          }
        }
      ],
      "source": [
        "    mod = modelo_LGBM_nr\n",
        "    #mod.fit(X_train_os, y_train_os)\n",
        "    \n",
        "    y_predict = mod.predict(X_test)\n",
        "    #accuracy del modelo\n",
        "    acc = accuracy_score(y_test, y_predict)\n",
        "    #overfitting\n",
        "    y_pred_train = mod.predict(X_train)\n",
        "    acc_train = accuracy_score(y_train, y_pred_train)\n",
        "    \n",
        "    \n",
        "    print(\"LGBM + hyperparameters (Strategy: Oversampling)\")\n",
        "    print()\n",
        "    \n",
        "    print(f\"Accuaracy: {acc}\")\n",
        "    print(f\"Accuaracy_train: {acc_train}\")\n",
        "    print(\"Balanced_Accuracy:\", balanced_accuracy_score(y_test, y_predict))\n",
        "    print(\"Precision:\", precision_score(y_test, y_predict))\n",
        "    print( \"f1 score macro\", f1_score(y_test, y_predict, average='macro')) \n",
        "    print( \"f1 score micro\", f1_score(y_test, y_predict, average='micro')) \n",
        "    print( \"precision score\", precision_score(y_test, y_predict, average='macro')) \n",
        "    print( \"recall score\", recall_score(y_test, y_predict, average='macro'))\n",
        "    print( \"classification_report\\n\\n\", classification_report(y_test, y_predict))   \n",
        "\n",
        "    #Generamos la matriz de confusión\n",
        "    cnf_matrix = confusion_matrix(y_test, y_predict)\n",
        "    print(cnf_matrix)\n",
        "    # Mapa de calor con la matriz de confusión\n",
        "    print(\" \")\n",
        "    sns.heatmap(cnf_matrix, annot= True, fmt=\"g\", cmap=\"YlGnBu\")  "
      ]
    },
    {
      "cell_type": "markdown",
      "id": "QiPNCsvF7RJf",
      "metadata": {
        "id": "QiPNCsvF7RJf"
      },
      "source": [
        "### LGBM con Random Search"
      ]
    },
    {
      "cell_type": "code",
      "execution_count": 34,
      "id": "hZ4bgSed7lUH",
      "metadata": {
        "colab": {
          "base_uri": "https://localhost:8080/"
        },
        "id": "hZ4bgSed7lUH",
        "outputId": "d8c630f8-93b9-476b-a936-afbf253c7d72"
      },
      "outputs": [
        {
          "output_type": "stream",
          "name": "stdout",
          "text": [
            " Results from Random Search \n",
            " The best estimator across ALL searched params:  LGBMClassifier(colsample_bytree=1, learning_rate=0.8783858467385349,\n",
            "               max_depth=5, n_estimators=838, num_leaves=2, objective='binary',\n",
            "               reg_alpha=1, reg_lambda=2, scale_pos_weight=233,\n",
            "               subsample=0.5299069811337286)\n",
            " The best score across ALL searched params:  0.7724916281439959\n",
            " The best parameters across ALL searched params:  {'boosting_type': 'gbdt', 'colsample_bytree': 1, 'learning_rate': 0.8783858467385349, 'max_depth': 5, 'n_estimators': 838, 'num_leaves': 2, 'objective': 'binary', 'reg_alpha': 1, 'reg_lambda': 2, 'scale_pos_weight': 233, 'subsample': 0.5299069811337286}\n",
            " The best scoring across ALL searched params: :  ['recall', 'balanced_accuracy']\n"
          ]
        }
      ],
      "source": [
        "# Grid de hiperparámetros evaluados\n",
        "# ==============================================================================\n",
        "param_LGBM_randm = {\n",
        "              'n_estimators'  : sp_randInt(100, 1000),\n",
        "              'max_depth'     : sp_randInt(4, 10),\n",
        "              'subsample'     : sp_randFloat(),\n",
        "              'learning_rate' : sp_randFloat(),\n",
        "              'num_leaves': [2], # large num_leaves helps improve accuracy but might lead to over-fitting\n",
        "              'boosting_type' : ['gbdt'], # for better accuracy -> try dart, gbdt\n",
        "              'objective' : ['binary'],\n",
        "               # large max_bin helps improve accuracy but might slow down training progress\n",
        "              'colsample_bytree' : [1],\n",
        "              'reg_alpha' : [1],\n",
        "              'reg_lambda' : [2],\n",
        "              'scale_pos_weight' : sp_randInt(90, 300),\n",
        "}\n",
        "\n",
        "# Búsqueda por grid search con validación cruzada\n",
        "# ==============================================================================\n",
        "randm_LGBM = RandomizedSearchCV(\n",
        "        estimator  = LGBMClassifier(),\n",
        "        param_distributions = param_LGBM_randm,\n",
        "        scoring    = ['recall', 'balanced_accuracy'],     \n",
        "        n_jobs     = multiprocessing.cpu_count() - 1,\n",
        "        cv         = 10,  # nos quedamos con 200 en cross validation después de hacer pruebas con varios valores\n",
        "        refit      = 'balanced_accuracy', \n",
        "        verbose    = 0,\n",
        "        n_iter     = 10,\n",
        "        return_train_score = True\n",
        "       )\n",
        "\n",
        "#model=XGBClassifier()\n",
        "#randm = RandomizedSearchCV(estimator=model, \n",
        "#                           param_distributions = param_randm,\n",
        "#                            cv = 2, n_iter = 10, n_jobs=-1)\n",
        "\n",
        "randm_LGBM.fit(X_train_os, y_train_os)\n",
        "\n",
        "print(\" Results from Random Search \" )\n",
        "print(\" The best estimator across ALL searched params: \", randm_LGBM.best_estimator_)\n",
        "print(\" The best score across ALL searched params: \", randm_LGBM.best_score_)\n",
        "print(\" The best parameters across ALL searched params: \", randm_LGBM.best_params_)\n",
        "print(\" The best scoring across ALL searched params: : \", randm_LGBM.scoring)\n",
        "\n",
        "'''\n",
        "# Resultados\n",
        "# ==============================================================================\n",
        "print(\"Resultados GridSearch ---->>> XGBClassifier\")\n",
        "resultados = pd.DataFrame(randm_XGB.cv_results_)\n",
        "resultados.filter(regex = '(param*|mean_t|std_t)') \\\n",
        "    .drop(columns = 'params') \\\n",
        "    .sort_values('mean_test_score', ascending = False) \\\n",
        "    .head(4)\n",
        "\n",
        "# Mejores hiperparámetros por validación cruzada XGBClassifier\n",
        "# ==============================================================================\n",
        "print(\"----------------------------------------\")\n",
        "print(\"Mejores hiperparámetros encontrados (cv) XGBClassifier\")\n",
        "print(\"----------------------------------------\")\n",
        "print(randm_XGB.best_params_, \":\", randm_XGB.best_score_, randm_XGB.scoring)\n",
        "'''\n",
        "\n",
        "# Guardamos el mejor modelo\n",
        "modelo_LGBM_hyper_os = randm_LGBM.best_estimator_\n",
        "#Accuracy del modelo\n",
        "LGBM_accuracy_hyper_os = randm_LGBM.best_score_\n"
      ]
    },
    {
      "cell_type": "markdown",
      "id": "h7NSLOjnFOif",
      "metadata": {
        "id": "h7NSLOjnFOif"
      },
      "source": [
        "recall 0,53(0s) y 0.99(1s) -> The best parameters across ALL searched params:  {'boosting_type': 'gbdt', 'colsample_bytree': 1, 'learning_rate': 0.8834999417527196, 'max_depth': 9, 'n_estimators': 765, 'num_leaves': 2, 'objective': 'binary', 'reg_alpha': 1, 'reg_lambda': 2, 'scale_pos_weight': 174, 'subsample': 0.7586958714202907}\n",
        " The best scoring across ALL searched params: :  ['recall', 'balanced_accuracy']"
      ]
    },
    {
      "cell_type": "code",
      "execution_count": 35,
      "id": "mqwul0_5QpIr",
      "metadata": {
        "colab": {
          "base_uri": "https://localhost:8080/",
          "height": 699
        },
        "id": "mqwul0_5QpIr",
        "outputId": "6fe37cb8-b848-402f-9a1c-0eaacb98f163"
      },
      "outputs": [
        {
          "output_type": "stream",
          "name": "stdout",
          "text": [
            "LGBM + hyperparameters (Strategy: Oversampling)\n",
            "\n",
            "Accuaracy: 0.5632107023411371\n",
            "Accuaracy_train: 0.5751577739529546\n",
            "Balanced_Accuracy: 0.738207771459003\n",
            "Precision: 0.09623430962343096\n",
            "f1 score macro 0.43875477245432215\n",
            "f1 score micro 0.5632107023411371\n",
            "precision score 0.544903787202461\n",
            "recall score 0.738207771459003\n",
            "classification_report\n",
            "\n",
            "               precision    recall  f1-score   support\n",
            "\n",
            "           0       0.99      0.54      0.70      1421\n",
            "           1       0.10      0.93      0.17        74\n",
            "\n",
            "    accuracy                           0.56      1495\n",
            "   macro avg       0.54      0.74      0.44      1495\n",
            "weighted avg       0.95      0.56      0.68      1495\n",
            "\n",
            "[[773 648]\n",
            " [  5  69]]\n",
            " \n"
          ]
        },
        {
          "output_type": "execute_result",
          "data": {
            "text/plain": [
              "<matplotlib.axes._subplots.AxesSubplot at 0x7f7a087bf610>"
            ]
          },
          "metadata": {},
          "execution_count": 35
        },
        {
          "output_type": "display_data",
          "data": {
            "text/plain": [
              "<Figure size 432x288 with 2 Axes>"
            ],
            "image/png": "[encoded data removed]"
          },
          "metadata": {
            "needs_background": "light"
          }
        }
      ],
      "source": [
        "mod = modelo_LGBM_hyper_os\n",
        "#mod.fit(X_train_os, y_train_os)\n",
        "\n",
        "y_predict = mod.predict(X_test)\n",
        "#accuracy del modelo\n",
        "acc = accuracy_score(y_test, y_predict)\n",
        "#overfitting\n",
        "y_pred_train = mod.predict(X_train)\n",
        "acc_train = accuracy_score(y_train, y_pred_train)\n",
        "\n",
        "\n",
        "print(\"LGBM + hyperparameters (Strategy: Oversampling)\")\n",
        "print()\n",
        "\n",
        "print(f\"Accuaracy: {acc}\")\n",
        "print(f\"Accuaracy_train: {acc_train}\")\n",
        "print(\"Balanced_Accuracy:\", balanced_accuracy_score(y_test, y_predict))\n",
        "print(\"Precision:\", precision_score(y_test, y_predict))\n",
        "print( \"f1 score macro\", f1_score(y_test, y_predict, average='macro')) \n",
        "print( \"f1 score micro\", f1_score(y_test, y_predict, average='micro')) \n",
        "print( \"precision score\", precision_score(y_test, y_predict, average='macro')) \n",
        "print( \"recall score\", recall_score(y_test, y_predict, average='macro'))\n",
        "print( \"classification_report\\n\\n\", classification_report(y_test, y_predict))   \n",
        "\n",
        "#Generamos la matriz de confusión\n",
        "cnf_matrix = confusion_matrix(y_test, y_predict)\n",
        "print(cnf_matrix)\n",
        "# Mapa de calor con la matriz de confusión\n",
        "print(\" \")\n",
        "sns.heatmap(cnf_matrix, annot= True, fmt=\"g\", cmap=\"YlGnBu\")"
      ]
    },
    {
      "cell_type": "code",
      "execution_count": 36,
      "id": "-pheLXgAnUGD",
      "metadata": {
        "colab": {
          "base_uri": "https://localhost:8080/"
        },
        "id": "-pheLXgAnUGD",
        "outputId": "1b89ea15-e840-4a0b-a9f7-2a04b4785198"
      },
      "outputs": [
        {
          "output_type": "execute_result",
          "data": {
            "text/plain": [
              "['transformer.pkl']"
            ]
          },
          "metadata": {},
          "execution_count": 36
        }
      ],
      "source": [
        "# Guardamos nuestro mejor modelo. \n",
        "## LGBM con hyperparameters se guarda de manera diferente\n",
        "\n",
        "mod.booster_.save_model('lgbr_hyper_os.txt')\n",
        "joblib.dump(transformer, 'transformer.pkl')"
      ]
    }
  ],
  "metadata": {
    "colab": {
      "collapsed_sections": [
        "d2b2c616-1d8a-4251-8cb0-bc16e9234ace",
        "751d4aef-f094-4b87-b40a-dff8729b9b5c"
      ],
      "provenance": []
    },
    "kernelspec": {
      "display_name": "Python 3 (ipykernel)",
      "language": "python",
      "name": "python3"
    },
    "language_info": {
      "codemirror_mode": {
        "name": "ipython",
        "version": 3
      },
      "file_extension": ".py",
      "mimetype": "text/x-python",
      "name": "python",
      "nbconvert_exporter": "python",
      "pygments_lexer": "ipython3",
      "version": "3.9.12"
    }
  },
  "nbformat": 4,
  "nbformat_minor": 5
}