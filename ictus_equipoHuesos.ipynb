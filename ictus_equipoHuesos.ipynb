{
  "cells": [
    {
      "cell_type": "code",
      "execution_count": 1,
      "metadata": {
        "id": "9dd9719a-3b0d-4afc-ae6a-0de352588cbd"
      },
      "outputs": [],
      "source": [
        "import pandas as pd\n",
        "import numpy as np\n",
        "#Librerias de visualización\n",
        "import matplotlib.pyplot as plt\n",
        "import seaborn as sns"
      ],
      "id": "9dd9719a-3b0d-4afc-ae6a-0de352588cbd"
    },
    {
      "cell_type": "code",
      "execution_count": 2,
      "metadata": {
        "id": "e4850272-328a-4a92-a1fb-11833b1f1ab9"
      },
      "outputs": [],
      "source": [
        "## Optimización de hiperparámetros\n",
        "from sklearn.model_selection import GridSearchCV, RandomizedSearchCV\n",
        "from sklearn.model_selection import ParameterGrid\n",
        "import multiprocessing\n",
        "from multiprocessing import Pool\n",
        "from sklearn.model_selection import RepeatedKFold\n",
        "from sklearn.model_selection import KFold\n",
        "from scipy.stats import uniform as sp_randFloat\n",
        "from scipy.stats import randint as sp_randInt\n",
        "\n",
        "#Estrategias de balanceo: subsampling\n",
        "from pylab import rcParams\n",
        " \n",
        "from imblearn.under_sampling import NearMiss\n",
        "from imblearn.over_sampling import RandomOverSampler\n",
        "from imblearn.combine import SMOTETomek\n",
        "from imblearn.ensemble import BalancedBaggingClassifier\n",
        " \n",
        "from collections import Counter\n",
        "\n"
      ],
      "id": "e4850272-328a-4a92-a1fb-11833b1f1ab9"
    },
    {
      "cell_type": "code",
      "execution_count": 3,
      "metadata": {
        "id": "cc9fac79-f7e0-4562-8ef8-98914e8683f6"
      },
      "outputs": [],
      "source": [
        "# Configuración warnings\n",
        "import warnings\n",
        "warnings.filterwarnings('once')"
      ],
      "id": "cc9fac79-f7e0-4562-8ef8-98914e8683f6"
    },
    {
      "cell_type": "markdown",
      "metadata": {
        "id": "5943c882-4b42-49ed-b1e7-65b346c43696"
      },
      "source": [
        "## Leer dataset"
      ],
      "id": "5943c882-4b42-49ed-b1e7-65b346c43696"
    },
    {
      "cell_type": "code",
      "execution_count": 4,
      "metadata": {
        "colab": {
          "base_uri": "https://localhost:8080/",
          "height": 206
        },
        "id": "f42ada4c-e13c-43d6-bc10-4e1e09a9b7a8",
        "outputId": "ec5634d3-0b95-4907-a220-76c3deb5fc22"
      },
      "outputs": [
        {
          "output_type": "execute_result",
          "data": {
            "text/plain": [
              "   gender   age  hypertension  heart_disease ever_married      work_type  \\\n",
              "0    Male  67.0             0              1          Yes        Private   \n",
              "1    Male  80.0             0              1          Yes        Private   \n",
              "2  Female  49.0             0              0          Yes        Private   \n",
              "3  Female  79.0             1              0          Yes  Self-employed   \n",
              "4    Male  81.0             0              0          Yes        Private   \n",
              "\n",
              "  Residence_type  avg_glucose_level   bmi   smoking_status  stroke  \n",
              "0          Urban             228.69  36.6  formerly smoked       1  \n",
              "1          Rural             105.92  32.5     never smoked       1  \n",
              "2          Urban             171.23  34.4           smokes       1  \n",
              "3          Rural             174.12  24.0     never smoked       1  \n",
              "4          Urban             186.21  29.0  formerly smoked       1  "
            ],
            "text/html": [
              "\n",
              "  <div id=\"df-f0ba5c2e-95ab-4f5f-a487-b75d3e02c78d\">\n",
              "    <div class=\"colab-df-container\">\n",
              "      <div>\n",
              "<style scoped>\n",
              "    .dataframe tbody tr th:only-of-type {\n",
              "        vertical-align: middle;\n",
              "    }\n",
              "\n",
              "    .dataframe tbody tr th {\n",
              "        vertical-align: top;\n",
              "    }\n",
              "\n",
              "    .dataframe thead th {\n",
              "        text-align: right;\n",
              "    }\n",
              "</style>\n",
              "<table border=\"1\" class=\"dataframe\">\n",
              "  <thead>\n",
              "    <tr style=\"text-align: right;\">\n",
              "      <th></th>\n",
              "      <th>gender</th>\n",
              "      <th>age</th>\n",
              "      <th>hypertension</th>\n",
              "      <th>heart_disease</th>\n",
              "      <th>ever_married</th>\n",
              "      <th>work_type</th>\n",
              "      <th>Residence_type</th>\n",
              "      <th>avg_glucose_level</th>\n",
              "      <th>bmi</th>\n",
              "      <th>smoking_status</th>\n",
              "      <th>stroke</th>\n",
              "    </tr>\n",
              "  </thead>\n",
              "  <tbody>\n",
              "    <tr>\n",
              "      <th>0</th>\n",
              "      <td>Male</td>\n",
              "      <td>67.0</td>\n",
              "      <td>0</td>\n",
              "      <td>1</td>\n",
              "      <td>Yes</td>\n",
              "      <td>Private</td>\n",
              "      <td>Urban</td>\n",
              "      <td>228.69</td>\n",
              "      <td>36.6</td>\n",
              "      <td>formerly smoked</td>\n",
              "      <td>1</td>\n",
              "    </tr>\n",
              "    <tr>\n",
              "      <th>1</th>\n",
              "      <td>Male</td>\n",
              "      <td>80.0</td>\n",
              "      <td>0</td>\n",
              "      <td>1</td>\n",
              "      <td>Yes</td>\n",
              "      <td>Private</td>\n",
              "      <td>Rural</td>\n",
              "      <td>105.92</td>\n",
              "      <td>32.5</td>\n",
              "      <td>never smoked</td>\n",
              "      <td>1</td>\n",
              "    </tr>\n",
              "    <tr>\n",
              "      <th>2</th>\n",
              "      <td>Female</td>\n",
              "      <td>49.0</td>\n",
              "      <td>0</td>\n",
              "      <td>0</td>\n",
              "      <td>Yes</td>\n",
              "      <td>Private</td>\n",
              "      <td>Urban</td>\n",
              "      <td>171.23</td>\n",
              "      <td>34.4</td>\n",
              "      <td>smokes</td>\n",
              "      <td>1</td>\n",
              "    </tr>\n",
              "    <tr>\n",
              "      <th>3</th>\n",
              "      <td>Female</td>\n",
              "      <td>79.0</td>\n",
              "      <td>1</td>\n",
              "      <td>0</td>\n",
              "      <td>Yes</td>\n",
              "      <td>Self-employed</td>\n",
              "      <td>Rural</td>\n",
              "      <td>174.12</td>\n",
              "      <td>24.0</td>\n",
              "      <td>never smoked</td>\n",
              "      <td>1</td>\n",
              "    </tr>\n",
              "    <tr>\n",
              "      <th>4</th>\n",
              "      <td>Male</td>\n",
              "      <td>81.0</td>\n",
              "      <td>0</td>\n",
              "      <td>0</td>\n",
              "      <td>Yes</td>\n",
              "      <td>Private</td>\n",
              "      <td>Urban</td>\n",
              "      <td>186.21</td>\n",
              "      <td>29.0</td>\n",
              "      <td>formerly smoked</td>\n",
              "      <td>1</td>\n",
              "    </tr>\n",
              "  </tbody>\n",
              "</table>\n",
              "</div>\n",
              "      <button class=\"colab-df-convert\" onclick=\"convertToInteractive('df-f0ba5c2e-95ab-4f5f-a487-b75d3e02c78d')\"\n",
              "              title=\"Convert this dataframe to an interactive table.\"\n",
              "              style=\"display:none;\">\n",
              "        \n",
              "  <svg xmlns=\"http://www.w3.org/2000/svg\" height=\"24px\"viewBox=\"0 0 24 24\"\n",
              "       width=\"24px\">\n",
              "    <path d=\"M0 0h24v24H0V0z\" fill=\"none\"/>\n",
              "    <path d=\"M18.56 5.44l.94 2.06.94-2.06 2.06-.94-2.06-.94-.94-2.06-.94 2.06-2.06.94zm-11 1L8.5 8.5l.94-2.06 2.06-.94-2.06-.94L8.5 2.5l-.94 2.06-2.06.94zm10 10l.94 2.06.94-2.06 2.06-.94-2.06-.94-.94-2.06-.94 2.06-2.06.94z\"/><path d=\"M17.41 7.96l-1.37-1.37c-.4-.4-.92-.59-1.43-.59-.52 0-1.04.2-1.43.59L10.3 9.45l-7.72 7.72c-.78.78-.78 2.05 0 2.83L4 21.41c.39.39.9.59 1.41.59.51 0 1.02-.2 1.41-.59l7.78-7.78 2.81-2.81c.8-.78.8-2.07 0-2.86zM5.41 20L4 18.59l7.72-7.72 1.47 1.35L5.41 20z\"/>\n",
              "  </svg>\n",
              "      </button>\n",
              "      \n",
              "  <style>\n",
              "    .colab-df-container {\n",
              "      display:flex;\n",
              "      flex-wrap:wrap;\n",
              "      gap: 12px;\n",
              "    }\n",
              "\n",
              "    .colab-df-convert {\n",
              "      background-color: #E8F0FE;\n",
              "      border: none;\n",
              "      border-radius: 50%;\n",
              "      cursor: pointer;\n",
              "      display: none;\n",
              "      fill: #1967D2;\n",
              "      height: 32px;\n",
              "      padding: 0 0 0 0;\n",
              "      width: 32px;\n",
              "    }\n",
              "\n",
              "    .colab-df-convert:hover {\n",
              "      background-color: #E2EBFA;\n",
              "      box-shadow: 0px 1px 2px rgba(60, 64, 67, 0.3), 0px 1px 3px 1px rgba(60, 64, 67, 0.15);\n",
              "      fill: #174EA6;\n",
              "    }\n",
              "\n",
              "    [theme=dark] .colab-df-convert {\n",
              "      background-color: #3B4455;\n",
              "      fill: #D2E3FC;\n",
              "    }\n",
              "\n",
              "    [theme=dark] .colab-df-convert:hover {\n",
              "      background-color: #434B5C;\n",
              "      box-shadow: 0px 1px 3px 1px rgba(0, 0, 0, 0.15);\n",
              "      filter: drop-shadow(0px 1px 2px rgba(0, 0, 0, 0.3));\n",
              "      fill: #FFFFFF;\n",
              "    }\n",
              "  </style>\n",
              "\n",
              "      <script>\n",
              "        const buttonEl =\n",
              "          document.querySelector('#df-f0ba5c2e-95ab-4f5f-a487-b75d3e02c78d button.colab-df-convert');\n",
              "        buttonEl.style.display =\n",
              "          google.colab.kernel.accessAllowed ? 'block' : 'none';\n",
              "\n",
              "        async function convertToInteractive(key) {\n",
              "          const element = document.querySelector('#df-f0ba5c2e-95ab-4f5f-a487-b75d3e02c78d');\n",
              "          const dataTable =\n",
              "            await google.colab.kernel.invokeFunction('convertToInteractive',\n",
              "                                                     [key], {});\n",
              "          if (!dataTable) return;\n",
              "\n",
              "          const docLinkHtml = 'Like what you see? Visit the ' +\n",
              "            '<a target=\"_blank\" href=https://colab.research.google.com/notebooks/data_table.ipynb>data table notebook</a>'\n",
              "            + ' to learn more about interactive tables.';\n",
              "          element.innerHTML = '';\n",
              "          dataTable['output_type'] = 'display_data';\n",
              "          await google.colab.output.renderOutput(dataTable, element);\n",
              "          const docLink = document.createElement('div');\n",
              "          docLink.innerHTML = docLinkHtml;\n",
              "          element.appendChild(docLink);\n",
              "        }\n",
              "      </script>\n",
              "    </div>\n",
              "  </div>\n",
              "  "
            ]
          },
          "metadata": {},
          "execution_count": 4
        }
      ],
      "source": [
        "path = \"/content/stroke_dataset.csv\"\n",
        "df = pd.read_csv(path)\n",
        "df.head()"
      ],
      "id": "f42ada4c-e13c-43d6-bc10-4e1e09a9b7a8"
    },
    {
      "cell_type": "markdown",
      "metadata": {
        "id": "6fe5964e-ee79-4b16-8ea8-49952d930d44"
      },
      "source": [
        "# EDA"
      ],
      "id": "6fe5964e-ee79-4b16-8ea8-49952d930d44"
    },
    {
      "cell_type": "code",
      "execution_count": 5,
      "metadata": {
        "colab": {
          "base_uri": "https://localhost:8080/"
        },
        "id": "1958696a-ca6c-4bf5-976d-3c8e27e4cf28",
        "outputId": "ec0a2099-9e00-460d-9051-43ec0823e1ca"
      },
      "outputs": [
        {
          "output_type": "stream",
          "name": "stdout",
          "text": [
            "<class 'pandas.core.frame.DataFrame'>\n",
            "RangeIndex: 4981 entries, 0 to 4980\n",
            "Data columns (total 11 columns):\n",
            " #   Column             Non-Null Count  Dtype  \n",
            "---  ------             --------------  -----  \n",
            " 0   gender             4981 non-null   object \n",
            " 1   age                4981 non-null   float64\n",
            " 2   hypertension       4981 non-null   int64  \n",
            " 3   heart_disease      4981 non-null   int64  \n",
            " 4   ever_married       4981 non-null   object \n",
            " 5   work_type          4981 non-null   object \n",
            " 6   Residence_type     4981 non-null   object \n",
            " 7   avg_glucose_level  4981 non-null   float64\n",
            " 8   bmi                4981 non-null   float64\n",
            " 9   smoking_status     4981 non-null   object \n",
            " 10  stroke             4981 non-null   int64  \n",
            "dtypes: float64(3), int64(3), object(5)\n",
            "memory usage: 428.2+ KB\n"
          ]
        }
      ],
      "source": [
        "df.info()"
      ],
      "id": "1958696a-ca6c-4bf5-976d-3c8e27e4cf28"
    },
    {
      "cell_type": "code",
      "execution_count": 6,
      "metadata": {
        "colab": {
          "base_uri": "https://localhost:8080/"
        },
        "id": "403d5caf-ece1-4b13-9bda-0591da2b31fc",
        "outputId": "ae5611df-c366-4d3a-982c-811eaa14016e"
      },
      "outputs": [
        {
          "output_type": "execute_result",
          "data": {
            "text/plain": [
              "Private          2860\n",
              "Self-employed     804\n",
              "children          673\n",
              "Govt_job          644\n",
              "Name: work_type, dtype: int64"
            ]
          },
          "metadata": {},
          "execution_count": 6
        }
      ],
      "source": [
        "df[\"work_type\"].value_counts()"
      ],
      "id": "403d5caf-ece1-4b13-9bda-0591da2b31fc"
    },
    {
      "cell_type": "code",
      "execution_count": 7,
      "metadata": {
        "colab": {
          "base_uri": "https://localhost:8080/"
        },
        "id": "c958ffb3-15cc-4910-b69b-94ab01ec36e2",
        "outputId": "f7e374db-cd70-4cdd-de3e-508a142b2935"
      },
      "outputs": [
        {
          "output_type": "stream",
          "name": "stdout",
          "text": [
            "Valores en 'work_type':\n",
            "\tPrivate\n",
            "\tSelf-employed\n",
            "\tGovt_job\n",
            "\tchildren\n",
            "\n",
            "Valores en 'Residence_type':\n",
            "\tUrban\n",
            "\tRural\n",
            "\n",
            "Valores en 'smoking_status':\n",
            "\tformerly smoked\n",
            "\tnever smoked\n",
            "\tsmokes\n",
            "\tUnknown\n",
            "\n"
          ]
        }
      ],
      "source": [
        "for col in [\"work_type\", \"Residence_type\", \"smoking_status\"]:\n",
        "    print(f\"Valores en '{col}':\")\n",
        "    for i in df[col].unique():\n",
        "        print(\"\\t\"+str(i))\n",
        "    print()"
      ],
      "id": "c958ffb3-15cc-4910-b69b-94ab01ec36e2"
    },
    {
      "cell_type": "code",
      "execution_count": 8,
      "metadata": {
        "colab": {
          "base_uri": "https://localhost:8080/"
        },
        "id": "b62d762b-d519-4611-95dd-e3bd2d21b427",
        "outputId": "b9e55b47-c087-4240-bf1a-35ea26001b08"
      },
      "outputs": [
        {
          "output_type": "execute_result",
          "data": {
            "text/plain": [
              "gender               0\n",
              "age                  0\n",
              "hypertension         0\n",
              "heart_disease        0\n",
              "ever_married         0\n",
              "work_type            0\n",
              "Residence_type       0\n",
              "avg_glucose_level    0\n",
              "bmi                  0\n",
              "smoking_status       0\n",
              "stroke               0\n",
              "dtype: int64"
            ]
          },
          "metadata": {},
          "execution_count": 8
        }
      ],
      "source": [
        "df.isnull().sum()"
      ],
      "id": "b62d762b-d519-4611-95dd-e3bd2d21b427"
    },
    {
      "cell_type": "code",
      "execution_count": 9,
      "metadata": {
        "colab": {
          "base_uri": "https://localhost:8080/",
          "height": 283
        },
        "id": "e342f48c-5737-4089-983c-6410f1bed60d",
        "outputId": "2f7e187d-ca2f-401b-e1c4-f5bc82ab5299"
      },
      "outputs": [
        {
          "output_type": "execute_result",
          "data": {
            "text/plain": [
              "<matplotlib.axes._subplots.AxesSubplot at 0x7fc6fb4cccd0>"
            ]
          },
          "metadata": {},
          "execution_count": 9
        },
        {
          "output_type": "display_data",
          "data": {
            "text/plain": [
              "<Figure size 432x288 with 1 Axes>"
            ],
            "image/png": "[encoded data removed]"
          },
          "metadata": {
            "needs_background": "light"
          }
        }
      ],
      "source": [
        "sns.boxplot(data=df)"
      ],
      "id": "e342f48c-5737-4089-983c-6410f1bed60d"
    },
    {
      "cell_type": "code",
      "execution_count": 10,
      "metadata": {
        "colab": {
          "base_uri": "https://localhost:8080/",
          "height": 300
        },
        "id": "48011ad7-f99f-4535-af40-164a8033b990",
        "outputId": "127ec215-d6db-4df9-c1bd-4786b5dbb61e"
      },
      "outputs": [
        {
          "output_type": "execute_result",
          "data": {
            "text/plain": [
              "               age  hypertension  heart_disease  avg_glucose_level  \\\n",
              "count  4981.000000   4981.000000    4981.000000        4981.000000   \n",
              "mean     43.419859      0.096165       0.055210         105.943562   \n",
              "std      22.662755      0.294848       0.228412          45.075373   \n",
              "min       0.080000      0.000000       0.000000          55.120000   \n",
              "25%      25.000000      0.000000       0.000000          77.230000   \n",
              "50%      45.000000      0.000000       0.000000          91.850000   \n",
              "75%      61.000000      0.000000       0.000000         113.860000   \n",
              "max      82.000000      1.000000       1.000000         271.740000   \n",
              "\n",
              "               bmi       stroke  \n",
              "count  4981.000000  4981.000000  \n",
              "mean     28.498173     0.049789  \n",
              "std       6.790464     0.217531  \n",
              "min      14.000000     0.000000  \n",
              "25%      23.700000     0.000000  \n",
              "50%      28.100000     0.000000  \n",
              "75%      32.600000     0.000000  \n",
              "max      48.900000     1.000000  "
            ],
            "text/html": [
              "\n",
              "  <div id=\"df-b6aeeac1-d809-4b6b-a7f7-0b9c94f39023\">\n",
              "    <div class=\"colab-df-container\">\n",
              "      <div>\n",
              "<style scoped>\n",
              "    .dataframe tbody tr th:only-of-type {\n",
              "        vertical-align: middle;\n",
              "    }\n",
              "\n",
              "    .dataframe tbody tr th {\n",
              "        vertical-align: top;\n",
              "    }\n",
              "\n",
              "    .dataframe thead th {\n",
              "        text-align: right;\n",
              "    }\n",
              "</style>\n",
              "<table border=\"1\" class=\"dataframe\">\n",
              "  <thead>\n",
              "    <tr style=\"text-align: right;\">\n",
              "      <th></th>\n",
              "      <th>age</th>\n",
              "      <th>hypertension</th>\n",
              "      <th>heart_disease</th>\n",
              "      <th>avg_glucose_level</th>\n",
              "      <th>bmi</th>\n",
              "      <th>stroke</th>\n",
              "    </tr>\n",
              "  </thead>\n",
              "  <tbody>\n",
              "    <tr>\n",
              "      <th>count</th>\n",
              "      <td>4981.000000</td>\n",
              "      <td>4981.000000</td>\n",
              "      <td>4981.000000</td>\n",
              "      <td>4981.000000</td>\n",
              "      <td>4981.000000</td>\n",
              "      <td>4981.000000</td>\n",
              "    </tr>\n",
              "    <tr>\n",
              "      <th>mean</th>\n",
              "      <td>43.419859</td>\n",
              "      <td>0.096165</td>\n",
              "      <td>0.055210</td>\n",
              "      <td>105.943562</td>\n",
              "      <td>28.498173</td>\n",
              "      <td>0.049789</td>\n",
              "    </tr>\n",
              "    <tr>\n",
              "      <th>std</th>\n",
              "      <td>22.662755</td>\n",
              "      <td>0.294848</td>\n",
              "      <td>0.228412</td>\n",
              "      <td>45.075373</td>\n",
              "      <td>6.790464</td>\n",
              "      <td>0.217531</td>\n",
              "    </tr>\n",
              "    <tr>\n",
              "      <th>min</th>\n",
              "      <td>0.080000</td>\n",
              "      <td>0.000000</td>\n",
              "      <td>0.000000</td>\n",
              "      <td>55.120000</td>\n",
              "      <td>14.000000</td>\n",
              "      <td>0.000000</td>\n",
              "    </tr>\n",
              "    <tr>\n",
              "      <th>25%</th>\n",
              "      <td>25.000000</td>\n",
              "      <td>0.000000</td>\n",
              "      <td>0.000000</td>\n",
              "      <td>77.230000</td>\n",
              "      <td>23.700000</td>\n",
              "      <td>0.000000</td>\n",
              "    </tr>\n",
              "    <tr>\n",
              "      <th>50%</th>\n",
              "      <td>45.000000</td>\n",
              "      <td>0.000000</td>\n",
              "      <td>0.000000</td>\n",
              "      <td>91.850000</td>\n",
              "      <td>28.100000</td>\n",
              "      <td>0.000000</td>\n",
              "    </tr>\n",
              "    <tr>\n",
              "      <th>75%</th>\n",
              "      <td>61.000000</td>\n",
              "      <td>0.000000</td>\n",
              "      <td>0.000000</td>\n",
              "      <td>113.860000</td>\n",
              "      <td>32.600000</td>\n",
              "      <td>0.000000</td>\n",
              "    </tr>\n",
              "    <tr>\n",
              "      <th>max</th>\n",
              "      <td>82.000000</td>\n",
              "      <td>1.000000</td>\n",
              "      <td>1.000000</td>\n",
              "      <td>271.740000</td>\n",
              "      <td>48.900000</td>\n",
              "      <td>1.000000</td>\n",
              "    </tr>\n",
              "  </tbody>\n",
              "</table>\n",
              "</div>\n",
              "      <button class=\"colab-df-convert\" onclick=\"convertToInteractive('df-b6aeeac1-d809-4b6b-a7f7-0b9c94f39023')\"\n",
              "              title=\"Convert this dataframe to an interactive table.\"\n",
              "              style=\"display:none;\">\n",
              "        \n",
              "  <svg xmlns=\"http://www.w3.org/2000/svg\" height=\"24px\"viewBox=\"0 0 24 24\"\n",
              "       width=\"24px\">\n",
              "    <path d=\"M0 0h24v24H0V0z\" fill=\"none\"/>\n",
              "    <path d=\"M18.56 5.44l.94 2.06.94-2.06 2.06-.94-2.06-.94-.94-2.06-.94 2.06-2.06.94zm-11 1L8.5 8.5l.94-2.06 2.06-.94-2.06-.94L8.5 2.5l-.94 2.06-2.06.94zm10 10l.94 2.06.94-2.06 2.06-.94-2.06-.94-.94-2.06-.94 2.06-2.06.94z\"/><path d=\"M17.41 7.96l-1.37-1.37c-.4-.4-.92-.59-1.43-.59-.52 0-1.04.2-1.43.59L10.3 9.45l-7.72 7.72c-.78.78-.78 2.05 0 2.83L4 21.41c.39.39.9.59 1.41.59.51 0 1.02-.2 1.41-.59l7.78-7.78 2.81-2.81c.8-.78.8-2.07 0-2.86zM5.41 20L4 18.59l7.72-7.72 1.47 1.35L5.41 20z\"/>\n",
              "  </svg>\n",
              "      </button>\n",
              "      \n",
              "  <style>\n",
              "    .colab-df-container {\n",
              "      display:flex;\n",
              "      flex-wrap:wrap;\n",
              "      gap: 12px;\n",
              "    }\n",
              "\n",
              "    .colab-df-convert {\n",
              "      background-color: #E8F0FE;\n",
              "      border: none;\n",
              "      border-radius: 50%;\n",
              "      cursor: pointer;\n",
              "      display: none;\n",
              "      fill: #1967D2;\n",
              "      height: 32px;\n",
              "      padding: 0 0 0 0;\n",
              "      width: 32px;\n",
              "    }\n",
              "\n",
              "    .colab-df-convert:hover {\n",
              "      background-color: #E2EBFA;\n",
              "      box-shadow: 0px 1px 2px rgba(60, 64, 67, 0.3), 0px 1px 3px 1px rgba(60, 64, 67, 0.15);\n",
              "      fill: #174EA6;\n",
              "    }\n",
              "\n",
              "    [theme=dark] .colab-df-convert {\n",
              "      background-color: #3B4455;\n",
              "      fill: #D2E3FC;\n",
              "    }\n",
              "\n",
              "    [theme=dark] .colab-df-convert:hover {\n",
              "      background-color: #434B5C;\n",
              "      box-shadow: 0px 1px 3px 1px rgba(0, 0, 0, 0.15);\n",
              "      filter: drop-shadow(0px 1px 2px rgba(0, 0, 0, 0.3));\n",
              "      fill: #FFFFFF;\n",
              "    }\n",
              "  </style>\n",
              "\n",
              "      <script>\n",
              "        const buttonEl =\n",
              "          document.querySelector('#df-b6aeeac1-d809-4b6b-a7f7-0b9c94f39023 button.colab-df-convert');\n",
              "        buttonEl.style.display =\n",
              "          google.colab.kernel.accessAllowed ? 'block' : 'none';\n",
              "\n",
              "        async function convertToInteractive(key) {\n",
              "          const element = document.querySelector('#df-b6aeeac1-d809-4b6b-a7f7-0b9c94f39023');\n",
              "          const dataTable =\n",
              "            await google.colab.kernel.invokeFunction('convertToInteractive',\n",
              "                                                     [key], {});\n",
              "          if (!dataTable) return;\n",
              "\n",
              "          const docLinkHtml = 'Like what you see? Visit the ' +\n",
              "            '<a target=\"_blank\" href=https://colab.research.google.com/notebooks/data_table.ipynb>data table notebook</a>'\n",
              "            + ' to learn more about interactive tables.';\n",
              "          element.innerHTML = '';\n",
              "          dataTable['output_type'] = 'display_data';\n",
              "          await google.colab.output.renderOutput(dataTable, element);\n",
              "          const docLink = document.createElement('div');\n",
              "          docLink.innerHTML = docLinkHtml;\n",
              "          element.appendChild(docLink);\n",
              "        }\n",
              "      </script>\n",
              "    </div>\n",
              "  </div>\n",
              "  "
            ]
          },
          "metadata": {},
          "execution_count": 10
        }
      ],
      "source": [
        "df.describe()"
      ],
      "id": "48011ad7-f99f-4535-af40-164a8033b990"
    },
    {
      "cell_type": "code",
      "execution_count": 11,
      "metadata": {
        "id": "7714f9ae-525b-4306-8256-cca133368726"
      },
      "outputs": [],
      "source": [
        "X = df.drop(\"stroke\", axis = 1)\n",
        "y = df[\"stroke\"]"
      ],
      "id": "7714f9ae-525b-4306-8256-cca133368726"
    },
    {
      "cell_type": "code",
      "execution_count": 12,
      "metadata": {
        "colab": {
          "base_uri": "https://localhost:8080/",
          "height": 206
        },
        "id": "5dc023d0-22d6-462d-b0b5-a274f4bc2f30",
        "outputId": "056ddb9e-d5fb-4d44-e30b-cfc9594c2dc8"
      },
      "outputs": [
        {
          "output_type": "execute_result",
          "data": {
            "text/plain": [
              "   gender   age  hypertension  heart_disease ever_married      work_type  \\\n",
              "0    Male  67.0             0              1          Yes        Private   \n",
              "1    Male  80.0             0              1          Yes        Private   \n",
              "2  Female  49.0             0              0          Yes        Private   \n",
              "3  Female  79.0             1              0          Yes  Self-employed   \n",
              "4    Male  81.0             0              0          Yes        Private   \n",
              "\n",
              "  Residence_type  avg_glucose_level   bmi   smoking_status  \n",
              "0          Urban             228.69  36.6  formerly smoked  \n",
              "1          Rural             105.92  32.5     never smoked  \n",
              "2          Urban             171.23  34.4           smokes  \n",
              "3          Rural             174.12  24.0     never smoked  \n",
              "4          Urban             186.21  29.0  formerly smoked  "
            ],
            "text/html": [
              "\n",
              "  <div id=\"df-3e67741d-70d7-44c0-a43d-2d0e51c6004b\">\n",
              "    <div class=\"colab-df-container\">\n",
              "      <div>\n",
              "<style scoped>\n",
              "    .dataframe tbody tr th:only-of-type {\n",
              "        vertical-align: middle;\n",
              "    }\n",
              "\n",
              "    .dataframe tbody tr th {\n",
              "        vertical-align: top;\n",
              "    }\n",
              "\n",
              "    .dataframe thead th {\n",
              "        text-align: right;\n",
              "    }\n",
              "</style>\n",
              "<table border=\"1\" class=\"dataframe\">\n",
              "  <thead>\n",
              "    <tr style=\"text-align: right;\">\n",
              "      <th></th>\n",
              "      <th>gender</th>\n",
              "      <th>age</th>\n",
              "      <th>hypertension</th>\n",
              "      <th>heart_disease</th>\n",
              "      <th>ever_married</th>\n",
              "      <th>work_type</th>\n",
              "      <th>Residence_type</th>\n",
              "      <th>avg_glucose_level</th>\n",
              "      <th>bmi</th>\n",
              "      <th>smoking_status</th>\n",
              "    </tr>\n",
              "  </thead>\n",
              "  <tbody>\n",
              "    <tr>\n",
              "      <th>0</th>\n",
              "      <td>Male</td>\n",
              "      <td>67.0</td>\n",
              "      <td>0</td>\n",
              "      <td>1</td>\n",
              "      <td>Yes</td>\n",
              "      <td>Private</td>\n",
              "      <td>Urban</td>\n",
              "      <td>228.69</td>\n",
              "      <td>36.6</td>\n",
              "      <td>formerly smoked</td>\n",
              "    </tr>\n",
              "    <tr>\n",
              "      <th>1</th>\n",
              "      <td>Male</td>\n",
              "      <td>80.0</td>\n",
              "      <td>0</td>\n",
              "      <td>1</td>\n",
              "      <td>Yes</td>\n",
              "      <td>Private</td>\n",
              "      <td>Rural</td>\n",
              "      <td>105.92</td>\n",
              "      <td>32.5</td>\n",
              "      <td>never smoked</td>\n",
              "    </tr>\n",
              "    <tr>\n",
              "      <th>2</th>\n",
              "      <td>Female</td>\n",
              "      <td>49.0</td>\n",
              "      <td>0</td>\n",
              "      <td>0</td>\n",
              "      <td>Yes</td>\n",
              "      <td>Private</td>\n",
              "      <td>Urban</td>\n",
              "      <td>171.23</td>\n",
              "      <td>34.4</td>\n",
              "      <td>smokes</td>\n",
              "    </tr>\n",
              "    <tr>\n",
              "      <th>3</th>\n",
              "      <td>Female</td>\n",
              "      <td>79.0</td>\n",
              "      <td>1</td>\n",
              "      <td>0</td>\n",
              "      <td>Yes</td>\n",
              "      <td>Self-employed</td>\n",
              "      <td>Rural</td>\n",
              "      <td>174.12</td>\n",
              "      <td>24.0</td>\n",
              "      <td>never smoked</td>\n",
              "    </tr>\n",
              "    <tr>\n",
              "      <th>4</th>\n",
              "      <td>Male</td>\n",
              "      <td>81.0</td>\n",
              "      <td>0</td>\n",
              "      <td>0</td>\n",
              "      <td>Yes</td>\n",
              "      <td>Private</td>\n",
              "      <td>Urban</td>\n",
              "      <td>186.21</td>\n",
              "      <td>29.0</td>\n",
              "      <td>formerly smoked</td>\n",
              "    </tr>\n",
              "  </tbody>\n",
              "</table>\n",
              "</div>\n",
              "      <button class=\"colab-df-convert\" onclick=\"convertToInteractive('df-3e67741d-70d7-44c0-a43d-2d0e51c6004b')\"\n",
              "              title=\"Convert this dataframe to an interactive table.\"\n",
              "              style=\"display:none;\">\n",
              "        \n",
              "  <svg xmlns=\"http://www.w3.org/2000/svg\" height=\"24px\"viewBox=\"0 0 24 24\"\n",
              "       width=\"24px\">\n",
              "    <path d=\"M0 0h24v24H0V0z\" fill=\"none\"/>\n",
              "    <path d=\"M18.56 5.44l.94 2.06.94-2.06 2.06-.94-2.06-.94-.94-2.06-.94 2.06-2.06.94zm-11 1L8.5 8.5l.94-2.06 2.06-.94-2.06-.94L8.5 2.5l-.94 2.06-2.06.94zm10 10l.94 2.06.94-2.06 2.06-.94-2.06-.94-.94-2.06-.94 2.06-2.06.94z\"/><path d=\"M17.41 7.96l-1.37-1.37c-.4-.4-.92-.59-1.43-.59-.52 0-1.04.2-1.43.59L10.3 9.45l-7.72 7.72c-.78.78-.78 2.05 0 2.83L4 21.41c.39.39.9.59 1.41.59.51 0 1.02-.2 1.41-.59l7.78-7.78 2.81-2.81c.8-.78.8-2.07 0-2.86zM5.41 20L4 18.59l7.72-7.72 1.47 1.35L5.41 20z\"/>\n",
              "  </svg>\n",
              "      </button>\n",
              "      \n",
              "  <style>\n",
              "    .colab-df-container {\n",
              "      display:flex;\n",
              "      flex-wrap:wrap;\n",
              "      gap: 12px;\n",
              "    }\n",
              "\n",
              "    .colab-df-convert {\n",
              "      background-color: #E8F0FE;\n",
              "      border: none;\n",
              "      border-radius: 50%;\n",
              "      cursor: pointer;\n",
              "      display: none;\n",
              "      fill: #1967D2;\n",
              "      height: 32px;\n",
              "      padding: 0 0 0 0;\n",
              "      width: 32px;\n",
              "    }\n",
              "\n",
              "    .colab-df-convert:hover {\n",
              "      background-color: #E2EBFA;\n",
              "      box-shadow: 0px 1px 2px rgba(60, 64, 67, 0.3), 0px 1px 3px 1px rgba(60, 64, 67, 0.15);\n",
              "      fill: #174EA6;\n",
              "    }\n",
              "\n",
              "    [theme=dark] .colab-df-convert {\n",
              "      background-color: #3B4455;\n",
              "      fill: #D2E3FC;\n",
              "    }\n",
              "\n",
              "    [theme=dark] .colab-df-convert:hover {\n",
              "      background-color: #434B5C;\n",
              "      box-shadow: 0px 1px 3px 1px rgba(0, 0, 0, 0.15);\n",
              "      filter: drop-shadow(0px 1px 2px rgba(0, 0, 0, 0.3));\n",
              "      fill: #FFFFFF;\n",
              "    }\n",
              "  </style>\n",
              "\n",
              "      <script>\n",
              "        const buttonEl =\n",
              "          document.querySelector('#df-3e67741d-70d7-44c0-a43d-2d0e51c6004b button.colab-df-convert');\n",
              "        buttonEl.style.display =\n",
              "          google.colab.kernel.accessAllowed ? 'block' : 'none';\n",
              "\n",
              "        async function convertToInteractive(key) {\n",
              "          const element = document.querySelector('#df-3e67741d-70d7-44c0-a43d-2d0e51c6004b');\n",
              "          const dataTable =\n",
              "            await google.colab.kernel.invokeFunction('convertToInteractive',\n",
              "                                                     [key], {});\n",
              "          if (!dataTable) return;\n",
              "\n",
              "          const docLinkHtml = 'Like what you see? Visit the ' +\n",
              "            '<a target=\"_blank\" href=https://colab.research.google.com/notebooks/data_table.ipynb>data table notebook</a>'\n",
              "            + ' to learn more about interactive tables.';\n",
              "          element.innerHTML = '';\n",
              "          dataTable['output_type'] = 'display_data';\n",
              "          await google.colab.output.renderOutput(dataTable, element);\n",
              "          const docLink = document.createElement('div');\n",
              "          docLink.innerHTML = docLinkHtml;\n",
              "          element.appendChild(docLink);\n",
              "        }\n",
              "      </script>\n",
              "    </div>\n",
              "  </div>\n",
              "  "
            ]
          },
          "metadata": {},
          "execution_count": 12
        }
      ],
      "source": [
        "X.head()"
      ],
      "id": "5dc023d0-22d6-462d-b0b5-a274f4bc2f30"
    },
    {
      "cell_type": "code",
      "execution_count": 13,
      "metadata": {
        "colab": {
          "base_uri": "https://localhost:8080/"
        },
        "id": "8edbe7b1-3a2e-466b-b928-c2612a5ee94b",
        "outputId": "45d0d78b-fc49-47bd-bf91-bbf6ae1042d8"
      },
      "outputs": [
        {
          "output_type": "execute_result",
          "data": {
            "text/plain": [
              "0    1\n",
              "1    1\n",
              "2    1\n",
              "3    1\n",
              "4    1\n",
              "Name: stroke, dtype: int64"
            ]
          },
          "metadata": {},
          "execution_count": 13
        }
      ],
      "source": [
        "y.head()"
      ],
      "id": "8edbe7b1-3a2e-466b-b928-c2612a5ee94b"
    },
    {
      "cell_type": "code",
      "execution_count": 14,
      "metadata": {
        "id": "796f7229-9eb3-43a7-bc12-5460a5083c7a"
      },
      "outputs": [],
      "source": [
        "categoricas = [\"gender\", \"ever_married\", \"work_type\", \"Residence_type\", \"smoking_status\"]\n",
        "numericas = [\"age\", \"avg_glucose_level\", \"bmi\"]\n",
        "binarias = [\"hypertension\", \"heart_disease\"]"
      ],
      "id": "796f7229-9eb3-43a7-bc12-5460a5083c7a"
    },
    {
      "cell_type": "markdown",
      "metadata": {
        "id": "JRPikMJ_mCHz"
      },
      "source": [
        "Label Encoder\n",
        "\n",
        "Using LabelEncoder to transform categorical variables into continuous variables."
      ],
      "id": "JRPikMJ_mCHz"
    },
    {
      "cell_type": "code",
      "execution_count": 15,
      "metadata": {
        "colab": {
          "base_uri": "https://localhost:8080/",
          "height": 87
        },
        "id": "svaIu2gnmXXY",
        "outputId": "39d3c539-ee43-4947-db47-1fb1029e4744"
      },
      "outputs": [
        {
          "output_type": "execute_result",
          "data": {
            "text/plain": [
              "'\\nfrom sklearn.preprocessing import LabelEncoder\\n\\nlabel_encoder_gender = LabelEncoder()\\nlabel_encoder_ever_married = LabelEncoder()\\nlabel_encoder_work_type = LabelEncoder()\\nlabel_encoder_Residence_type = LabelEncoder()\\nlabel_encoder_smoking_status = LabelEncoder()\\n\\n\\nX[:,0] = label_encoder_gender.fit_transform(X[:,0])\\nX[:,4] = label_encoder_ever_married.fit_transform(X[:,4])\\nX[:,5] = label_encoder_work_type.fit_transform(X[:,5])\\nX[:,6] = label_encoder_Residence_type.fit_transform(X[:,6])\\nX[:,9] = label_encoder_smoking_status.fit_transform(X[:,9])\\n'"
            ],
            "application/vnd.google.colaboratory.intrinsic+json": {
              "type": "string"
            }
          },
          "metadata": {},
          "execution_count": 15
        }
      ],
      "source": [
        "'''\n",
        "from sklearn.preprocessing import LabelEncoder\n",
        "\n",
        "label_encoder_gender = LabelEncoder()\n",
        "label_encoder_ever_married = LabelEncoder()\n",
        "label_encoder_work_type = LabelEncoder()\n",
        "label_encoder_Residence_type = LabelEncoder()\n",
        "label_encoder_smoking_status = LabelEncoder()\n",
        "\n",
        "\n",
        "X[:,0] = label_encoder_gender.fit_transform(X[:,0])\n",
        "X[:,4] = label_encoder_ever_married.fit_transform(X[:,4])\n",
        "X[:,5] = label_encoder_work_type.fit_transform(X[:,5])\n",
        "X[:,6] = label_encoder_Residence_type.fit_transform(X[:,6])\n",
        "X[:,9] = label_encoder_smoking_status.fit_transform(X[:,9])\n",
        "'''"
      ],
      "id": "svaIu2gnmXXY"
    },
    {
      "cell_type": "markdown",
      "metadata": {
        "id": "CqXjKYw1m2lJ"
      },
      "source": [
        "### **We will run the models before scaling the data, after we will back here to run the StandardScaler and MinMax Scaler and verify if we have best results using the scaling.**"
      ],
      "id": "CqXjKYw1m2lJ"
    },
    {
      "cell_type": "code",
      "execution_count": 16,
      "metadata": {
        "id": "b2c2c7bc-5edd-4fbc-b428-e1c8e1986050"
      },
      "outputs": [],
      "source": [
        "from sklearn.preprocessing import MinMaxScaler, OneHotEncoder\n",
        "from sklearn.compose import ColumnTransformer"
      ],
      "id": "b2c2c7bc-5edd-4fbc-b428-e1c8e1986050"
    },
    {
      "cell_type": "code",
      "execution_count": 17,
      "metadata": {
        "id": "fcded680-babd-4fc0-9923-fc1377ab4c1f"
      },
      "outputs": [],
      "source": [
        "transformer_numerico = (\"transformer_numerico\", MinMaxScaler(), numericas)\n",
        "transformer_categorico = (\"transformer_categorico\", OneHotEncoder(), categoricas)\n",
        "\n",
        "transformer = ColumnTransformer([transformer_numerico, transformer_categorico], remainder=\"passthrough\")"
      ],
      "id": "fcded680-babd-4fc0-9923-fc1377ab4c1f"
    },
    {
      "cell_type": "code",
      "execution_count": 18,
      "metadata": {
        "id": "53292553-c9ed-493a-a6c5-a57acf060a2f"
      },
      "outputs": [],
      "source": [
        "X = transformer.fit_transform(X)"
      ],
      "id": "53292553-c9ed-493a-a6c5-a57acf060a2f"
    },
    {
      "cell_type": "code",
      "execution_count": 19,
      "metadata": {
        "colab": {
          "base_uri": "https://localhost:8080/",
          "height": 505
        },
        "id": "e4781256-4f1f-41a0-9bbc-c1eadebf971e",
        "outputId": "85c5916e-2b1a-4be3-da70-ed3bf4f0ef0b"
      },
      "outputs": [
        {
          "output_type": "execute_result",
          "data": {
            "text/plain": [
              "      transformer_numerico__age  transformer_numerico__avg_glucose_level  \\\n",
              "0                      0.816895                                 0.801265   \n",
              "1                      0.975586                                 0.234512   \n",
              "2                      0.597168                                 0.536008   \n",
              "3                      0.963379                                 0.549349   \n",
              "4                      0.987793                                 0.605161   \n",
              "...                         ...                                      ...   \n",
              "4976                   0.499512                                 0.069384   \n",
              "4977                   0.487305                                 0.627966   \n",
              "4978                   0.548340                                 0.184194   \n",
              "4979                   0.487305                                 0.133044   \n",
              "4980                   0.975586                                 0.132167   \n",
              "\n",
              "      transformer_numerico__bmi  transformer_categorico__gender_Female  \\\n",
              "0                      0.647564                                    0.0   \n",
              "1                      0.530086                                    0.0   \n",
              "2                      0.584527                                    1.0   \n",
              "3                      0.286533                                    1.0   \n",
              "4                      0.429799                                    0.0   \n",
              "...                         ...                                    ...   \n",
              "4976                   0.452722                                    0.0   \n",
              "4977                   0.489971                                    0.0   \n",
              "4978                   0.510029                                    1.0   \n",
              "4979                   0.458453                                    0.0   \n",
              "4980                   0.432665                                    1.0   \n",
              "\n",
              "      transformer_categorico__gender_Male  \\\n",
              "0                                     1.0   \n",
              "1                                     1.0   \n",
              "2                                     0.0   \n",
              "3                                     0.0   \n",
              "4                                     1.0   \n",
              "...                                   ...   \n",
              "4976                                  1.0   \n",
              "4977                                  1.0   \n",
              "4978                                  0.0   \n",
              "4979                                  1.0   \n",
              "4980                                  0.0   \n",
              "\n",
              "      transformer_categorico__ever_married_No  \\\n",
              "0                                         0.0   \n",
              "1                                         0.0   \n",
              "2                                         0.0   \n",
              "3                                         0.0   \n",
              "4                                         0.0   \n",
              "...                                       ...   \n",
              "4976                                      1.0   \n",
              "4977                                      0.0   \n",
              "4978                                      0.0   \n",
              "4979                                      0.0   \n",
              "4980                                      0.0   \n",
              "\n",
              "      transformer_categorico__ever_married_Yes  \\\n",
              "0                                          1.0   \n",
              "1                                          1.0   \n",
              "2                                          1.0   \n",
              "3                                          1.0   \n",
              "4                                          1.0   \n",
              "...                                        ...   \n",
              "4976                                       0.0   \n",
              "4977                                       1.0   \n",
              "4978                                       1.0   \n",
              "4979                                       1.0   \n",
              "4980                                       1.0   \n",
              "\n",
              "      transformer_categorico__work_type_Govt_job  \\\n",
              "0                                            0.0   \n",
              "1                                            0.0   \n",
              "2                                            0.0   \n",
              "3                                            0.0   \n",
              "4                                            0.0   \n",
              "...                                          ...   \n",
              "4976                                         0.0   \n",
              "4977                                         0.0   \n",
              "4978                                         1.0   \n",
              "4979                                         0.0   \n",
              "4980                                         0.0   \n",
              "\n",
              "      transformer_categorico__work_type_Private  \\\n",
              "0                                           1.0   \n",
              "1                                           1.0   \n",
              "2                                           1.0   \n",
              "3                                           0.0   \n",
              "4                                           1.0   \n",
              "...                                         ...   \n",
              "4976                                        1.0   \n",
              "4977                                        1.0   \n",
              "4978                                        0.0   \n",
              "4979                                        1.0   \n",
              "4980                                        1.0   \n",
              "\n",
              "      transformer_categorico__work_type_Self-employed  \\\n",
              "0                                                 0.0   \n",
              "1                                                 0.0   \n",
              "2                                                 0.0   \n",
              "3                                                 1.0   \n",
              "4                                                 0.0   \n",
              "...                                               ...   \n",
              "4976                                              0.0   \n",
              "4977                                              0.0   \n",
              "4978                                              0.0   \n",
              "4979                                              0.0   \n",
              "4980                                              0.0   \n",
              "\n",
              "      transformer_categorico__work_type_children  \\\n",
              "0                                            0.0   \n",
              "1                                            0.0   \n",
              "2                                            0.0   \n",
              "3                                            0.0   \n",
              "4                                            0.0   \n",
              "...                                          ...   \n",
              "4976                                         0.0   \n",
              "4977                                         0.0   \n",
              "4978                                         0.0   \n",
              "4979                                         0.0   \n",
              "4980                                         0.0   \n",
              "\n",
              "      transformer_categorico__Residence_type_Rural  \\\n",
              "0                                              0.0   \n",
              "1                                              1.0   \n",
              "2                                              0.0   \n",
              "3                                              1.0   \n",
              "4                                              0.0   \n",
              "...                                            ...   \n",
              "4976                                           1.0   \n",
              "4977                                           0.0   \n",
              "4978                                           1.0   \n",
              "4979                                           1.0   \n",
              "4980                                           0.0   \n",
              "\n",
              "      transformer_categorico__Residence_type_Urban  \\\n",
              "0                                              1.0   \n",
              "1                                              0.0   \n",
              "2                                              1.0   \n",
              "3                                              0.0   \n",
              "4                                              1.0   \n",
              "...                                            ...   \n",
              "4976                                           0.0   \n",
              "4977                                           1.0   \n",
              "4978                                           0.0   \n",
              "4979                                           0.0   \n",
              "4980                                           1.0   \n",
              "\n",
              "      transformer_categorico__smoking_status_Unknown  \\\n",
              "0                                                0.0   \n",
              "1                                                0.0   \n",
              "2                                                0.0   \n",
              "3                                                0.0   \n",
              "4                                                0.0   \n",
              "...                                              ...   \n",
              "4976                                             0.0   \n",
              "4977                                             0.0   \n",
              "4978                                             0.0   \n",
              "4979                                             0.0   \n",
              "4980                                             0.0   \n",
              "\n",
              "      transformer_categorico__smoking_status_formerly smoked  \\\n",
              "0                                                   1.0        \n",
              "1                                                   0.0        \n",
              "2                                                   0.0        \n",
              "3                                                   0.0        \n",
              "4                                                   1.0        \n",
              "...                                                 ...        \n",
              "4976                                                1.0        \n",
              "4977                                                0.0        \n",
              "4978                                                0.0        \n",
              "4979                                                0.0        \n",
              "4980                                                0.0        \n",
              "\n",
              "      transformer_categorico__smoking_status_never smoked  \\\n",
              "0                                                   0.0     \n",
              "1                                                   1.0     \n",
              "2                                                   0.0     \n",
              "3                                                   1.0     \n",
              "4                                                   0.0     \n",
              "...                                                 ...     \n",
              "4976                                                0.0     \n",
              "4977                                                0.0     \n",
              "4978                                                0.0     \n",
              "4979                                                0.0     \n",
              "4980                                                1.0     \n",
              "\n",
              "      transformer_categorico__smoking_status_smokes  remainder__hypertension  \\\n",
              "0                                               0.0                      0.0   \n",
              "1                                               0.0                      0.0   \n",
              "2                                               1.0                      0.0   \n",
              "3                                               0.0                      1.0   \n",
              "4                                               0.0                      0.0   \n",
              "...                                             ...                      ...   \n",
              "4976                                            0.0                      0.0   \n",
              "4977                                            1.0                      0.0   \n",
              "4978                                            1.0                      1.0   \n",
              "4979                                            1.0                      0.0   \n",
              "4980                                            0.0                      1.0   \n",
              "\n",
              "      remainder__heart_disease  \n",
              "0                          1.0  \n",
              "1                          1.0  \n",
              "2                          0.0  \n",
              "3                          0.0  \n",
              "4                          0.0  \n",
              "...                        ...  \n",
              "4976                       0.0  \n",
              "4977                       0.0  \n",
              "4978                       0.0  \n",
              "4979                       0.0  \n",
              "4980                       0.0  \n",
              "\n",
              "[4981 rows x 19 columns]"
            ],
            "text/html": [
              "\n",
              "  <div id=\"df-19948e73-c65f-4c78-a50d-a42d5a678435\">\n",
              "    <div class=\"colab-df-container\">\n",
              "      <div>\n",
              "<style scoped>\n",
              "    .dataframe tbody tr th:only-of-type {\n",
              "        vertical-align: middle;\n",
              "    }\n",
              "\n",
              "    .dataframe tbody tr th {\n",
              "        vertical-align: top;\n",
              "    }\n",
              "\n",
              "    .dataframe thead th {\n",
              "        text-align: right;\n",
              "    }\n",
              "</style>\n",
              "<table border=\"1\" class=\"dataframe\">\n",
              "  <thead>\n",
              "    <tr style=\"text-align: right;\">\n",
              "      <th></th>\n",
              "      <th>transformer_numerico__age</th>\n",
              "      <th>transformer_numerico__avg_glucose_level</th>\n",
              "      <th>transformer_numerico__bmi</th>\n",
              "      <th>transformer_categorico__gender_Female</th>\n",
              "      <th>transformer_categorico__gender_Male</th>\n",
              "      <th>transformer_categorico__ever_married_No</th>\n",
              "      <th>transformer_categorico__ever_married_Yes</th>\n",
              "      <th>transformer_categorico__work_type_Govt_job</th>\n",
              "      <th>transformer_categorico__work_type_Private</th>\n",
              "      <th>transformer_categorico__work_type_Self-employed</th>\n",
              "      <th>transformer_categorico__work_type_children</th>\n",
              "      <th>transformer_categorico__Residence_type_Rural</th>\n",
              "      <th>transformer_categorico__Residence_type_Urban</th>\n",
              "      <th>transformer_categorico__smoking_status_Unknown</th>\n",
              "      <th>transformer_categorico__smoking_status_formerly smoked</th>\n",
              "      <th>transformer_categorico__smoking_status_never smoked</th>\n",
              "      <th>transformer_categorico__smoking_status_smokes</th>\n",
              "      <th>remainder__hypertension</th>\n",
              "      <th>remainder__heart_disease</th>\n",
              "    </tr>\n",
              "  </thead>\n",
              "  <tbody>\n",
              "    <tr>\n",
              "      <th>0</th>\n",
              "      <td>0.816895</td>\n",
              "      <td>0.801265</td>\n",
              "      <td>0.647564</td>\n",
              "      <td>0.0</td>\n",
              "      <td>1.0</td>\n",
              "      <td>0.0</td>\n",
              "      <td>1.0</td>\n",
              "      <td>0.0</td>\n",
              "      <td>1.0</td>\n",
              "      <td>0.0</td>\n",
              "      <td>0.0</td>\n",
              "      <td>0.0</td>\n",
              "      <td>1.0</td>\n",
              "      <td>0.0</td>\n",
              "      <td>1.0</td>\n",
              "      <td>0.0</td>\n",
              "      <td>0.0</td>\n",
              "      <td>0.0</td>\n",
              "      <td>1.0</td>\n",
              "    </tr>\n",
              "    <tr>\n",
              "      <th>1</th>\n",
              "      <td>0.975586</td>\n",
              "      <td>0.234512</td>\n",
              "      <td>0.530086</td>\n",
              "      <td>0.0</td>\n",
              "      <td>1.0</td>\n",
              "      <td>0.0</td>\n",
              "      <td>1.0</td>\n",
              "      <td>0.0</td>\n",
              "      <td>1.0</td>\n",
              "      <td>0.0</td>\n",
              "      <td>0.0</td>\n",
              "      <td>1.0</td>\n",
              "      <td>0.0</td>\n",
              "      <td>0.0</td>\n",
              "      <td>0.0</td>\n",
              "      <td>1.0</td>\n",
              "      <td>0.0</td>\n",
              "      <td>0.0</td>\n",
              "      <td>1.0</td>\n",
              "    </tr>\n",
              "    <tr>\n",
              "      <th>2</th>\n",
              "      <td>0.597168</td>\n",
              "      <td>0.536008</td>\n",
              "      <td>0.584527</td>\n",
              "      <td>1.0</td>\n",
              "      <td>0.0</td>\n",
              "      <td>0.0</td>\n",
              "      <td>1.0</td>\n",
              "      <td>0.0</td>\n",
              "      <td>1.0</td>\n",
              "      <td>0.0</td>\n",
              "      <td>0.0</td>\n",
              "      <td>0.0</td>\n",
              "      <td>1.0</td>\n",
              "      <td>0.0</td>\n",
              "      <td>0.0</td>\n",
              "      <td>0.0</td>\n",
              "      <td>1.0</td>\n",
              "      <td>0.0</td>\n",
              "      <td>0.0</td>\n",
              "    </tr>\n",
              "    <tr>\n",
              "      <th>3</th>\n",
              "      <td>0.963379</td>\n",
              "      <td>0.549349</td>\n",
              "      <td>0.286533</td>\n",
              "      <td>1.0</td>\n",
              "      <td>0.0</td>\n",
              "      <td>0.0</td>\n",
              "      <td>1.0</td>\n",
              "      <td>0.0</td>\n",
              "      <td>0.0</td>\n",
              "      <td>1.0</td>\n",
              "      <td>0.0</td>\n",
              "      <td>1.0</td>\n",
              "      <td>0.0</td>\n",
              "      <td>0.0</td>\n",
              "      <td>0.0</td>\n",
              "      <td>1.0</td>\n",
              "      <td>0.0</td>\n",
              "      <td>1.0</td>\n",
              "      <td>0.0</td>\n",
              "    </tr>\n",
              "    <tr>\n",
              "      <th>4</th>\n",
              "      <td>0.987793</td>\n",
              "      <td>0.605161</td>\n",
              "      <td>0.429799</td>\n",
              "      <td>0.0</td>\n",
              "      <td>1.0</td>\n",
              "      <td>0.0</td>\n",
              "      <td>1.0</td>\n",
              "      <td>0.0</td>\n",
              "      <td>1.0</td>\n",
              "      <td>0.0</td>\n",
              "      <td>0.0</td>\n",
              "      <td>0.0</td>\n",
              "      <td>1.0</td>\n",
              "      <td>0.0</td>\n",
              "      <td>1.0</td>\n",
              "      <td>0.0</td>\n",
              "      <td>0.0</td>\n",
              "      <td>0.0</td>\n",
              "      <td>0.0</td>\n",
              "    </tr>\n",
              "    <tr>\n",
              "      <th>...</th>\n",
              "      <td>...</td>\n",
              "      <td>...</td>\n",
              "      <td>...</td>\n",
              "      <td>...</td>\n",
              "      <td>...</td>\n",
              "      <td>...</td>\n",
              "      <td>...</td>\n",
              "      <td>...</td>\n",
              "      <td>...</td>\n",
              "      <td>...</td>\n",
              "      <td>...</td>\n",
              "      <td>...</td>\n",
              "      <td>...</td>\n",
              "      <td>...</td>\n",
              "      <td>...</td>\n",
              "      <td>...</td>\n",
              "      <td>...</td>\n",
              "      <td>...</td>\n",
              "      <td>...</td>\n",
              "    </tr>\n",
              "    <tr>\n",
              "      <th>4976</th>\n",
              "      <td>0.499512</td>\n",
              "      <td>0.069384</td>\n",
              "      <td>0.452722</td>\n",
              "      <td>0.0</td>\n",
              "      <td>1.0</td>\n",
              "      <td>1.0</td>\n",
              "      <td>0.0</td>\n",
              "      <td>0.0</td>\n",
              "      <td>1.0</td>\n",
              "      <td>0.0</td>\n",
              "      <td>0.0</td>\n",
              "      <td>1.0</td>\n",
              "      <td>0.0</td>\n",
              "      <td>0.0</td>\n",
              "      <td>1.0</td>\n",
              "      <td>0.0</td>\n",
              "      <td>0.0</td>\n",
              "      <td>0.0</td>\n",
              "      <td>0.0</td>\n",
              "    </tr>\n",
              "    <tr>\n",
              "      <th>4977</th>\n",
              "      <td>0.487305</td>\n",
              "      <td>0.627966</td>\n",
              "      <td>0.489971</td>\n",
              "      <td>0.0</td>\n",
              "      <td>1.0</td>\n",
              "      <td>0.0</td>\n",
              "      <td>1.0</td>\n",
              "      <td>0.0</td>\n",
              "      <td>1.0</td>\n",
              "      <td>0.0</td>\n",
              "      <td>0.0</td>\n",
              "      <td>0.0</td>\n",
              "      <td>1.0</td>\n",
              "      <td>0.0</td>\n",
              "      <td>0.0</td>\n",
              "      <td>0.0</td>\n",
              "      <td>1.0</td>\n",
              "      <td>0.0</td>\n",
              "      <td>0.0</td>\n",
              "    </tr>\n",
              "    <tr>\n",
              "      <th>4978</th>\n",
              "      <td>0.548340</td>\n",
              "      <td>0.184194</td>\n",
              "      <td>0.510029</td>\n",
              "      <td>1.0</td>\n",
              "      <td>0.0</td>\n",
              "      <td>0.0</td>\n",
              "      <td>1.0</td>\n",
              "      <td>1.0</td>\n",
              "      <td>0.0</td>\n",
              "      <td>0.0</td>\n",
              "      <td>0.0</td>\n",
              "      <td>1.0</td>\n",
              "      <td>0.0</td>\n",
              "      <td>0.0</td>\n",
              "      <td>0.0</td>\n",
              "      <td>0.0</td>\n",
              "      <td>1.0</td>\n",
              "      <td>1.0</td>\n",
              "      <td>0.0</td>\n",
              "    </tr>\n",
              "    <tr>\n",
              "      <th>4979</th>\n",
              "      <td>0.487305</td>\n",
              "      <td>0.133044</td>\n",
              "      <td>0.458453</td>\n",
              "      <td>0.0</td>\n",
              "      <td>1.0</td>\n",
              "      <td>0.0</td>\n",
              "      <td>1.0</td>\n",
              "      <td>0.0</td>\n",
              "      <td>1.0</td>\n",
              "      <td>0.0</td>\n",
              "      <td>0.0</td>\n",
              "      <td>1.0</td>\n",
              "      <td>0.0</td>\n",
              "      <td>0.0</td>\n",
              "      <td>0.0</td>\n",
              "      <td>0.0</td>\n",
              "      <td>1.0</td>\n",
              "      <td>0.0</td>\n",
              "      <td>0.0</td>\n",
              "    </tr>\n",
              "    <tr>\n",
              "      <th>4980</th>\n",
              "      <td>0.975586</td>\n",
              "      <td>0.132167</td>\n",
              "      <td>0.432665</td>\n",
              "      <td>1.0</td>\n",
              "      <td>0.0</td>\n",
              "      <td>0.0</td>\n",
              "      <td>1.0</td>\n",
              "      <td>0.0</td>\n",
              "      <td>1.0</td>\n",
              "      <td>0.0</td>\n",
              "      <td>0.0</td>\n",
              "      <td>0.0</td>\n",
              "      <td>1.0</td>\n",
              "      <td>0.0</td>\n",
              "      <td>0.0</td>\n",
              "      <td>1.0</td>\n",
              "      <td>0.0</td>\n",
              "      <td>1.0</td>\n",
              "      <td>0.0</td>\n",
              "    </tr>\n",
              "  </tbody>\n",
              "</table>\n",
              "<p>4981 rows × 19 columns</p>\n",
              "</div>\n",
              "      <button class=\"colab-df-convert\" onclick=\"convertToInteractive('df-19948e73-c65f-4c78-a50d-a42d5a678435')\"\n",
              "              title=\"Convert this dataframe to an interactive table.\"\n",
              "              style=\"display:none;\">\n",
              "        \n",
              "  <svg xmlns=\"http://www.w3.org/2000/svg\" height=\"24px\"viewBox=\"0 0 24 24\"\n",
              "       width=\"24px\">\n",
              "    <path d=\"M0 0h24v24H0V0z\" fill=\"none\"/>\n",
              "    <path d=\"M18.56 5.44l.94 2.06.94-2.06 2.06-.94-2.06-.94-.94-2.06-.94 2.06-2.06.94zm-11 1L8.5 8.5l.94-2.06 2.06-.94-2.06-.94L8.5 2.5l-.94 2.06-2.06.94zm10 10l.94 2.06.94-2.06 2.06-.94-2.06-.94-.94-2.06-.94 2.06-2.06.94z\"/><path d=\"M17.41 7.96l-1.37-1.37c-.4-.4-.92-.59-1.43-.59-.52 0-1.04.2-1.43.59L10.3 9.45l-7.72 7.72c-.78.78-.78 2.05 0 2.83L4 21.41c.39.39.9.59 1.41.59.51 0 1.02-.2 1.41-.59l7.78-7.78 2.81-2.81c.8-.78.8-2.07 0-2.86zM5.41 20L4 18.59l7.72-7.72 1.47 1.35L5.41 20z\"/>\n",
              "  </svg>\n",
              "      </button>\n",
              "      \n",
              "  <style>\n",
              "    .colab-df-container {\n",
              "      display:flex;\n",
              "      flex-wrap:wrap;\n",
              "      gap: 12px;\n",
              "    }\n",
              "\n",
              "    .colab-df-convert {\n",
              "      background-color: #E8F0FE;\n",
              "      border: none;\n",
              "      border-radius: 50%;\n",
              "      cursor: pointer;\n",
              "      display: none;\n",
              "      fill: #1967D2;\n",
              "      height: 32px;\n",
              "      padding: 0 0 0 0;\n",
              "      width: 32px;\n",
              "    }\n",
              "\n",
              "    .colab-df-convert:hover {\n",
              "      background-color: #E2EBFA;\n",
              "      box-shadow: 0px 1px 2px rgba(60, 64, 67, 0.3), 0px 1px 3px 1px rgba(60, 64, 67, 0.15);\n",
              "      fill: #174EA6;\n",
              "    }\n",
              "\n",
              "    [theme=dark] .colab-df-convert {\n",
              "      background-color: #3B4455;\n",
              "      fill: #D2E3FC;\n",
              "    }\n",
              "\n",
              "    [theme=dark] .colab-df-convert:hover {\n",
              "      background-color: #434B5C;\n",
              "      box-shadow: 0px 1px 3px 1px rgba(0, 0, 0, 0.15);\n",
              "      filter: drop-shadow(0px 1px 2px rgba(0, 0, 0, 0.3));\n",
              "      fill: #FFFFFF;\n",
              "    }\n",
              "  </style>\n",
              "\n",
              "      <script>\n",
              "        const buttonEl =\n",
              "          document.querySelector('#df-19948e73-c65f-4c78-a50d-a42d5a678435 button.colab-df-convert');\n",
              "        buttonEl.style.display =\n",
              "          google.colab.kernel.accessAllowed ? 'block' : 'none';\n",
              "\n",
              "        async function convertToInteractive(key) {\n",
              "          const element = document.querySelector('#df-19948e73-c65f-4c78-a50d-a42d5a678435');\n",
              "          const dataTable =\n",
              "            await google.colab.kernel.invokeFunction('convertToInteractive',\n",
              "                                                     [key], {});\n",
              "          if (!dataTable) return;\n",
              "\n",
              "          const docLinkHtml = 'Like what you see? Visit the ' +\n",
              "            '<a target=\"_blank\" href=https://colab.research.google.com/notebooks/data_table.ipynb>data table notebook</a>'\n",
              "            + ' to learn more about interactive tables.';\n",
              "          element.innerHTML = '';\n",
              "          dataTable['output_type'] = 'display_data';\n",
              "          await google.colab.output.renderOutput(dataTable, element);\n",
              "          const docLink = document.createElement('div');\n",
              "          docLink.innerHTML = docLinkHtml;\n",
              "          element.appendChild(docLink);\n",
              "        }\n",
              "      </script>\n",
              "    </div>\n",
              "  </div>\n",
              "  "
            ]
          },
          "metadata": {},
          "execution_count": 19
        }
      ],
      "source": [
        "pd.DataFrame(X, columns = transformer.get_feature_names_out())"
      ],
      "id": "e4781256-4f1f-41a0-9bbc-c1eadebf971e"
    },
    {
      "cell_type": "code",
      "execution_count": 20,
      "metadata": {
        "colab": {
          "base_uri": "https://localhost:8080/"
        },
        "id": "1711071a-c366-44bc-9944-e8778679dae8",
        "outputId": "fd28bdc9-212f-47e2-ac23-3a1d2f6bb60d"
      },
      "outputs": [
        {
          "output_type": "execute_result",
          "data": {
            "text/plain": [
              "{'transformer_numerico': slice(0, 3, None),\n",
              " 'transformer_categorico': slice(3, 17, None),\n",
              " 'remainder': slice(17, 19, None)}"
            ]
          },
          "metadata": {},
          "execution_count": 20
        }
      ],
      "source": [
        "transformer.output_indices_"
      ],
      "id": "1711071a-c366-44bc-9944-e8778679dae8"
    },
    {
      "cell_type": "markdown",
      "source": [
        "# ENTRENAR"
      ],
      "metadata": {
        "id": "C9vP2rvHJjqM"
      },
      "id": "C9vP2rvHJjqM"
    },
    {
      "cell_type": "code",
      "source": [
        "from sklearn.model_selection import train_test_split\n",
        "\n",
        "X_train, X_test, y_train, y_test = train_test_split(X, y, test_size = 0.3, stratify=y)"
      ],
      "metadata": {
        "id": "S4j7yhdpJp6l"
      },
      "id": "S4j7yhdpJp6l",
      "execution_count": 21,
      "outputs": []
    },
    {
      "cell_type": "code",
      "execution_count": 22,
      "metadata": {
        "id": "3ab49930-e3e5-4054-b953-bf4430de9077"
      },
      "outputs": [],
      "source": [
        "#pip install xgboost"
      ],
      "id": "3ab49930-e3e5-4054-b953-bf4430de9077"
    },
    {
      "cell_type": "code",
      "execution_count": 23,
      "metadata": {
        "id": "569e510b-8953-46aa-8fd1-d9c7d6153992"
      },
      "outputs": [],
      "source": [
        "#pip install --upgrade xgboost"
      ],
      "id": "569e510b-8953-46aa-8fd1-d9c7d6153992"
    },
    {
      "cell_type": "code",
      "execution_count": 24,
      "metadata": {
        "id": "e1cb6caf-3df7-4890-8441-de05e59a5017"
      },
      "outputs": [],
      "source": [
        "#pip install lightgbm"
      ],
      "id": "e1cb6caf-3df7-4890-8441-de05e59a5017"
    },
    {
      "cell_type": "code",
      "execution_count": 25,
      "metadata": {
        "id": "c9c0f512-60a1-45df-9919-c42a0812bf74"
      },
      "outputs": [],
      "source": [
        "#pip install --upgrade lightgbm"
      ],
      "id": "c9c0f512-60a1-45df-9919-c42a0812bf74"
    },
    {
      "cell_type": "code",
      "execution_count": 26,
      "metadata": {
        "id": "78cfa3a3-7752-414c-bfd4-bf9bbe6244b8"
      },
      "outputs": [],
      "source": [
        "#pip install catboost"
      ],
      "id": "78cfa3a3-7752-414c-bfd4-bf9bbe6244b8"
    },
    {
      "cell_type": "code",
      "execution_count": 27,
      "metadata": {
        "id": "bbae0f8c-b00a-4d20-b043-ce91e80f3ca3"
      },
      "outputs": [],
      "source": [
        "#pip install --upgrade catboost"
      ],
      "id": "bbae0f8c-b00a-4d20-b043-ce91e80f3ca3"
    },
    {
      "cell_type": "code",
      "execution_count": 28,
      "metadata": {
        "colab": {
          "base_uri": "https://localhost:8080/"
        },
        "id": "7625b785-8c96-41f9-8819-1543b4b3fdc2",
        "outputId": "e9a0d2b8-9d1a-4db3-8cbd-a1ae3639ebe4"
      },
      "outputs": [
        {
          "output_type": "stream",
          "name": "stderr",
          "text": [
            "/usr/local/lib/python3.7/dist-packages/lightgbm/__init__.py:30: ResourceWarning: unclosed file <_io.TextIOWrapper name='/usr/local/lib/python3.7/dist-packages/lightgbm/VERSION.txt' mode='r' encoding='UTF-8'>\n",
            "  __version__ = open(os.path.join(dir_path, 'VERSION.txt')).read().strip()\n",
            "ResourceWarning: Enable tracemalloc to get the object allocation traceback\n"
          ]
        }
      ],
      "source": [
        "#Algoritmos\n",
        "from sklearn.svm import SVC\n",
        "from sklearn.neighbors import KNeighborsClassifier\n",
        "from sklearn.tree import DecisionTreeClassifier\n",
        "from sklearn.naive_bayes import GaussianNB\n",
        "from sklearn.ensemble import RandomForestClassifier\n",
        "from sklearn.ensemble import GradientBoostingClassifier\n",
        "from sklearn.metrics import accuracy_score\n",
        "from sklearn.linear_model import LogisticRegression\n",
        "from xgboost import XGBClassifier\n",
        "from lightgbm import LGBMClassifier\n",
        "#from catboost import CatBoostClassifier\n",
        "\n",
        "#Métricas\n",
        "from sklearn.metrics import accuracy_score\n",
        "from sklearn.metrics import balanced_accuracy_score\n",
        "from sklearn.metrics import precision_score\n",
        "from sklearn.metrics import recall_score\n",
        "from sklearn.metrics import hamming_loss\n",
        "from sklearn.metrics import jaccard_score\n",
        "from sklearn.metrics import log_loss\n",
        "from sklearn.metrics import zero_one_loss\n",
        "from sklearn.metrics import f1_score\n",
        "from sklearn.metrics import roc_auc_score\n",
        "from sklearn.metrics import matthews_corrcoef\n",
        "from sklearn.metrics import confusion_matrix\n",
        "from sklearn.metrics import classification_report\n",
        "\n"
      ],
      "id": "7625b785-8c96-41f9-8819-1543b4b3fdc2"
    },
    {
      "cell_type": "markdown",
      "metadata": {
        "id": "3ae96a69-3c44-4121-af10-38513a8905ac"
      },
      "source": [
        "from sklearn.model_selection import cross_val_score\n",
        "\n",
        "#Common Model Algorithms\n",
        "from sklearn.linear_model import LogisticRegression\n",
        "from sklearn.svm import SVC\n",
        "from sklearn.neighbors import KNeighborsClassifier\n",
        "from sklearn.tree import DecisionTreeClassifier\n",
        "from sklearn.ensemble import RandomForestClassifier\n",
        "from xgboost import XGBClassifier\n",
        "from lightgbm import LGBMClassifier\n",
        "from catboost import CatBoostClassifier\n",
        "\n",
        "# Defining a list of Machine Learning Algorithms I will be running\n",
        "MLA = [\n",
        "    LogisticRegression(max_iter = 2000, class_weight='balanced'),\n",
        "    LogisticRegression(random_state=0),\n",
        "    LogisticRegression(),\n",
        "    GaussianNB(),\n",
        "    #KNeighborsClassifier(),\n",
        "    DecisionTreeClassifier(),\n",
        "    RandomForestClassifier(),\n",
        "    XGBClassifier(),\n",
        "    LGBMClassifier(),\n",
        "    CatBoostClassifier(verbose=False)\n",
        "]\n",
        "\n",
        "row_index = 0\n",
        "\n",
        "# Setting up the table to compare the performances of each model\n",
        "MLA_cols = ['Model', 'Recall']\n",
        "MLA_compare = pd.DataFrame(columns = MLA_cols)\n",
        "\n",
        "# Iterate and store scores in the table\n",
        "for model in MLA:\n",
        "    MLA_compare.loc[row_index, 'Model'] = model.__class__.__name__\n",
        "    cv_results = cross_val_score(model, X_train, y_train, cv=10, scoring='recall')\n",
        "    MLA_compare.loc[row_index, 'Recall'] = cv_results.mean()\n",
        "    \n",
        "    row_index+=1\n",
        "\n",
        "# Present table\n",
        "MLA_compare.sort_values(by=['Recall'], ascending=False, inplace=True)\n",
        "MLA_compare"
      ],
      "id": "3ae96a69-3c44-4121-af10-38513a8905ac"
    },
    {
      "cell_type": "code",
      "execution_count": 29,
      "metadata": {
        "id": "43f9967d-933d-46f3-ac75-ebc78064d9d9"
      },
      "outputs": [],
      "source": [
        "def train_evaluate(nombre_modelo, modelo):\n",
        "    mod = modelo()\n",
        "    mod.fit(X_train, y_train)\n",
        "    \n",
        "    y_predict = mod.predict(X_test)\n",
        "    #accuracy del modelo\n",
        "    acc = accuracy_score(y_test, y_predict)\n",
        "    #overfitting\n",
        "    y_pred_train = mod.predict(X_train)\n",
        "    acc_train = accuracy_score(y_train, y_pred_train)\n",
        "    \n",
        "    \n",
        "    print(nombre_modelo)\n",
        "    print()\n",
        "    \n",
        "    print(f\"Accuaracy: {acc}\")\n",
        "    print(f\"Accuaracy_train: {acc_train}\")\n",
        "    print(\"Balanced_Accuracy:\", balanced_accuracy_score(y_test, y_predict))\n",
        "    print(\"Precision:\", precision_score(y_test, y_predict))\n",
        "    print( \"f1 score macro\", f1_score(y_test, y_predict, average='macro')) \n",
        "    print( \"f1 score micro\", f1_score(y_test, y_predict, average='micro')) \n",
        "    print( \"precision score\", precision_score(y_test, y_predict, average='macro')) \n",
        "    print( \"recall score\", recall_score(y_test, y_predict, average='macro'))\n",
        "    print( \"classification_report\\n\\n\", classification_report(y_test, y_predict))   \n",
        "\n",
        "    #Generamos la matriz de confusión\n",
        "    cnf_matrix = confusion_matrix(y_test, y_predict)\n",
        "    print(cnf_matrix)"
      ],
      "id": "43f9967d-933d-46f3-ac75-ebc78064d9d9"
    },
    {
      "cell_type": "code",
      "execution_count": 30,
      "metadata": {
        "colab": {
          "base_uri": "https://localhost:8080/"
        },
        "id": "d508d5db-700d-4951-a2df-591c167ff48c",
        "outputId": "f8ca5d96-fd7e-49c5-85b7-291ce6f1a743"
      },
      "outputs": [
        {
          "output_type": "stream",
          "name": "stdout",
          "text": [
            "XGBClassifier\n",
            "\n",
            "Accuaracy: 0.9511705685618729\n",
            "Accuaracy_train: 0.9500860585197934\n",
            "Balanced_Accuracy: 0.5067567567567568\n",
            "Precision: 1.0\n",
            "f1 score macro 0.5008118925100057\n",
            "f1 score micro 0.9511705685618729\n",
            "precision score 0.9755689424364122\n",
            "recall score 0.5067567567567568\n",
            "classification_report\n",
            "\n",
            "               precision    recall  f1-score   support\n",
            "\n",
            "           0       0.95      1.00      0.97      1421\n",
            "           1       1.00      0.01      0.03        74\n",
            "\n",
            "    accuracy                           0.95      1495\n",
            "   macro avg       0.98      0.51      0.50      1495\n",
            "weighted avg       0.95      0.95      0.93      1495\n",
            "\n",
            "[[1421    0]\n",
            " [  73    1]]\n"
          ]
        }
      ],
      "source": [
        "xgb = XGBClassifier(eval_metric= 'error', learning_rate= 0.1, random_state=0)\n",
        "xgb.fit(X_train, y_train)\n",
        "\n",
        "y_predict = xgb.predict(X_test)\n",
        "#accuracy del modelo\n",
        "acc = accuracy_score(y_test, y_predict)\n",
        "#overfitting\n",
        "y_pred_train = xgb.predict(X_train)\n",
        "acc_train = accuracy_score(y_train, y_pred_train)\n",
        "\n",
        "\n",
        "print(\"XGBClassifier\")\n",
        "print()\n",
        "\n",
        "print(f\"Accuaracy: {acc}\")\n",
        "print(f\"Accuaracy_train: {acc_train}\")\n",
        "print(\"Balanced_Accuracy:\", balanced_accuracy_score(y_test, y_predict))\n",
        "print(\"Precision:\", precision_score(y_test, y_predict))\n",
        "print( \"f1 score macro\", f1_score(y_test, y_predict, average='macro')) \n",
        "print( \"f1 score micro\", f1_score(y_test, y_predict, average='micro')) \n",
        "print( \"precision score\", precision_score(y_test, y_predict, average='macro')) \n",
        "print( \"recall score\", recall_score(y_test, y_predict, average='macro'))\n",
        "print( \"classification_report\\n\\n\", classification_report(y_test, y_predict))   \n",
        "\n",
        "#Generamos la matriz de confusión\n",
        "cnf_matrix = confusion_matrix(y_test, y_predict)\n",
        "print(cnf_matrix)\n",
        "\n"
      ],
      "id": "d508d5db-700d-4951-a2df-591c167ff48c"
    },
    {
      "cell_type": "code",
      "execution_count": 31,
      "metadata": {
        "colab": {
          "base_uri": "https://localhost:8080/"
        },
        "id": "d7731a7a-ef09-4e19-9b7d-e8b91d2ef5a3",
        "outputId": "5d9da84f-3d42-43b8-b1c1-52e9afcc4613"
      },
      "outputs": [
        {
          "output_type": "stream",
          "name": "stdout",
          "text": [
            "LGBMClassifier\n",
            "\n",
            "Accuaracy: 0.9411371237458194\n",
            "Accuaracy_train: 0.9974182444061962\n",
            "Balanced_Accuracy: 0.5142885672442322\n",
            "Precision: 0.15\n",
            "f1 score macro 0.5167215234512754\n",
            "f1 score micro 0.9411371237458194\n",
            "precision score 0.5509322033898305\n",
            "recall score 0.5142885672442322\n",
            "classification_report\n",
            "\n",
            "               precision    recall  f1-score   support\n",
            "\n",
            "           0       0.95      0.99      0.97      1421\n",
            "           1       0.15      0.04      0.06        74\n",
            "\n",
            "    accuracy                           0.94      1495\n",
            "   macro avg       0.55      0.51      0.52      1495\n",
            "weighted avg       0.91      0.94      0.92      1495\n",
            "\n",
            "[[1404   17]\n",
            " [  71    3]]\n"
          ]
        }
      ],
      "source": [
        "train_evaluate(\"LGBMClassifier\", LGBMClassifier)"
      ],
      "id": "d7731a7a-ef09-4e19-9b7d-e8b91d2ef5a3"
    },
    {
      "cell_type": "code",
      "execution_count": 32,
      "metadata": {
        "id": "8404fab6-ef21-4749-9d3f-e263462acc8a"
      },
      "outputs": [],
      "source": [
        "#train_evaluate(\"CatBoostClassifier\", CatBoostClassifier)"
      ],
      "id": "8404fab6-ef21-4749-9d3f-e263462acc8a"
    },
    {
      "cell_type": "code",
      "execution_count": 33,
      "metadata": {
        "id": "221a8618-9335-41f5-976b-867296bfe086"
      },
      "outputs": [],
      "source": [
        "#train_evaluate(\"SVC\", SVC)"
      ],
      "id": "221a8618-9335-41f5-976b-867296bfe086"
    },
    {
      "cell_type": "code",
      "execution_count": 34,
      "metadata": {
        "colab": {
          "base_uri": "https://localhost:8080/"
        },
        "id": "998e8e61-af76-47af-9999-80357ead45d1",
        "outputId": "ec385cea-3071-47a3-ae20-0eb8ad19298c"
      },
      "outputs": [
        {
          "output_type": "stream",
          "name": "stdout",
          "text": [
            "GradientBoost\n",
            "\n",
            "Accuaracy: 0.9471571906354515\n",
            "Accuaracy_train: 0.9584050487664946\n",
            "Balanced_Accuracy: 0.5110504593263214\n",
            "Precision: 0.2222222222222222\n",
            "f1 score macro 0.510508494245299\n",
            "f1 score micro 0.9471571906354515\n",
            "precision score 0.5868850007477194\n",
            "recall score 0.5110504593263214\n",
            "classification_report\n",
            "\n",
            "               precision    recall  f1-score   support\n",
            "\n",
            "           0       0.95      1.00      0.97      1421\n",
            "           1       0.22      0.03      0.05        74\n",
            "\n",
            "    accuracy                           0.95      1495\n",
            "   macro avg       0.59      0.51      0.51      1495\n",
            "weighted avg       0.92      0.95      0.93      1495\n",
            "\n",
            "[[1414    7]\n",
            " [  72    2]]\n"
          ]
        }
      ],
      "source": [
        "train_evaluate(\"GradientBoost\", GradientBoostingClassifier)"
      ],
      "id": "998e8e61-af76-47af-9999-80357ead45d1"
    },
    {
      "cell_type": "code",
      "execution_count": 35,
      "metadata": {
        "colab": {
          "base_uri": "https://localhost:8080/"
        },
        "id": "5bcb1a56-f7f2-404f-a39b-31869c753c5b",
        "outputId": "0138831f-68b1-44a1-f5a9-d5d9d3dfabef"
      },
      "outputs": [
        {
          "output_type": "stream",
          "name": "stdout",
          "text": [
            "Decission Tree\n",
            "\n",
            "Accuaracy: 0.9183946488294314\n",
            "Accuaracy_train: 1.0\n",
            "Balanced_Accuracy: 0.5471594043022614\n",
            "Precision: 0.14705882352941177\n",
            "f1 score macro 0.5490039958854249\n",
            "f1 score micro 0.9183946488294314\n",
            "precision score 0.5511047446308587\n",
            "recall score 0.5471594043022614\n",
            "classification_report\n",
            "\n",
            "               precision    recall  f1-score   support\n",
            "\n",
            "           0       0.96      0.96      0.96      1421\n",
            "           1       0.15      0.14      0.14        74\n",
            "\n",
            "    accuracy                           0.92      1495\n",
            "   macro avg       0.55      0.55      0.55      1495\n",
            "weighted avg       0.92      0.92      0.92      1495\n",
            "\n",
            "[[1363   58]\n",
            " [  64   10]]\n"
          ]
        }
      ],
      "source": [
        "train_evaluate(\"Decission Tree\", DecisionTreeClassifier)"
      ],
      "id": "5bcb1a56-f7f2-404f-a39b-31869c753c5b"
    },
    {
      "cell_type": "code",
      "execution_count": 36,
      "metadata": {
        "colab": {
          "base_uri": "https://localhost:8080/"
        },
        "id": "f945acfb-2625-4f9f-b698-e0d1510455e7",
        "outputId": "9627e8c9-ed10-41f2-ca52-52d6ec53078b"
      },
      "outputs": [
        {
          "output_type": "stream",
          "name": "stdout",
          "text": [
            "DecisionTreeClassifier\n",
            "\n",
            "Accuaracy: 0.9163879598662207\n",
            "Accuaracy_train: 1.0\n",
            "Balanced_Accuracy: 0.558913593396352\n",
            "Precision: 0.16\n",
            "f1 score macro 0.5585376167291506\n",
            "f1 score micro 0.9163879598662207\n",
            "precision score 0.558169014084507\n",
            "recall score 0.558913593396352\n",
            "classification_report\n",
            "\n",
            "               precision    recall  f1-score   support\n",
            "\n",
            "           0       0.96      0.96      0.96      1421\n",
            "           1       0.16      0.16      0.16        74\n",
            "\n",
            "    accuracy                           0.92      1495\n",
            "   macro avg       0.56      0.56      0.56      1495\n",
            "weighted avg       0.92      0.92      0.92      1495\n",
            "\n",
            "[[1358   63]\n",
            " [  62   12]]\n"
          ]
        }
      ],
      "source": [
        "dtc = DecisionTreeClassifier(class_weight='balanced')\n",
        "dtc.fit(X_train, y_train)\n",
        "y_predict = dtc.predict(X_test)\n",
        "#accuracy del modelo\n",
        "acc = accuracy_score(y_test, y_predict)\n",
        "#overfitting\n",
        "y_pred_train = dtc.predict(X_train)\n",
        "acc_train = accuracy_score(y_train, y_pred_train)\n",
        "\n",
        "print(\"DecisionTreeClassifier\")\n",
        "print()\n",
        "\n",
        "print(f\"Accuaracy: {acc}\")\n",
        "print(f\"Accuaracy_train: {acc_train}\")\n",
        "print(\"Balanced_Accuracy:\", balanced_accuracy_score(y_test, y_predict))\n",
        "print(\"Precision:\", precision_score(y_test, y_predict))\n",
        "print( \"f1 score macro\", f1_score(y_test, y_predict, average='macro')) \n",
        "print( \"f1 score micro\", f1_score(y_test, y_predict, average='micro')) \n",
        "print( \"precision score\", precision_score(y_test, y_predict, average='macro')) \n",
        "print( \"recall score\", recall_score(y_test, y_predict, average='macro'))\n",
        "print( \"classification_report\\n\\n\", classification_report(y_test, y_predict))   \n",
        "\n",
        "#Generamos la matriz de confusión\n",
        "cnf_matrix = confusion_matrix(y_test, y_predict)\n",
        "print(cnf_matrix)\n",
        "\n"
      ],
      "id": "f945acfb-2625-4f9f-b698-e0d1510455e7"
    },
    {
      "cell_type": "code",
      "execution_count": 37,
      "metadata": {
        "colab": {
          "base_uri": "https://localhost:8080/"
        },
        "id": "9615563f-a605-4c5a-af95-e0ab4b002e72",
        "outputId": "efa22743-0d6e-48ea-b1cf-bf7dbbbf1d3a"
      },
      "outputs": [
        {
          "output_type": "stream",
          "name": "stdout",
          "text": [
            "Gaussiano\n",
            "\n",
            "Accuaracy: 0.7719063545150502\n",
            "Accuaracy_train: 0.7685025817555938\n",
            "Balanced_Accuracy: 0.7262966696464233\n",
            "Precision: 0.1362397820163488\n",
            "f1 score macro 0.5464897087382096\n",
            "f1 score micro 0.7719063545150502\n",
            "precision score 0.5574815931358339\n",
            "recall score 0.7262966696464233\n",
            "classification_report\n",
            "\n",
            "               precision    recall  f1-score   support\n",
            "\n",
            "           0       0.98      0.78      0.87      1421\n",
            "           1       0.14      0.68      0.23        74\n",
            "\n",
            "    accuracy                           0.77      1495\n",
            "   macro avg       0.56      0.73      0.55      1495\n",
            "weighted avg       0.94      0.77      0.83      1495\n",
            "\n",
            "[[1104  317]\n",
            " [  24   50]]\n"
          ]
        }
      ],
      "source": [
        "train_evaluate(\"Gaussiano\", GaussianNB)"
      ],
      "id": "9615563f-a605-4c5a-af95-e0ab4b002e72"
    },
    {
      "cell_type": "code",
      "execution_count": 38,
      "metadata": {
        "colab": {
          "base_uri": "https://localhost:8080/"
        },
        "id": "617ed9d5-e97a-45bd-b0f6-413e96746235",
        "outputId": "17e46071-18f7-4d3d-9edc-d6785e583e24"
      },
      "outputs": [
        {
          "output_type": "stream",
          "name": "stdout",
          "text": [
            "KNN\n",
            "\n",
            "Accuaracy: 0.945819397993311\n",
            "Accuaracy_train: 0.9526678141135972\n",
            "Balanced_Accuracy: 0.5103467295585522\n",
            "Precision: 0.18181818181818182\n",
            "f1 score macro 0.5095879315581654\n",
            "f1 score micro 0.945819397993311\n",
            "precision score 0.5666503308012742\n",
            "recall score 0.5103467295585522\n",
            "classification_report\n",
            "\n",
            "               precision    recall  f1-score   support\n",
            "\n",
            "           0       0.95      0.99      0.97      1421\n",
            "           1       0.18      0.03      0.05        74\n",
            "\n",
            "    accuracy                           0.95      1495\n",
            "   macro avg       0.57      0.51      0.51      1495\n",
            "weighted avg       0.91      0.95      0.93      1495\n",
            "\n",
            "[[1412    9]\n",
            " [  72    2]]\n"
          ]
        }
      ],
      "source": [
        "train_evaluate(\"KNN\", KNeighborsClassifier)"
      ],
      "id": "617ed9d5-e97a-45bd-b0f6-413e96746235"
    },
    {
      "cell_type": "code",
      "execution_count": 39,
      "metadata": {
        "id": "193e8b82-608e-4e28-84cd-935db792705e"
      },
      "outputs": [],
      "source": [
        "#train_evaluate(\"RANDOM\", RandomForestClassifier)"
      ],
      "id": "193e8b82-608e-4e28-84cd-935db792705e"
    },
    {
      "cell_type": "code",
      "execution_count": 40,
      "metadata": {
        "colab": {
          "base_uri": "https://localhost:8080/"
        },
        "id": "3dd45754-08f3-4158-8f0a-f36a418785ce",
        "outputId": "9e97726d-57d6-44e1-b44f-0bcba1cebcb2"
      },
      "outputs": [
        {
          "output_type": "execute_result",
          "data": {
            "text/plain": [
              "0.9505016722408027"
            ]
          },
          "metadata": {},
          "execution_count": 40
        }
      ],
      "source": [
        "clf = LogisticRegression(random_state=0).fit(X_train, y_train)\n",
        "predic = clf.predict(X_test)\n",
        "accuracy_score(y_test, predic)"
      ],
      "id": "3dd45754-08f3-4158-8f0a-f36a418785ce"
    },
    {
      "cell_type": "code",
      "execution_count": 41,
      "metadata": {
        "colab": {
          "base_uri": "https://localhost:8080/"
        },
        "id": "04958ed8-c467-4840-b9f2-9bff12236e05",
        "outputId": "96176752-ea4f-4815-d3fb-a8e551c1eb25"
      },
      "outputs": [
        {
          "output_type": "execute_result",
          "data": {
            "text/plain": [
              "0.9505016722408027"
            ]
          },
          "metadata": {},
          "execution_count": 41
        }
      ],
      "source": [
        "clf = SVC().fit(X_train, y_train)\n",
        "predic = clf.predict(X_test)\n",
        "accuracy_score(y_test, predic)"
      ],
      "id": "04958ed8-c467-4840-b9f2-9bff12236e05"
    },
    {
      "cell_type": "code",
      "execution_count": 42,
      "metadata": {
        "colab": {
          "base_uri": "https://localhost:8080/"
        },
        "id": "2f80a099-6970-4b99-bad6-1ba1c5866d0e",
        "outputId": "d7e60c25-c9ab-4714-9c78-f5f1f6d80927"
      },
      "outputs": [
        {
          "output_type": "execute_result",
          "data": {
            "text/plain": [
              "['modelo_entrenado.pkl']"
            ]
          },
          "metadata": {},
          "execution_count": 42
        }
      ],
      "source": [
        "import joblib \n",
        "joblib.dump(clf, 'modelo_entrenado.pkl')"
      ],
      "id": "2f80a099-6970-4b99-bad6-1ba1c5866d0e"
    },
    {
      "cell_type": "code",
      "execution_count": 43,
      "metadata": {
        "id": "1a11a5b9-da0d-4a04-b55a-4eb44d4e0f98"
      },
      "outputs": [],
      "source": [
        "#submission_preds = clf.predict(X_test_test)"
      ],
      "id": "1a11a5b9-da0d-4a04-b55a-4eb44d4e0f98"
    },
    {
      "cell_type": "markdown",
      "metadata": {
        "id": "a33784fa-9c5e-4078-b339-5e411b4acfcc"
      },
      "source": [
        "# Tratatamos la entrada de datos de un paciente nuevo"
      ],
      "id": "a33784fa-9c5e-4078-b339-5e411b4acfcc"
    },
    {
      "cell_type": "code",
      "execution_count": 44,
      "metadata": {
        "id": "a2c31fc7-4bcd-46cb-a371-4fd88ba9d58c"
      },
      "outputs": [],
      "source": [
        "\n",
        "#Mensaje de bienvenida\n",
        "#print(\"¡Hola! Introduce los datos del nuevo paciente\")\n",
        "\n",
        "#Escribimos genero\n",
        "#gender = input(\"Por favor ingrese el genero del paciente (Male/Female): \")\n",
        "\n",
        "#Escribimos work_type\n",
        "#work_type = input(\"\\nPor favor ingrese el tipo de trabajo(Private/Self-employed/Govt_job/children): \\n\")\n",
        "\n",
        "##Leemos Residence_type\n",
        "#residence_type = input(\"\\nPor favor ingrese el tipo de residencia(Urban/Rural): \\n\")\n",
        "\n",
        "##Leemos smoking_status\n",
        "#smoking_status = input(\"\\nPor favor ingrese el tipo de fumador(formerly smoked/never smoked/smokes/Unknown): \\n\")\n",
        "\n",
        "##Leemos age\n",
        "#age = input(\"\\nPor favor ingrese la edad del pàciente: \\n\")\n",
        "\n",
        "##Leemos hypertension\n",
        "#hypertension = input(\"\\nPor favor ingrese la hipertension(1 or 0): \\n\")\n",
        "\n",
        "##Leemos heart_disease\n",
        "#heart_disease = input(\"\\nPor favor ingrese si esta enfermo del corazón(1 or 0): \\n\")\n",
        "\n",
        "##Leemos avg_glucose_level\n",
        "#avg_glucose_level = input(\"\\nPor favor ingrese nivel medio de glucosa: \\n\")\n",
        "\n",
        "##Leemos avg_glucose_level\n",
        "#bmi = input(\"\\nPor favor ingrese el BMI (Base Muscle Index): \\n\")\n",
        "\n",
        "gender = 'Male'\n",
        "age = '78'\n",
        "hypertension = '1'\n",
        "heart_disease = '0'\n",
        "work_type = 'Private'\n",
        "residence_type = 'Urban'\n",
        "avg_glucose_level = '174.12'\n",
        "bmi = '35'\n",
        "smoking_status = 'smokes'\n",
        "\n",
        "#Age será un entero o binario (0 ó 1)\n",
        "age = int(age)\n",
        "#BMI, avg_glucose_level será un real, así que usamos float()\n",
        "bmi = float(bmi)\n",
        "avg_glucose_level = float(avg_glucose_level)\n",
        "#Bool\n",
        "heart_disease = int(heart_disease)\n",
        "hypertension = int(hypertension)\n",
        "\n",
        "list_variables_predictoras = [[gender, age, hypertension, heart_disease, work_type, residence_type, avg_glucose_level, bmi, smoking_status]]\n",
        "\n",
        "list_variables_predictoras\n",
        "\n",
        "#Llamo a mi funcion predictora\n",
        "#predict(variables_predictoras)\n",
        "\n",
        "list_variables_predictoras\n",
        "\n",
        "columns = ['gender', 'age', 'hypertension', 'heart_disease', 'work_type', 'Residence_type', 'avg_glucose_level', 'bmi', 'smoking_status']\n",
        "X_valid = pd.DataFrame(list_variables_predictoras, columns = columns)\n"
      ],
      "id": "a2c31fc7-4bcd-46cb-a371-4fd88ba9d58c"
    },
    {
      "cell_type": "code",
      "execution_count": 45,
      "metadata": {
        "colab": {
          "base_uri": "https://localhost:8080/",
          "height": 145
        },
        "id": "83a7b1f2-ddb8-42b1-8e42-f55d9b3f214d",
        "outputId": "17aa7d02-d9fd-4a15-df17-2cbca137a4d1"
      },
      "outputs": [
        {
          "output_type": "execute_result",
          "data": {
            "text/plain": [
              "  gender  age  hypertension  heart_disease work_type Residence_type  \\\n",
              "0   Male   78             1              0   Private          Urban   \n",
              "\n",
              "   avg_glucose_level   bmi smoking_status  \n",
              "0             174.12  35.0         smokes  "
            ],
            "text/html": [
              "\n",
              "  <div id=\"df-5d41596d-10a2-4ced-b0a0-0a6260b9aa76\">\n",
              "    <div class=\"colab-df-container\">\n",
              "      <div>\n",
              "<style scoped>\n",
              "    .dataframe tbody tr th:only-of-type {\n",
              "        vertical-align: middle;\n",
              "    }\n",
              "\n",
              "    .dataframe tbody tr th {\n",
              "        vertical-align: top;\n",
              "    }\n",
              "\n",
              "    .dataframe thead th {\n",
              "        text-align: right;\n",
              "    }\n",
              "</style>\n",
              "<table border=\"1\" class=\"dataframe\">\n",
              "  <thead>\n",
              "    <tr style=\"text-align: right;\">\n",
              "      <th></th>\n",
              "      <th>gender</th>\n",
              "      <th>age</th>\n",
              "      <th>hypertension</th>\n",
              "      <th>heart_disease</th>\n",
              "      <th>work_type</th>\n",
              "      <th>Residence_type</th>\n",
              "      <th>avg_glucose_level</th>\n",
              "      <th>bmi</th>\n",
              "      <th>smoking_status</th>\n",
              "    </tr>\n",
              "  </thead>\n",
              "  <tbody>\n",
              "    <tr>\n",
              "      <th>0</th>\n",
              "      <td>Male</td>\n",
              "      <td>78</td>\n",
              "      <td>1</td>\n",
              "      <td>0</td>\n",
              "      <td>Private</td>\n",
              "      <td>Urban</td>\n",
              "      <td>174.12</td>\n",
              "      <td>35.0</td>\n",
              "      <td>smokes</td>\n",
              "    </tr>\n",
              "  </tbody>\n",
              "</table>\n",
              "</div>\n",
              "      <button class=\"colab-df-convert\" onclick=\"convertToInteractive('df-5d41596d-10a2-4ced-b0a0-0a6260b9aa76')\"\n",
              "              title=\"Convert this dataframe to an interactive table.\"\n",
              "              style=\"display:none;\">\n",
              "        \n",
              "  <svg xmlns=\"http://www.w3.org/2000/svg\" height=\"24px\"viewBox=\"0 0 24 24\"\n",
              "       width=\"24px\">\n",
              "    <path d=\"M0 0h24v24H0V0z\" fill=\"none\"/>\n",
              "    <path d=\"M18.56 5.44l.94 2.06.94-2.06 2.06-.94-2.06-.94-.94-2.06-.94 2.06-2.06.94zm-11 1L8.5 8.5l.94-2.06 2.06-.94-2.06-.94L8.5 2.5l-.94 2.06-2.06.94zm10 10l.94 2.06.94-2.06 2.06-.94-2.06-.94-.94-2.06-.94 2.06-2.06.94z\"/><path d=\"M17.41 7.96l-1.37-1.37c-.4-.4-.92-.59-1.43-.59-.52 0-1.04.2-1.43.59L10.3 9.45l-7.72 7.72c-.78.78-.78 2.05 0 2.83L4 21.41c.39.39.9.59 1.41.59.51 0 1.02-.2 1.41-.59l7.78-7.78 2.81-2.81c.8-.78.8-2.07 0-2.86zM5.41 20L4 18.59l7.72-7.72 1.47 1.35L5.41 20z\"/>\n",
              "  </svg>\n",
              "      </button>\n",
              "      \n",
              "  <style>\n",
              "    .colab-df-container {\n",
              "      display:flex;\n",
              "      flex-wrap:wrap;\n",
              "      gap: 12px;\n",
              "    }\n",
              "\n",
              "    .colab-df-convert {\n",
              "      background-color: #E8F0FE;\n",
              "      border: none;\n",
              "      border-radius: 50%;\n",
              "      cursor: pointer;\n",
              "      display: none;\n",
              "      fill: #1967D2;\n",
              "      height: 32px;\n",
              "      padding: 0 0 0 0;\n",
              "      width: 32px;\n",
              "    }\n",
              "\n",
              "    .colab-df-convert:hover {\n",
              "      background-color: #E2EBFA;\n",
              "      box-shadow: 0px 1px 2px rgba(60, 64, 67, 0.3), 0px 1px 3px 1px rgba(60, 64, 67, 0.15);\n",
              "      fill: #174EA6;\n",
              "    }\n",
              "\n",
              "    [theme=dark] .colab-df-convert {\n",
              "      background-color: #3B4455;\n",
              "      fill: #D2E3FC;\n",
              "    }\n",
              "\n",
              "    [theme=dark] .colab-df-convert:hover {\n",
              "      background-color: #434B5C;\n",
              "      box-shadow: 0px 1px 3px 1px rgba(0, 0, 0, 0.15);\n",
              "      filter: drop-shadow(0px 1px 2px rgba(0, 0, 0, 0.3));\n",
              "      fill: #FFFFFF;\n",
              "    }\n",
              "  </style>\n",
              "\n",
              "      <script>\n",
              "        const buttonEl =\n",
              "          document.querySelector('#df-5d41596d-10a2-4ced-b0a0-0a6260b9aa76 button.colab-df-convert');\n",
              "        buttonEl.style.display =\n",
              "          google.colab.kernel.accessAllowed ? 'block' : 'none';\n",
              "\n",
              "        async function convertToInteractive(key) {\n",
              "          const element = document.querySelector('#df-5d41596d-10a2-4ced-b0a0-0a6260b9aa76');\n",
              "          const dataTable =\n",
              "            await google.colab.kernel.invokeFunction('convertToInteractive',\n",
              "                                                     [key], {});\n",
              "          if (!dataTable) return;\n",
              "\n",
              "          const docLinkHtml = 'Like what you see? Visit the ' +\n",
              "            '<a target=\"_blank\" href=https://colab.research.google.com/notebooks/data_table.ipynb>data table notebook</a>'\n",
              "            + ' to learn more about interactive tables.';\n",
              "          element.innerHTML = '';\n",
              "          dataTable['output_type'] = 'display_data';\n",
              "          await google.colab.output.renderOutput(dataTable, element);\n",
              "          const docLink = document.createElement('div');\n",
              "          docLink.innerHTML = docLinkHtml;\n",
              "          element.appendChild(docLink);\n",
              "        }\n",
              "      </script>\n",
              "    </div>\n",
              "  </div>\n",
              "  "
            ]
          },
          "metadata": {},
          "execution_count": 45
        }
      ],
      "source": [
        "X_valid"
      ],
      "id": "83a7b1f2-ddb8-42b1-8e42-f55d9b3f214d"
    },
    {
      "cell_type": "markdown",
      "metadata": {
        "id": "3a4700cb-d713-4cd2-b4c5-a0bf5a4dce6f"
      },
      "source": [
        "X_valid\n",
        "print(\"GradientBoosting\")\n",
        "modelo = GradientBoostingClassifier\n",
        "mod = modelo()\n",
        "mod.fit(X_train, y_train)\n",
        "\n",
        "#Me falta las transformaciones de X_test\n",
        "X_valid = transformer.transform(X_valid)\n",
        "\n",
        "#pd.DataFrame(X_test, columns = transformer.get_feature_names_out())\n",
        "\n",
        "y_predict = mod.predict(X_valid)\n",
        "print(\"Stroke: \", y_predict)\n",
        "\n",
        "## Matrix. Transformacion variables predictoras\n",
        "#model.predict()"
      ],
      "id": "3a4700cb-d713-4cd2-b4c5-a0bf5a4dce6f"
    },
    {
      "cell_type": "markdown",
      "metadata": {
        "id": "d2b2c616-1d8a-4251-8cb0-bc16e9234ace"
      },
      "source": [
        "# Veamos de cuantas filas tenemos y cuantas hay :"
      ],
      "id": "d2b2c616-1d8a-4251-8cb0-bc16e9234ace"
    },
    {
      "cell_type": "code",
      "execution_count": 46,
      "metadata": {
        "colab": {
          "base_uri": "https://localhost:8080/"
        },
        "id": "011db5dc-62fc-4253-be02-d3658e35f208",
        "outputId": "73604e9d-1f10-4063-c8ca-454bf3f7438f"
      },
      "outputs": [
        {
          "output_type": "stream",
          "name": "stdout",
          "text": [
            "(4981, 11)\n",
            "0    4733\n",
            "1     248\n",
            "Name: stroke, dtype: int64\n"
          ]
        }
      ],
      "source": [
        "print(df.shape)\n",
        "print(pd.value_counts(df['stroke'], sort = True))"
      ],
      "id": "011db5dc-62fc-4253-be02-d3658e35f208"
    },
    {
      "cell_type": "markdown",
      "metadata": {
        "id": "d62ac3d5-b969-45e7-9611-acae168fa103"
      },
      "source": [
        "# Probando el Modelo “a secas” -sin estrategias-"
      ],
      "id": "d62ac3d5-b969-45e7-9611-acae168fa103"
    },
    {
      "cell_type": "code",
      "execution_count": 47,
      "metadata": {
        "colab": {
          "base_uri": "https://localhost:8080/"
        },
        "id": "b58112a0-6d33-4323-8cea-ac6912efb124",
        "outputId": "fcf66bde-0577-4030-bfae-71efe8f93bfc"
      },
      "outputs": [
        {
          "output_type": "stream",
          "name": "stdout",
          "text": [
            "Matrix de confusión - GradientBoosting\n",
            "[0 0 0 ... 0 0 0]\n",
            "Accuracy: 0.9471571906354515\n",
            "hamming_loss 0.05284280936454849\n",
            "jaccard_score 0.024691358024691357\n",
            "log_loss 1.825129720655489\n",
            "zero_one_loss 0.05284280936454855\n",
            "AUC&ROC 0.5110504593263213\n",
            "matthews_corrcoef 0.061971579512872764\n",
            "classification_report\n",
            "\n",
            "               precision    recall  f1-score   support\n",
            "\n",
            "           0       0.95      1.00      0.97      1421\n",
            "           1       0.22      0.03      0.05        74\n",
            "\n",
            "    accuracy                           0.95      1495\n",
            "   macro avg       0.59      0.51      0.51      1495\n",
            "weighted avg       0.92      0.95      0.93      1495\n",
            "\n"
          ]
        },
        {
          "output_type": "execute_result",
          "data": {
            "text/plain": [
              "array([[1414,    7],\n",
              "       [  72,    2]])"
            ]
          },
          "metadata": {},
          "execution_count": 47
        }
      ],
      "source": [
        "\n",
        "#Una vez entrenado el modelo, lo aplicamosa los datos reservado parra \"test\"\n",
        "print(\"Matrix de confusión - GradientBoosting\")\n",
        "modelo = GradientBoostingClassifier\n",
        "mod = modelo()\n",
        "mod.fit(X_train, y_train)\n",
        "\n",
        "predicted = mod.predict(X_test)\n",
        "print(predicted)\n",
        "\n",
        "#Generamos las métricas de evaluación\n",
        "#\"Accuracy\" es la precision y \"Precision\"es la exactitud\n",
        "\n",
        "print(\"Accuracy:\", accuracy_score(y_test, predicted))\n",
        "print( \"hamming_loss\", hamming_loss(y_test, predicted))\n",
        "print( \"jaccard_score\", jaccard_score(y_test, predicted))\n",
        "print( \"log_loss\",  log_loss(y_test, predicted))\n",
        "print( \"zero_one_loss\", zero_one_loss(y_test, predicted))\n",
        "print( \"AUC&ROC\", roc_auc_score(y_test, predicted))\n",
        "print( \"matthews_corrcoef\", matthews_corrcoef(y_test, predicted))\n",
        "print( \"classification_report\\n\\n\", classification_report(y_test, predicted))\n",
        "\n",
        "\n",
        "#Generamos la matriz de confusión\n",
        "cnf_matrix = confusion_matrix(y_test, predicted)\n",
        "cnf_matrix\n",
        "\n",
        "\n"
      ],
      "id": "b58112a0-6d33-4323-8cea-ac6912efb124"
    },
    {
      "cell_type": "code",
      "execution_count": 48,
      "metadata": {
        "colab": {
          "base_uri": "https://localhost:8080/"
        },
        "id": "ee0452da-786d-4031-9eff-640fb6b1c6ae",
        "outputId": "06ba3aeb-9886-4582-ab03-db6e20260d31"
      },
      "outputs": [
        {
          "output_type": "stream",
          "name": "stdout",
          "text": [
            "Matrix de confusión - LogisticRegression\n",
            "[0 0 0 ... 0 0 0]\n",
            "Accuracy: 0.9505016722408027\n",
            "Balanced_Accuracy: 0.5\n",
            "Precision: 0.0\n",
            "f1 score macro 0.4873113854595337\n",
            "f1 score micro 0.9505016722408027\n",
            "precision score 0.47525083612040137\n",
            "recall score 0.5\n",
            "hamming_loss 0.049498327759197325\n",
            "jaccard_score 0.0\n",
            "log_loss 1.7096116743969172\n",
            "zero_one_loss 0.04949832775919727\n",
            "AUC&ROC 0.5\n",
            "matthews_corrcoef 0.0\n",
            "classification_report\n",
            "\n",
            "               precision    recall  f1-score   support\n",
            "\n",
            "           0       0.95      1.00      0.97      1421\n",
            "           1       0.00      0.00      0.00        74\n",
            "\n",
            "    accuracy                           0.95      1495\n",
            "   macro avg       0.48      0.50      0.49      1495\n",
            "weighted avg       0.90      0.95      0.93      1495\n",
            "\n"
          ]
        },
        {
          "output_type": "stream",
          "name": "stderr",
          "text": [
            "/usr/local/lib/python3.7/dist-packages/sklearn/metrics/_classification.py:1318: UndefinedMetricWarning: Precision is ill-defined and being set to 0.0 due to no predicted samples. Use `zero_division` parameter to control this behavior.\n",
            "  _warn_prf(average, modifier, msg_start, len(result))\n",
            "/usr/local/lib/python3.7/dist-packages/sklearn/metrics/_classification.py:1318: UndefinedMetricWarning: Precision is ill-defined and being set to 0.0 in labels with no predicted samples. Use `zero_division` parameter to control this behavior.\n",
            "  _warn_prf(average, modifier, msg_start, len(result))\n",
            "/usr/local/lib/python3.7/dist-packages/sklearn/metrics/_classification.py:1318: UndefinedMetricWarning: Precision and F-score are ill-defined and being set to 0.0 in labels with no predicted samples. Use `zero_division` parameter to control this behavior.\n",
            "  _warn_prf(average, modifier, msg_start, len(result))\n",
            "/usr/local/lib/python3.7/dist-packages/sklearn/metrics/_classification.py:1318: UndefinedMetricWarning: Precision and F-score are ill-defined and being set to 0.0 in labels with no predicted samples. Use `zero_division` parameter to control this behavior.\n",
            "  _warn_prf(average, modifier, msg_start, len(result))\n",
            "/usr/local/lib/python3.7/dist-packages/sklearn/metrics/_classification.py:1318: UndefinedMetricWarning: Precision and F-score are ill-defined and being set to 0.0 in labels with no predicted samples. Use `zero_division` parameter to control this behavior.\n",
            "  _warn_prf(average, modifier, msg_start, len(result))\n"
          ]
        },
        {
          "output_type": "execute_result",
          "data": {
            "text/plain": [
              "array([[1421,    0],\n",
              "       [  74,    0]])"
            ]
          },
          "metadata": {},
          "execution_count": 48
        }
      ],
      "source": [
        "#Una vez entrenado el modelo, lo aplicamosa los datos reservado parra \"test\"\n",
        "print(\"Matrix de confusión - LogisticRegression\")\n",
        "modelo = LogisticRegression\n",
        "mod = modelo()\n",
        "mod.fit(X_train, y_train)\n",
        "\n",
        "predicted = mod.predict(X_test)\n",
        "print(predicted)\n",
        "\n",
        "#Generamos las métricas de evaluación\n",
        "#\"Accuracy\" es la precision y \"Precision\"es la exactitud\n",
        "\n",
        "print(\"Accuracy:\", accuracy_score(y_test, predicted))\n",
        "print(\"Balanced_Accuracy:\", balanced_accuracy_score(y_test, predicted))\n",
        "print(\"Precision:\", precision_score(y_test, predicted))\n",
        "print( \"f1 score macro\", f1_score(y_test, predicted, average='macro')) \n",
        "print( \"f1 score micro\", f1_score(y_test, predicted, average='micro')) \n",
        "print( \"precision score\", precision_score(y_test, predicted, average='macro')) \n",
        "print( \"recall score\", recall_score(y_test, predicted, average='macro')) \n",
        "print( \"hamming_loss\", hamming_loss(y_test, predicted))\n",
        "print( \"jaccard_score\", jaccard_score(y_test, predicted))\n",
        "print( \"log_loss\",  log_loss(y_test, predicted))\n",
        "print( \"zero_one_loss\", zero_one_loss(y_test, predicted))\n",
        "print( \"AUC&ROC\", roc_auc_score(y_test, predicted))\n",
        "print( \"matthews_corrcoef\", matthews_corrcoef(y_test, predicted))\n",
        "print( \"classification_report\\n\\n\", classification_report(y_test, predicted))\n",
        "\n",
        "\n",
        "#Generamos la matriz de confusión\n",
        "cnf_matrix = confusion_matrix(y_test, predicted)\n",
        "cnf_matrix\n"
      ],
      "id": "ee0452da-786d-4031-9eff-640fb6b1c6ae"
    },
    {
      "cell_type": "code",
      "execution_count": 49,
      "metadata": {
        "colab": {
          "base_uri": "https://localhost:8080/"
        },
        "id": "a0f42195-591f-4a2b-8d36-a79fa119b263",
        "outputId": "f2077369-7c0e-448d-90f8-1a65bbc856c9"
      },
      "outputs": [
        {
          "output_type": "stream",
          "name": "stdout",
          "text": [
            "Matrix de confusión - LogisticRegression\n",
            "[0 0 0 ... 0 0 0]\n",
            "Accuracy: 0.9505016722408027\n",
            "Balanced_Accuracy: 0.5\n",
            "Precision: 0.0\n",
            "f1 score macro 0.4873113854595337\n",
            "f1 score micro 0.9505016722408027\n",
            "precision score 0.47525083612040137\n",
            "recall score 0.9505016722408027\n",
            "hamming_loss 0.049498327759197325\n",
            "jaccard_score 0.0\n",
            "log_loss 1.7096116743969172\n",
            "zero_one_loss 0.04949832775919727\n",
            "AUC&ROC 0.5\n",
            "matthews_corrcoef 0.0\n",
            "classification_report\n",
            "\n",
            "               precision    recall  f1-score   support\n",
            "\n",
            "           0       0.95      1.00      0.97      1421\n",
            "           1       0.00      0.00      0.00        74\n",
            "\n",
            "    accuracy                           0.95      1495\n",
            "   macro avg       0.48      0.50      0.49      1495\n",
            "weighted avg       0.90      0.95      0.93      1495\n",
            "\n"
          ]
        },
        {
          "output_type": "stream",
          "name": "stderr",
          "text": [
            "/usr/local/lib/python3.7/dist-packages/sklearn/metrics/_classification.py:1318: UndefinedMetricWarning: Precision is ill-defined and being set to 0.0 due to no predicted samples. Use `zero_division` parameter to control this behavior.\n",
            "  _warn_prf(average, modifier, msg_start, len(result))\n",
            "/usr/local/lib/python3.7/dist-packages/sklearn/metrics/_classification.py:1318: UndefinedMetricWarning: Precision is ill-defined and being set to 0.0 in labels with no predicted samples. Use `zero_division` parameter to control this behavior.\n",
            "  _warn_prf(average, modifier, msg_start, len(result))\n",
            "/usr/local/lib/python3.7/dist-packages/sklearn/metrics/_classification.py:1318: UndefinedMetricWarning: Precision and F-score are ill-defined and being set to 0.0 in labels with no predicted samples. Use `zero_division` parameter to control this behavior.\n",
            "  _warn_prf(average, modifier, msg_start, len(result))\n",
            "/usr/local/lib/python3.7/dist-packages/sklearn/metrics/_classification.py:1318: UndefinedMetricWarning: Precision and F-score are ill-defined and being set to 0.0 in labels with no predicted samples. Use `zero_division` parameter to control this behavior.\n",
            "  _warn_prf(average, modifier, msg_start, len(result))\n",
            "/usr/local/lib/python3.7/dist-packages/sklearn/metrics/_classification.py:1318: UndefinedMetricWarning: Precision and F-score are ill-defined and being set to 0.0 in labels with no predicted samples. Use `zero_division` parameter to control this behavior.\n",
            "  _warn_prf(average, modifier, msg_start, len(result))\n"
          ]
        },
        {
          "output_type": "execute_result",
          "data": {
            "text/plain": [
              "array([[1421,    0],\n",
              "       [  74,    0]])"
            ]
          },
          "metadata": {},
          "execution_count": 49
        }
      ],
      "source": [
        "from sklearn.linear_model import LogisticRegression\n",
        "\n",
        "#Una vez entrenado el modelo, lo aplicamosa los datos reservado parra \"test\"\n",
        "print(\"Matrix de confusión - LogisticRegression\")\n",
        "\n",
        "logreg = LogisticRegression(random_state=0, class_weight=\"balanced\")\n",
        "\n",
        "mod = modelo()\n",
        "mod.fit(X_train, y_train)\n",
        "\n",
        "predicted = mod.predict(X_test)\n",
        "print(predicted)\n",
        "\n",
        "#Generamos las métricas de evaluación\n",
        "#\"Accuracy\" es la precision y \"Precision\"es la exactitud\n",
        "\n",
        "print(\"Accuracy:\", accuracy_score(y_test, predicted))\n",
        "print(\"Balanced_Accuracy:\", balanced_accuracy_score(y_test, predicted))\n",
        "print(\"Precision:\", precision_score(y_test, predicted))\n",
        "print( \"f1 score macro\", f1_score(y_test, predicted, average='macro')) \n",
        "print( \"f1 score micro\", f1_score(y_test, predicted, average='micro')) \n",
        "print( \"precision score\", precision_score(y_test, predicted, average='macro')) \n",
        "print( \"recall score\", recall_score(y_test, predicted, average='micro')) \n",
        "print( \"hamming_loss\", hamming_loss(y_test, predicted))\n",
        "print( \"jaccard_score\", jaccard_score(y_test, predicted))\n",
        "print( \"log_loss\",  log_loss(y_test, predicted))\n",
        "print( \"zero_one_loss\", zero_one_loss(y_test, predicted))\n",
        "print( \"AUC&ROC\", roc_auc_score(y_test, predicted))\n",
        "print( \"matthews_corrcoef\", matthews_corrcoef(y_test, predicted))\n",
        "print( \"classification_report\\n\\n\", classification_report(y_test, predicted))\n",
        "\n",
        "\n",
        "#Generamos la matriz de confusión\n",
        "cnf_matrix = confusion_matrix(y_test, predicted)\n",
        "cnf_matrix"
      ],
      "id": "a0f42195-591f-4a2b-8d36-a79fa119b263"
    },
    {
      "cell_type": "markdown",
      "metadata": {
        "id": "eaee5568-ff44-4981-bf0c-c6308ade1687"
      },
      "source": [
        "# Modelos Machine Learning. Balanceo de datos"
      ],
      "id": "eaee5568-ff44-4981-bf0c-c6308ade1687"
    },
    {
      "cell_type": "markdown",
      "metadata": {
        "id": "751d4aef-f094-4b87-b40a-dff8729b9b5c"
      },
      "source": [
        "### Despues de ver varios modelos descartamos y elegimos: Guassiano, TreeDecision y KNN"
      ],
      "id": "751d4aef-f094-4b87-b40a-dff8729b9b5c"
    },
    {
      "cell_type": "markdown",
      "metadata": {
        "id": "c17f1d68-dc84-460e-8b55-a82ed7f3d78f"
      },
      "source": [
        "# Oversampling"
      ],
      "id": "c17f1d68-dc84-460e-8b55-a82ed7f3d78f"
    },
    {
      "cell_type": "code",
      "execution_count": 50,
      "metadata": {
        "id": "a54108a4-4160-41cf-8cef-f7b8d6a6ee1d"
      },
      "outputs": [],
      "source": [
        "#pip install -U imbalanced-learn"
      ],
      "id": "a54108a4-4160-41cf-8cef-f7b8d6a6ee1d"
    },
    {
      "cell_type": "code",
      "execution_count": 51,
      "metadata": {
        "colab": {
          "base_uri": "https://localhost:8080/"
        },
        "id": "7392ae3d-2d3e-453f-a54b-892c278e2023",
        "outputId": "dda74f29-0b30-46d1-80e2-84edf1001d55"
      },
      "outputs": [
        {
          "output_type": "stream",
          "name": "stdout",
          "text": [
            "Distribution before resampling Counter({0: 3312, 1: 174})\n",
            "Distribution labels after resampling Counter({0: 3312, 1: 3312})\n"
          ]
        }
      ],
      "source": [
        "from pylab import rcParams\n",
        " \n",
        "from imblearn.under_sampling import NearMiss\n",
        "from imblearn.over_sampling import RandomOverSampler\n",
        "from imblearn.combine import SMOTETomek\n",
        "from imblearn.ensemble import BalancedBaggingClassifier\n",
        " \n",
        "from collections import Counter\n",
        "os = RandomOverSampler(random_state=0)   #rate = 0.5 para y_train se la mitad de X_train\n",
        "X_train_os, y_train_os = os.fit_resample(X_train, y_train)\n",
        " \n",
        "print (\"Distribution before resampling {}\".format(Counter(y_train)))\n",
        "print (\"Distribution labels after resampling {}\".format(Counter(y_train_os)))"
      ],
      "id": "7392ae3d-2d3e-453f-a54b-892c278e2023"
    },
    {
      "cell_type": "code",
      "execution_count": 52,
      "metadata": {
        "id": "111bd8b3-9476-4dfe-8205-f8bb60ca8539"
      },
      "outputs": [],
      "source": [
        "def train_evaluate_oversampling(nombre_modelo, modelo):\n",
        "    mod = modelo()\n",
        "    mod.fit(X_train_os, y_train_os)\n",
        "    \n",
        "    y_predict = mod.predict(X_test)\n",
        "    #accuracy del modelo\n",
        "    acc = accuracy_score(y_test, y_predict)\n",
        "    #overfitting\n",
        "    y_pred_train = mod.predict(X_train)\n",
        "    acc_train = accuracy_score(y_train, y_pred_train)\n",
        "    \n",
        "    \n",
        "    print(nombre_modelo)\n",
        "    print()\n",
        "    \n",
        "    print(f\"Accuaracy: {acc}\")\n",
        "    print(f\"Accuaracy_train: {acc_train}\")\n",
        "    print(\"Balanced_Accuracy:\", balanced_accuracy_score(y_test, y_predict))\n",
        "    print(\"Precision:\", precision_score(y_test, y_predict))\n",
        "    print( \"f1 score macro\", f1_score(y_test, y_predict, average='macro')) \n",
        "    print( \"f1 score micro\", f1_score(y_test, y_predict, average='micro')) \n",
        "    print( \"precision score\", precision_score(y_test, y_predict, average='macro')) \n",
        "    print( \"recall score\", recall_score(y_test, y_predict, average='macro'))\n",
        "    print( \"classification_report\\n\\n\", classification_report(y_test, y_predict))   \n",
        "\n",
        "    #Generamos la matriz de confusión\n",
        "    cnf_matrix = confusion_matrix(y_test, y_predict)\n",
        "    print(cnf_matrix)"
      ],
      "id": "111bd8b3-9476-4dfe-8205-f8bb60ca8539"
    },
    {
      "cell_type": "code",
      "execution_count": 53,
      "metadata": {
        "colab": {
          "base_uri": "https://localhost:8080/"
        },
        "id": "cafa9885-5215-42df-b051-4695f5125173",
        "outputId": "ac4a3fd4-aa6c-4977-da57-fe2a65f568bf"
      },
      "outputs": [
        {
          "output_type": "stream",
          "name": "stdout",
          "text": [
            "Gaussiano\n",
            "\n",
            "Accuaracy: 0.5384615384615384\n",
            "Accuaracy_train: 0.5309810671256454\n",
            "Balanced_Accuracy: 0.7123789870095288\n",
            "Precision: 0.08933333333333333\n",
            "f1 score macro 0.42203090121829867\n",
            "f1 score micro 0.5384615384615384\n",
            "precision score 0.5399686800894854\n",
            "recall score 0.7123789870095288\n",
            "classification_report\n",
            "\n",
            "               precision    recall  f1-score   support\n",
            "\n",
            "           0       0.99      0.52      0.68      1421\n",
            "           1       0.09      0.91      0.16        74\n",
            "\n",
            "    accuracy                           0.54      1495\n",
            "   macro avg       0.54      0.71      0.42      1495\n",
            "weighted avg       0.95      0.54      0.66      1495\n",
            "\n",
            "[[738 683]\n",
            " [  7  67]]\n"
          ]
        }
      ],
      "source": [
        "train_evaluate_oversampling(\"Gaussiano\", GaussianNB)"
      ],
      "id": "cafa9885-5215-42df-b051-4695f5125173"
    },
    {
      "cell_type": "markdown",
      "metadata": {
        "id": "daa07019-1a1c-40be-abdf-e1f79487ae81"
      },
      "source": [
        "### Mejora algo nuestro modelo Gaussiano con oversampling"
      ],
      "id": "daa07019-1a1c-40be-abdf-e1f79487ae81"
    },
    {
      "cell_type": "code",
      "execution_count": 54,
      "metadata": {
        "colab": {
          "base_uri": "https://localhost:8080/"
        },
        "id": "97720970-6280-4a2e-b1ef-b0523ccc401c",
        "outputId": "83196b3b-6e75-44e7-e0f1-6fcd8a780072"
      },
      "outputs": [
        {
          "output_type": "stream",
          "name": "stdout",
          "text": [
            "Decisiontree\n",
            "\n",
            "Accuaracy: 0.9090301003344482\n",
            "Accuaracy_train: 1.0\n",
            "Balanced_Accuracy: 0.5358284040550051\n",
            "Precision: 0.1125\n",
            "f1 score macro 0.5344641254373271\n",
            "f1 score micro 0.9090301003344482\n",
            "precision score 0.5332818021201413\n",
            "recall score 0.5358284040550051\n",
            "classification_report\n",
            "\n",
            "               precision    recall  f1-score   support\n",
            "\n",
            "           0       0.95      0.95      0.95      1421\n",
            "           1       0.11      0.12      0.12        74\n",
            "\n",
            "    accuracy                           0.91      1495\n",
            "   macro avg       0.53      0.54      0.53      1495\n",
            "weighted avg       0.91      0.91      0.91      1495\n",
            "\n",
            "[[1350   71]\n",
            " [  65    9]]\n"
          ]
        }
      ],
      "source": [
        "train_evaluate_oversampling(\"Decisiontree\", DecisionTreeClassifier)"
      ],
      "id": "97720970-6280-4a2e-b1ef-b0523ccc401c"
    },
    {
      "cell_type": "code",
      "execution_count": 55,
      "metadata": {
        "colab": {
          "base_uri": "https://localhost:8080/"
        },
        "id": "fb711b84-30d6-44ea-86dd-df2f06e36b1b",
        "outputId": "34de75cd-5713-4573-88e8-cb931e72765d"
      },
      "outputs": [
        {
          "output_type": "stream",
          "name": "stdout",
          "text": [
            "XGB\n",
            "\n",
            "Accuaracy: 0.7819397993311037\n",
            "Accuaracy_train: 0.8141135972461274\n",
            "Balanced_Accuracy: 0.7379795347775644\n",
            "Precision: 0.1440677966101695\n",
            "f1 score macro 0.5555367083251257\n",
            "f1 score micro 0.7819397993311036\n",
            "precision score 0.5619550201280471\n",
            "recall score 0.7379795347775644\n",
            "classification_report\n",
            "\n",
            "               precision    recall  f1-score   support\n",
            "\n",
            "           0       0.98      0.79      0.87      1421\n",
            "           1       0.14      0.69      0.24        74\n",
            "\n",
            "    accuracy                           0.78      1495\n",
            "   macro avg       0.56      0.74      0.56      1495\n",
            "weighted avg       0.94      0.78      0.84      1495\n",
            "\n",
            "[[1118  303]\n",
            " [  23   51]]\n"
          ]
        }
      ],
      "source": [
        "train_evaluate_oversampling(\"XGB\", XGBClassifier)"
      ],
      "id": "fb711b84-30d6-44ea-86dd-df2f06e36b1b"
    },
    {
      "cell_type": "markdown",
      "metadata": {
        "id": "3cbe1aba-ebd9-4821-b8d2-ab0e48425f76"
      },
      "source": [
        "### Mejora bastante nuestro modelo XGB"
      ],
      "id": "3cbe1aba-ebd9-4821-b8d2-ab0e48425f76"
    },
    {
      "cell_type": "code",
      "source": [
        "train_evaluate_oversampling(\"LGBM\", LGBMClassifier)"
      ],
      "metadata": {
        "colab": {
          "base_uri": "https://localhost:8080/"
        },
        "id": "Cp22gn0DW514",
        "outputId": "1af31474-1079-4e5b-b56a-9a8886a228db"
      },
      "id": "Cp22gn0DW514",
      "execution_count": 56,
      "outputs": [
        {
          "output_type": "stream",
          "name": "stdout",
          "text": [
            "LGBM\n",
            "\n",
            "Accuaracy: 0.8996655518394648\n",
            "Accuaracy_train: 0.9770510613884108\n",
            "Balanced_Accuracy: 0.5693316469178538\n",
            "Precision: 0.14150943396226415\n",
            "f1 score macro 0.5566429418742587\n",
            "f1 score micro 0.8996655518394648\n",
            "precision score 0.549516416045207\n",
            "recall score 0.5693316469178538\n",
            "classification_report\n",
            "\n",
            "               precision    recall  f1-score   support\n",
            "\n",
            "           0       0.96      0.94      0.95      1421\n",
            "           1       0.14      0.20      0.17        74\n",
            "\n",
            "    accuracy                           0.90      1495\n",
            "   macro avg       0.55      0.57      0.56      1495\n",
            "weighted avg       0.92      0.90      0.91      1495\n",
            "\n",
            "[[1330   91]\n",
            " [  59   15]]\n"
          ]
        }
      ]
    },
    {
      "cell_type": "code",
      "execution_count": 57,
      "metadata": {
        "colab": {
          "base_uri": "https://localhost:8080/",
          "height": 122
        },
        "id": "bh6sb2FnnIHR",
        "outputId": "7cd72fce-c0d6-493d-d827-56d009d4e5ce"
      },
      "outputs": [
        {
          "output_type": "execute_result",
          "data": {
            "text/plain": [
              "'\\n# Grid de hiperparámetros evaluados\\n# ==============================================================================\\nparam_grid = {\\'n_estimators\\'  : [50, 100, 500, 1000],\\n              \\'max_features\\'  : [\\'auto\\', \\'sqrt\\', \\'log2\\'],\\n              \\'max_depth\\'     : [None, 1, 3, 5, 10, 20],\\n              \\'subsample\\'     : [0.5, 1],\\n              \\'learning_rate\\' : [0.001, 0.01, 0.1]\\n             }\\n\\n# Búsqueda por grid search con validación cruzada\\n# ==============================================================================\\ngrid_GBC_ub = GridSearchCV(\\n        estimator  = GradientBoostingClassifier(random_state=123),\\n        param_grid = param_grid,\\n        scoring    = \\'accuracy\\',\\n        n_jobs     = multiprocessing.cpu_count() - 1,\\n        cv         = RepeatedKFold(n_splits=3, n_repeats=1, random_state=123), \\n        refit      = True,\\n        verbose    = 0,\\n        return_train_score = True\\n       )\\n\\ngrid_GBC_ub.fit(X = X_train_os, y = y_train_os)\\n\\n# Resultados\\n# ==============================================================================\\nprint(\"Resultados GridSearch ---->>> GradientBoostingClassifier\")\\nresultados = pd.DataFrame(grid_GBC_ub.cv_results_)\\nresultados.filter(regex = \\'(param*|mean_t|std_t)\\')     .drop(columns = \\'params\\')     .sort_values(\\'mean_test_score\\', ascending = False)     .head(4)\\n\\n# Mejores hiperparámetros por validación cruzada GradientBoostingClassifier\\n# ==============================================================================\\nprint(\"----------------------------------------\")\\nprint(\"Mejores hiperparámetros encontrados (cv) GradientBoostingClassifier\")\\nprint(\"----------------------------------------\")\\nprint(grid_GBC_ub.best_params_, \":\", grid_GBC_ub.best_score_, grid_GBC_ub.scoring)\\n'"
            ],
            "application/vnd.google.colaboratory.intrinsic+json": {
              "type": "string"
            }
          },
          "metadata": {},
          "execution_count": 57
        }
      ],
      "source": [
        "'''\n",
        "# Grid de hiperparámetros evaluados\n",
        "# ==============================================================================\n",
        "param_grid = {'n_estimators'  : [50, 100, 500, 1000],\n",
        "              'max_features'  : ['auto', 'sqrt', 'log2'],\n",
        "              'max_depth'     : [None, 1, 3, 5, 10, 20],\n",
        "              'subsample'     : [0.5, 1],\n",
        "              'learning_rate' : [0.001, 0.01, 0.1]\n",
        "             }\n",
        "\n",
        "# Búsqueda por grid search con validación cruzada\n",
        "# ==============================================================================\n",
        "grid_GBC_ub = GridSearchCV(\n",
        "        estimator  = GradientBoostingClassifier(random_state=123),\n",
        "        param_grid = param_grid,\n",
        "        scoring    = 'accuracy',\n",
        "        n_jobs     = multiprocessing.cpu_count() - 1,\n",
        "        cv         = RepeatedKFold(n_splits=3, n_repeats=1, random_state=123), \n",
        "        refit      = True,\n",
        "        verbose    = 0,\n",
        "        return_train_score = True\n",
        "       )\n",
        "\n",
        "grid_GBC_ub.fit(X = X_train_os, y = y_train_os)\n",
        "\n",
        "# Resultados\n",
        "# ==============================================================================\n",
        "print(\"Resultados GridSearch ---->>> GradientBoostingClassifier\")\n",
        "resultados = pd.DataFrame(grid_GBC_ub.cv_results_)\n",
        "resultados.filter(regex = '(param*|mean_t|std_t)') \\\n",
        "    .drop(columns = 'params') \\\n",
        "    .sort_values('mean_test_score', ascending = False) \\\n",
        "    .head(4)\n",
        "\n",
        "# Mejores hiperparámetros por validación cruzada GradientBoostingClassifier\n",
        "# ==============================================================================\n",
        "print(\"----------------------------------------\")\n",
        "print(\"Mejores hiperparámetros encontrados (cv) GradientBoostingClassifier\")\n",
        "print(\"----------------------------------------\")\n",
        "print(grid_GBC_ub.best_params_, \":\", grid_GBC_ub.best_score_, grid_GBC_ub.scoring)\n",
        "'''"
      ],
      "id": "bh6sb2FnnIHR"
    },
    {
      "cell_type": "markdown",
      "source": [
        "## LGBM con RandomOverSample"
      ],
      "metadata": {
        "id": "4zDptLsgx0Jo"
      },
      "id": "4zDptLsgx0Jo"
    },
    {
      "cell_type": "markdown",
      "source": [
        "### LGBM con gridsearch\n"
      ],
      "metadata": {
        "id": "C6-z9gjAVncQ"
      },
      "id": "C6-z9gjAVncQ"
    },
    {
      "cell_type": "code",
      "execution_count": 58,
      "metadata": {
        "id": "b55ff7de-2ea9-40d3-979b-0bd6054dae7d",
        "colab": {
          "base_uri": "https://localhost:8080/"
        },
        "outputId": "d1a1f794-177b-4358-8120-b915c5a85654"
      },
      "outputs": [
        {
          "output_type": "stream",
          "name": "stdout",
          "text": [
            "Resultados GridSearch ---->>> LGBMClassifier\n",
            "----------------------------------------\n",
            "Mejores hiperparámetros encontrados (cv) LGBMClassifier\n",
            "----------------------------------------\n",
            "{'boosting_type': 'gbdt', 'colsample_bytree': 1, 'learning_rate': 1, 'n_estimators': 500, 'num_leaves': 2, 'objective': 'binary', 'reg_alpha': 1, 'reg_lambda': 2, 'scale_pos_weight': 191, 'subsample': 0.5} : 1.0 recall\n"
          ]
        }
      ],
      "source": [
        "# Grid de hiperparámetros evaluados\n",
        "# ==============================================================================\n",
        "param_grid = {'learning_rate' : [1],\n",
        "              'n_estimators'  : [500],\n",
        "             'num_leaves': [2], # large num_leaves helps improve accuracy but might lead to over-fitting\n",
        "              'boosting_type' : ['gbdt'], # for better accuracy -> try dart\n",
        "              'objective' : ['binary'],\n",
        "               # large max_bin helps improve accuracy but might slow down training progress\n",
        "              'colsample_bytree' : [1],\n",
        "              'subsample'     : [0.5],\n",
        "              'reg_alpha' : [1],\n",
        "              'reg_lambda' : [2],\n",
        "              'scale_pos_weight' : [191]\n",
        "    }\n",
        "\n",
        "# Búsqueda por grid search con validación cruzada\n",
        "# ==============================================================================\n",
        "grid_LGBM= GridSearchCV(\n",
        "        estimator  = LGBMClassifier(),\n",
        "        param_grid = param_grid,\n",
        "        scoring    = 'recall',\n",
        "        n_jobs     = multiprocessing.cpu_count() - 1,\n",
        "        cv         = RepeatedKFold(n_splits=100, n_repeats=1, random_state=42), \n",
        "        refit      = True,\n",
        "        verbose    = 0,\n",
        "        return_train_score = True\n",
        "       )\n",
        "\n",
        "grid_LGBM.fit(X = X_train_os, y = y_train_os)\n",
        "\n",
        "# Resultados\n",
        "# ==============================================================================\n",
        "print(\"Resultados GridSearch ---->>> LGBMClassifier\")\n",
        "resultados = pd.DataFrame(grid_LGBM.cv_results_)\n",
        "resultados.filter(regex = '(param*|mean_t|std_t)') \\\n",
        "    .drop(columns = 'params') \\\n",
        "    .sort_values('mean_test_score', ascending = False) \\\n",
        "    .head(4)\n",
        "\n",
        "# Mejores hiperparámetros por validación cruzada LGBMClassifier\n",
        "# ==============================================================================\n",
        "print(\"----------------------------------------\")\n",
        "print(\"Mejores hiperparámetros encontrados (cv) LGBMClassifier\")\n",
        "print(\"----------------------------------------\")\n",
        "print(grid_LGBM.best_params_, \":\", grid_LGBM.best_score_, grid_LGBM.scoring)\n",
        "\n",
        "# Guardamos el mejor modelo\n",
        "modelo_LGBM_nr = grid_LGBM.best_estimator_\n",
        "#Accuracy del modelo\n",
        "LGBM_accuracy_nr = grid_LGBM.best_score_\n"
      ],
      "id": "b55ff7de-2ea9-40d3-979b-0bd6054dae7d"
    },
    {
      "cell_type": "code",
      "execution_count": 59,
      "metadata": {
        "id": "-ksgLX38VxIG",
        "colab": {
          "base_uri": "https://localhost:8080/"
        },
        "outputId": "e7211ebc-c95e-4591-e42f-6aad28748190"
      },
      "outputs": [
        {
          "output_type": "stream",
          "name": "stdout",
          "text": [
            "LGBM + hyperparameters (Strategy: Oversampling)\n",
            "\n",
            "Accuaracy: 0.5431438127090301\n",
            "Accuaracy_train: 0.5226620768789444\n",
            "Balanced_Accuracy: 0.746866500561082\n",
            "Precision: 0.09561752988047809\n",
            "f1 score macro 0.42917909817805333\n",
            "f1 score micro 0.5431438127090301\n",
            "precision score 0.5464610560453603\n",
            "recall score 0.746866500561082\n",
            "classification_report\n",
            "\n",
            "               precision    recall  f1-score   support\n",
            "\n",
            "           0       1.00      0.52      0.68      1421\n",
            "           1       0.10      0.97      0.17        74\n",
            "\n",
            "    accuracy                           0.54      1495\n",
            "   macro avg       0.55      0.75      0.43      1495\n",
            "weighted avg       0.95      0.54      0.66      1495\n",
            "\n",
            "[[740 681]\n",
            " [  2  72]]\n"
          ]
        }
      ],
      "source": [
        "    mod = modelo_LGBM_nr\n",
        "    #mod.fit(X_train_os, y_train_os)\n",
        "    \n",
        "    y_predict = mod.predict(X_test)\n",
        "    #accuracy del modelo\n",
        "    acc = accuracy_score(y_test, y_predict)\n",
        "    #overfitting\n",
        "    y_pred_train = mod.predict(X_train)\n",
        "    acc_train = accuracy_score(y_train, y_pred_train)\n",
        "    \n",
        "    \n",
        "    print(\"LGBM + hyperparameters (Strategy: Oversampling)\")\n",
        "    print()\n",
        "    \n",
        "    print(f\"Accuaracy: {acc}\")\n",
        "    print(f\"Accuaracy_train: {acc_train}\")\n",
        "    print(\"Balanced_Accuracy:\", balanced_accuracy_score(y_test, y_predict))\n",
        "    print(\"Precision:\", precision_score(y_test, y_predict))\n",
        "    print( \"f1 score macro\", f1_score(y_test, y_predict, average='macro')) \n",
        "    print( \"f1 score micro\", f1_score(y_test, y_predict, average='micro')) \n",
        "    print( \"precision score\", precision_score(y_test, y_predict, average='macro')) \n",
        "    print( \"recall score\", recall_score(y_test, y_predict, average='macro'))\n",
        "    print( \"classification_report\\n\\n\", classification_report(y_test, y_predict))   \n",
        "\n",
        "    #Generamos la matriz de confusión\n",
        "    cnf_matrix = confusion_matrix(y_test, y_predict)\n",
        "    print(cnf_matrix)"
      ],
      "id": "-ksgLX38VxIG"
    },
    {
      "cell_type": "markdown",
      "source": [
        "### LGBM con Random Search"
      ],
      "metadata": {
        "id": "QiPNCsvF7RJf"
      },
      "id": "QiPNCsvF7RJf"
    },
    {
      "cell_type": "code",
      "source": [
        "# Grid de hiperparámetros evaluados\n",
        "# ==============================================================================\n",
        "param_LGBM_randm = {\n",
        "              'n_estimators'  : sp_randInt(100, 1000),\n",
        "              'max_depth'     : sp_randInt(4, 10),\n",
        "              'subsample'     : sp_randFloat(),\n",
        "              'learning_rate' : sp_randFloat(),\n",
        "              'reg_alpha'     : [0.25],\n",
        "              'reg_lambda'    : [1,2,4,8,16],\n",
        "              \"min_child_weight\" : [20, 30, 40],  #mas opciones\n",
        "              'scale_pos_weight' : [1,2,3,4,5]\n",
        "             }\n",
        "\n",
        "# Búsqueda por grid search con validación cruzada\n",
        "# ==============================================================================\n",
        "randm_LGBM = RandomizedSearchCV(\n",
        "        estimator  = LGBMClassifier(),\n",
        "        param_distributions = param_LGBM_randm,\n",
        "        scoring    = ['recall', 'roc_auc'],     \n",
        "        n_jobs     = multiprocessing.cpu_count() - 1,\n",
        "        cv         = 10,  # nos quedamos con 200 en cross validation después de hacer pruebas con varios valores\n",
        "        refit      = 'recall',\n",
        "        verbose    = 0,\n",
        "        n_iter     = 3,\n",
        "        return_train_score = True\n",
        "       )\n",
        "\n",
        "#model=XGBClassifier()\n",
        "#randm = RandomizedSearchCV(estimator=model, \n",
        "#                           param_distributions = param_randm,\n",
        "#                            cv = 2, n_iter = 10, n_jobs=-1)\n",
        "\n",
        "randm_LGBM.fit(X_train_os, y_train_os)\n",
        "\n",
        "print(\" Results from Random Search \" )\n",
        "print(\" The best estimator across ALL searched params: \", randm_LGBM.best_estimator_)\n",
        "print(\" The best score across ALL searched params: \", randm_LGBM.best_score_)\n",
        "print(\" The best parameters across ALL searched params: \", randm_LGBM.best_params_)\n",
        "print(\" The best scoring across ALL searched params: : \", randm_LGBM.scoring)\n",
        "\n",
        "'''\n",
        "# Resultados\n",
        "# ==============================================================================\n",
        "print(\"Resultados GridSearch ---->>> XGBClassifier\")\n",
        "resultados = pd.DataFrame(randm_XGB.cv_results_)\n",
        "resultados.filter(regex = '(param*|mean_t|std_t)') \\\n",
        "    .drop(columns = 'params') \\\n",
        "    .sort_values('mean_test_score', ascending = False) \\\n",
        "    .head(4)\n",
        "\n",
        "# Mejores hiperparámetros por validación cruzada XGBClassifier\n",
        "# ==============================================================================\n",
        "print(\"----------------------------------------\")\n",
        "print(\"Mejores hiperparámetros encontrados (cv) XGBClassifier\")\n",
        "print(\"----------------------------------------\")\n",
        "print(randm_XGB.best_params_, \":\", randm_XGB.best_score_, randm_XGB.scoring)\n",
        "'''\n",
        "\n",
        "# Guardamos el mejor modelo\n",
        "modelo_LGBM_hyper_os = randm_LGBM.best_estimator_\n",
        "#Accuracy del modelo\n",
        "LGBM_accuracy_hyper_os = randm_LGBM.best_score_\n"
      ],
      "metadata": {
        "colab": {
          "base_uri": "https://localhost:8080/"
        },
        "id": "hZ4bgSed7lUH",
        "outputId": "f15cca5e-2b04-4111-b01e-d848543bdd35"
      },
      "id": "hZ4bgSed7lUH",
      "execution_count": 60,
      "outputs": [
        {
          "output_type": "stream",
          "name": "stdout",
          "text": [
            " Results from Random Search \n",
            " The best estimator across ALL searched params:  LGBMClassifier(learning_rate=0.8694209941502286, max_depth=5,\n",
            "               min_child_weight=30, n_estimators=237, reg_alpha=0.25,\n",
            "               reg_lambda=8, scale_pos_weight=1, subsample=0.9955368483590675)\n",
            " The best score across ALL searched params:  1.0\n",
            " The best parameters across ALL searched params:  {'learning_rate': 0.8694209941502286, 'max_depth': 5, 'min_child_weight': 30, 'n_estimators': 237, 'reg_alpha': 0.25, 'reg_lambda': 8, 'scale_pos_weight': 1, 'subsample': 0.9955368483590675}\n",
            " The best scoring across ALL searched params: :  ['recall', 'roc_auc']\n"
          ]
        }
      ]
    },
    {
      "cell_type": "code",
      "source": [
        "mod = modelo_LGBM_hyper_os\n",
        "#mod.fit(X_train_os, y_train_os)\n",
        "\n",
        "y_predict = mod.predict(X_test)\n",
        "#accuracy del modelo\n",
        "acc = accuracy_score(y_test, y_predict)\n",
        "#overfitting\n",
        "y_pred_train = mod.predict(X_train)\n",
        "acc_train = accuracy_score(y_train, y_pred_train)\n",
        "\n",
        "\n",
        "print(\"LGBM + hyperparameters (Strategy: Oversampling)\")\n",
        "print()\n",
        "\n",
        "print(f\"Accuaracy: {acc}\")\n",
        "print(f\"Accuaracy_train: {acc_train}\")\n",
        "print(\"Balanced_Accuracy:\", balanced_accuracy_score(y_test, y_predict))\n",
        "print(\"Precision:\", precision_score(y_test, y_predict))\n",
        "print( \"f1 score macro\", f1_score(y_test, y_predict, average='macro')) \n",
        "print( \"f1 score micro\", f1_score(y_test, y_predict, average='micro')) \n",
        "print( \"precision score\", precision_score(y_test, y_predict, average='macro')) \n",
        "print( \"recall score\", recall_score(y_test, y_predict, average='macro'))\n",
        "print( \"classification_report\\n\\n\", classification_report(y_test, y_predict))   \n",
        "\n",
        "#Generamos la matriz de confusión\n",
        "cnf_matrix = confusion_matrix(y_test, y_predict)\n",
        "print(cnf_matrix)"
      ],
      "metadata": {
        "colab": {
          "base_uri": "https://localhost:8080/"
        },
        "id": "mqwul0_5QpIr",
        "outputId": "0d9e4186-4d70-47e6-8cf5-cb0ce9b4d058"
      },
      "id": "mqwul0_5QpIr",
      "execution_count": 61,
      "outputs": [
        {
          "output_type": "stream",
          "name": "stdout",
          "text": [
            "LGBM + hyperparameters (Strategy: Oversampling)\n",
            "\n",
            "Accuaracy: 0.8989966555183947\n",
            "Accuaracy_train: 0.9847963281698221\n",
            "Balanced_Accuracy: 0.5753846739068413\n",
            "Precision: 0.14678899082568808\n",
            "f1 score macro 0.5605346508825516\n",
            "f1 score micro 0.8989966555183947\n",
            "precision score 0.5524709744893231\n",
            "recall score 0.5753846739068413\n",
            "classification_report\n",
            "\n",
            "               precision    recall  f1-score   support\n",
            "\n",
            "           0       0.96      0.93      0.95      1421\n",
            "           1       0.15      0.22      0.17        74\n",
            "\n",
            "    accuracy                           0.90      1495\n",
            "   macro avg       0.55      0.58      0.56      1495\n",
            "weighted avg       0.92      0.90      0.91      1495\n",
            "\n",
            "[[1328   93]\n",
            " [  58   16]]\n"
          ]
        }
      ]
    },
    {
      "cell_type": "markdown",
      "source": [
        "### XGB con randomsearch"
      ],
      "metadata": {
        "id": "cNsml5F8VuXi"
      },
      "id": "cNsml5F8VuXi"
    },
    {
      "cell_type": "code",
      "source": [
        "# Grid de hiperparámetros evaluados\n",
        "# ==============================================================================\n",
        "param_XGB = {\n",
        "              'n_estimators'  : sp_randInt(100, 1000),\n",
        "              'max_depth'     : sp_randInt(4, 10),\n",
        "              'subsample'     : sp_randFloat(),\n",
        "              'learning_rate' : sp_randFloat(),\n",
        "              'reg_alpha'     : [0.25],\n",
        "              'reg_lambda'    : [1,2,4,8,16],\n",
        "              \"min_child_weight\" : [20],\n",
        "              'scale_pos_weight' : [1,2,3,4,5]\n",
        "             }\n",
        "\n",
        "# Búsqueda por grid search con validación cruzada\n",
        "# ==============================================================================\n",
        "randm_XGB = RandomizedSearchCV(\n",
        "        estimator  = XGBClassifier(random_state=42),\n",
        "        param_distributions = param_XGB,\n",
        "        scoring    = ['recall'],\n",
        "        n_jobs     = multiprocessing.cpu_count() - 1,\n",
        "        cv         = 5, # nos quedamos con 200 en cross validation después de hacer pruebas con varios valores\n",
        "        refit      = False,\n",
        "        verbose    = 0,\n",
        "        return_train_score = True\n",
        "       )\n",
        "\n",
        "#model=XGBClassifier()\n",
        "#randm = RandomizedSearchCV(estimator=model, \n",
        "#                           param_distributions = param_randm,\n",
        "#                            cv = 2, n_iter = 10, n_jobs=-1)\n",
        "randm_XGB.fit(X_train_os, y_train_os)\n",
        "\n",
        "print(\" Results from Random Search \" )\n",
        "print(\" The best estimator across ALL searched params: \", randm_XGB.best_estimator_)\n",
        "print(\" The best score across ALL searched params: \", randm_XGB.best_score_)\n",
        "print(\" The best parameters across ALL searched params: \", randm_XGB.best_params_)\n",
        "\n",
        "'''\n",
        "# Resultados\n",
        "# ==============================================================================\n",
        "print(\"Resultados GridSearch ---->>> XGBClassifier\")\n",
        "resultados = pd.DataFrame(randm_XGB.cv_results_)\n",
        "resultados.filter(regex = '(param*|mean_t|std_t)') \\\n",
        "    .drop(columns = 'params') \\\n",
        "    .sort_values('mean_test_score', ascending = False) \\\n",
        "    .head(4)\n",
        "\n",
        "# Mejores hiperparámetros por validación cruzada XGBClassifier\n",
        "# ==============================================================================\n",
        "print(\"----------------------------------------\")\n",
        "print(\"Mejores hiperparámetros encontrados (cv) XGBClassifier\")\n",
        "print(\"----------------------------------------\")\n",
        "print(randm_XGB.best_params_, \":\", randm_XGB.best_score_, randm_XGB.scoring)\n",
        "'''\n",
        "\n",
        "# Guardamos el mejor modelo\n",
        "modelo_XGB_hyper_os = randm_XGB.best_estimator_\n",
        "#Accuracy del modelo\n",
        "XGB_accuracy_hyper_os = randm_XGB.best_score_\n"
      ],
      "metadata": {
        "colab": {
          "base_uri": "https://localhost:8080/",
          "height": 254
        },
        "id": "8G2hfrTOVElt",
        "outputId": "3ed9db9f-d22f-4784-daa9-1ed8697ee983"
      },
      "id": "8G2hfrTOVElt",
      "execution_count": 62,
      "outputs": [
        {
          "output_type": "stream",
          "name": "stdout",
          "text": [
            " Results from Random Search \n"
          ]
        },
        {
          "output_type": "error",
          "ename": "AttributeError",
          "evalue": "ignored",
          "traceback": [
            "\u001b[0;31m---------------------------------------------------------------------------\u001b[0m",
            "\u001b[0;31mAttributeError\u001b[0m                            Traceback (most recent call last)",
            "\u001b[0;32m<ipython-input-62-789c8aa4a2e3>\u001b[0m in \u001b[0;36m<module>\u001b[0;34m\u001b[0m\n\u001b[1;32m     32\u001b[0m \u001b[0;34m\u001b[0m\u001b[0m\n\u001b[1;32m     33\u001b[0m \u001b[0mprint\u001b[0m\u001b[0;34m(\u001b[0m\u001b[0;34m\" Results from Random Search \"\u001b[0m \u001b[0;34m)\u001b[0m\u001b[0;34m\u001b[0m\u001b[0;34m\u001b[0m\u001b[0m\n\u001b[0;32m---> 34\u001b[0;31m \u001b[0mprint\u001b[0m\u001b[0;34m(\u001b[0m\u001b[0;34m\" The best estimator across ALL searched params: \"\u001b[0m\u001b[0;34m,\u001b[0m \u001b[0mrandm_XGB\u001b[0m\u001b[0;34m.\u001b[0m\u001b[0mbest_estimator_\u001b[0m\u001b[0;34m)\u001b[0m\u001b[0;34m\u001b[0m\u001b[0;34m\u001b[0m\u001b[0m\n\u001b[0m\u001b[1;32m     35\u001b[0m \u001b[0mprint\u001b[0m\u001b[0;34m(\u001b[0m\u001b[0;34m\" The best score across ALL searched params: \"\u001b[0m\u001b[0;34m,\u001b[0m \u001b[0mrandm_XGB\u001b[0m\u001b[0;34m.\u001b[0m\u001b[0mbest_score_\u001b[0m\u001b[0;34m)\u001b[0m\u001b[0;34m\u001b[0m\u001b[0;34m\u001b[0m\u001b[0m\n\u001b[1;32m     36\u001b[0m \u001b[0mprint\u001b[0m\u001b[0;34m(\u001b[0m\u001b[0;34m\" The best parameters across ALL searched params: \"\u001b[0m\u001b[0;34m,\u001b[0m \u001b[0mrandm_XGB\u001b[0m\u001b[0;34m.\u001b[0m\u001b[0mbest_params_\u001b[0m\u001b[0;34m)\u001b[0m\u001b[0;34m\u001b[0m\u001b[0;34m\u001b[0m\u001b[0m\n",
            "\u001b[0;31mAttributeError\u001b[0m: 'RandomizedSearchCV' object has no attribute 'best_estimator_'"
          ]
        }
      ]
    },
    {
      "cell_type": "markdown",
      "source": [
        "### GradientBoosting con RandomSearch"
      ],
      "metadata": {
        "id": "MB864YZAzevs"
      },
      "id": "MB864YZAzevs"
    },
    {
      "cell_type": "code",
      "source": [
        "'''\n",
        "model = GradientBoostingClassifier()\n",
        "parameters = {\"learning_rate\": sp_randFloat(),\n",
        "              \"subsample\"    : sp_randFloat(),\n",
        "              \"n_estimators\" : sp_randInt(100, 1000),\n",
        "              \"max_depth\"    : sp_randInt(4, 10)\n",
        "              }\n",
        "\n",
        "randm_GradientBoosting = RandomizedSearchCV(\n",
        "              estimator=model, \n",
        "              param_distributions=parameters,\n",
        "              scoring = 'recall',\n",
        "              cv = 2, \n",
        "              n_iter = 10,\n",
        "              n_jobs=-1\n",
        "              )\n",
        "\n",
        "randm_GradientBoosting.fit(X_train_os, y_train_os)\n",
        "\n",
        "print(\" Results from Random Search \" )\n",
        "print(\" The best estimator across ALL searched params: \", randm_GradientBoosting.best_estimator_)\n",
        "print(\" The best score across ALL searched params: \", randm_GradientBoosting.best_score_)\n",
        "print(\" The best parameters across ALL searched params: \", randm_GradientBoosting.best_params_)\n",
        "\n",
        "# Guardamos el mejor modelo\n",
        "modelo_GradientBoosting_hyper_os = randm_GradientBoosting.best_estimator_\n",
        "#Accuracy del modelo\n",
        "GradientBoosting_accuracy_hyper_os = randm_GradientBoosting.best_score_\n",
        "'''\n"
      ],
      "metadata": {
        "id": "xqZ66Xi4zmmb"
      },
      "id": "xqZ66Xi4zmmb",
      "execution_count": null,
      "outputs": []
    },
    {
      "cell_type": "code",
      "source": [
        "    '''\n",
        "    mod = modelo_GradientBoosting_hyper_os\n",
        "    #mod.fit(X_train_os, y_train_os)\n",
        "    \n",
        "    y_predict = mod.predict(X_test)\n",
        "    #accuracy del modelo\n",
        "    acc = accuracy_score(y_test, y_predict)\n",
        "    #overfitting\n",
        "    y_pred_train = mod.predict(X_train)\n",
        "    acc_train = accuracy_score(y_train, y_pred_train)\n",
        "    \n",
        "    \n",
        "    print(\"GradientBoosting + hyperparameters (Strategy: Oversampling)\")\n",
        "    print()\n",
        "    \n",
        "    print(f\"Accuaracy: {acc}\")\n",
        "    print(f\"Accuaracy_train: {acc_train}\")\n",
        "    print(\"Balanced_Accuracy:\", balanced_accuracy_score(y_test, y_predict))\n",
        "    print(\"Precision:\", precision_score(y_test, y_predict))\n",
        "    print( \"f1 score macro\", f1_score(y_test, y_predict, average='macro')) \n",
        "    print( \"f1 score micro\", f1_score(y_test, y_predict, average='micro')) \n",
        "    print( \"precision score\", precision_score(y_test, y_predict, average='macro')) \n",
        "    print( \"recall score\", recall_score(y_test, y_predict, average='macro'))\n",
        "    print( \"classification_report\\n\\n\", classification_report(y_test, y_predict))   \n",
        "\n",
        "    #Generamos la matriz de confusión\n",
        "    cnf_matrix = confusion_matrix(y_test, y_predict)\n",
        "    print(cnf_matrix)\n",
        "    '''"
      ],
      "metadata": {
        "id": "r0Ona0v912nb"
      },
      "id": "r0Ona0v912nb",
      "execution_count": null,
      "outputs": []
    },
    {
      "cell_type": "markdown",
      "metadata": {
        "id": "a5653cf6-5835-4a38-86c7-cf7ec2f580f6"
      },
      "source": [
        "# Estrategia: Penalización para compensar + oversampling"
      ],
      "id": "a5653cf6-5835-4a38-86c7-cf7ec2f580f6"
    },
    {
      "cell_type": "code",
      "execution_count": null,
      "metadata": {
        "id": "d50372a1-cc43-4868-a953-d599a8cbd2fd"
      },
      "outputs": [],
      "source": [
        "#Una vez entrenado el modelo, lo aplicamosa los datos reservado parra \"test\"\n",
        "print(\"Matrix de confusión - LogisticRegression\")\n",
        "\n",
        "logreg = LogisticRegression(C=1.0, penalty='l2', random_state=1, solver=\"newton-cg\", class_weight=\"balanced\")\n",
        "\n",
        "mod = modelo()\n",
        "mod.fit(X_train_os, y_train_os)\n",
        "\n",
        "predicted = mod.predict(X_test)\n",
        "print(predicted)\n",
        "\n",
        "#Generamos las métricas de evaluación\n",
        "#\"Accuracy\" es la precision y \"Precision\"es la exactitud\n",
        "\n",
        "print(\"Accuracy:\", accuracy_score(y_test, predicted))\n",
        "print(\"Balanced_Accuracy:\", balanced_accuracy_score(y_test, predicted))\n",
        "print(\"Precision:\", precision_score(y_test, predicted))\n",
        "print( \"f1 score macro\", f1_score(y_test, predicted, average='macro')) \n",
        "print( \"f1 score micro\", f1_score(y_test, predicted, average='micro')) \n",
        "print( \"precision score\", precision_score(y_test, predicted, average='macro')) \n",
        "print( \"recall score\", recall_score(y_test, predicted, average='macro')) \n",
        "print( \"hamming_loss\", hamming_loss(y_test, predicted))\n",
        "print( \"jaccard_score\", jaccard_score(y_test, predicted))\n",
        "print( \"log_loss\",  log_loss(y_test, predicted))\n",
        "print( \"zero_one_loss\", zero_one_loss(y_test, predicted))\n",
        "print( \"AUC&ROC\", roc_auc_score(y_test, predicted))\n",
        "print( \"matthews_corrcoef\", matthews_corrcoef(y_test, predicted))\n",
        "print( \"classification_report\\n\\n\", classification_report(y_test, predicted))\n",
        "\n",
        "\n",
        "#Generamos la matriz de confusión\n",
        "cnf_matrix = confusion_matrix(y_test, predicted)\n",
        "cnf_matrix"
      ],
      "id": "d50372a1-cc43-4868-a953-d599a8cbd2fd"
    },
    {
      "cell_type": "code",
      "execution_count": null,
      "metadata": {
        "id": "20327882-bd0f-4c41-af1a-aaecd2b45b5d"
      },
      "outputs": [],
      "source": [
        "# Gaussiano tiene mejor recall que LogisticRegression, pero (overall -recall&precision- mejor este último)"
      ],
      "id": "20327882-bd0f-4c41-af1a-aaecd2b45b5d"
    },
    {
      "cell_type": "markdown",
      "metadata": {
        "id": "cc2e52c8-b23f-4f84-a950-e3b045a30e7b"
      },
      "source": [
        "# Estrategia: Subsampling en la clase mayoritaria"
      ],
      "id": "cc2e52c8-b23f-4f84-a950-e3b045a30e7b"
    },
    {
      "cell_type": "code",
      "execution_count": null,
      "metadata": {
        "id": "375f1eea-1519-4e15-abec-66759671804a"
      },
      "outputs": [],
      "source": [
        "us = NearMiss(sampling_strategy=1, n_neighbors=3, version=2)\n",
        "X_train_us, y_train_us = us.fit_resample(X_train, y_train)\n",
        " \n",
        "print (\"Distribution before resampling {}\".format(Counter(y_train)))\n",
        "print (\"Distribution after resampling {}\".format(Counter(y_train_os)))"
      ],
      "id": "375f1eea-1519-4e15-abec-66759671804a"
    },
    {
      "cell_type": "code",
      "execution_count": null,
      "metadata": {
        "id": "6b566fd1-93cb-4681-9b12-c3abb401a251"
      },
      "outputs": [],
      "source": [
        "def train_evaluate_subsampling(nombre_modelo, modelo):\n",
        "    mod = modelo()\n",
        "    mod.fit(X_train_us, y_train_us)\n",
        "    \n",
        "    y_predict = mod.predict(X_test)\n",
        "    #accuracy del modelo\n",
        "    acc = accuracy_score(y_test, y_predict)\n",
        "    #overfitting\n",
        "    y_pred_train = mod.predict(X_train_us)\n",
        "    acc_train = accuracy_score(y_train_us, y_pred_train)\n",
        "    \n",
        "    \n",
        "    print(nombre_modelo)\n",
        "    print()\n",
        "    \n",
        "    print(f\"Accuaracy: {acc}\")\n",
        "    print(f\"Accuaracy_train: {acc_train}\")\n",
        "    print(\"Balanced_Accuracy:\", balanced_accuracy_score(y_test, y_predict))\n",
        "    print(\"Precision:\", precision_score(y_test, y_predict))\n",
        "    print( \"f1 score macro\", f1_score(y_test, y_predict, average='macro')) \n",
        "    print( \"f1 score micro\", f1_score(y_test, y_predict, average='micro')) \n",
        "    print( \"precision score\", precision_score(y_test, y_predict, average='macro')) \n",
        "    print( \"recall score\", recall_score(y_test, y_predict, average='macro'))\n",
        "    print( \"classification_report\\n\\n\", classification_report(y_test, y_predict))   \n",
        "\n",
        "    #Generamos la matriz de confusión\n",
        "    cnf_matrix = confusion_matrix(y_test, y_predict)\n",
        "    print(cnf_matrix)"
      ],
      "id": "6b566fd1-93cb-4681-9b12-c3abb401a251"
    },
    {
      "cell_type": "code",
      "execution_count": null,
      "metadata": {
        "id": "4vswQgL0RuZf"
      },
      "outputs": [],
      "source": [
        "    mod = modelo_LGBM_nr\n",
        "    mod.fit(X_train_us, y_train_us)\n",
        "    \n",
        "    y_predict = mod.predict(X_test)\n",
        "    #accuracy del modelo\n",
        "    acc = accuracy_score(y_test, y_predict)\n",
        "    #overfitting\n",
        "    y_pred_train = mod.predict(X_train_us)\n",
        "    acc_train = accuracy_score(y_train_us, y_pred_train)\n",
        "    \n",
        "    \n",
        "    print(\"LGBM + hyperparameters (Strategy: Oversampling)\")\n",
        "    print()\n",
        "    \n",
        "    print(f\"Accuaracy: {acc}\")\n",
        "    print(f\"Accuaracy_train: {acc_train}\")\n",
        "    print(\"Balanced_Accuracy:\", balanced_accuracy_score(y_test, y_predict))\n",
        "    print(\"Precision:\", precision_score(y_test, y_predict))\n",
        "    print( \"f1 score macro\", f1_score(y_test, y_predict, average='macro')) \n",
        "    print( \"f1 score micro\", f1_score(y_test, y_predict, average='micro')) \n",
        "    print( \"precision score\", precision_score(y_test, y_predict, average='macro')) \n",
        "    print( \"recall score\", recall_score(y_test, y_predict, average='macro'))\n",
        "    print( \"classification_report\\n\\n\", classification_report(y_test, y_predict))   \n",
        "\n",
        "    #Generamos la matriz de confusión\n",
        "    cnf_matrix = confusion_matrix(y_test, y_predict)\n",
        "    print(cnf_matrix)"
      ],
      "id": "4vswQgL0RuZf"
    },
    {
      "cell_type": "code",
      "execution_count": null,
      "metadata": {
        "id": "cf29d91a-e8c4-4ff8-9270-4ceed29f24e1"
      },
      "outputs": [],
      "source": [
        "train_evaluate_subsampling(\"Gaussiano\", GaussianNB)"
      ],
      "id": "cf29d91a-e8c4-4ff8-9270-4ceed29f24e1"
    },
    {
      "cell_type": "markdown",
      "metadata": {
        "id": "7e02af55-f77f-4a66-962a-4a23cfcca5a9"
      },
      "source": [
        "# Estrategia: Penalización para compensar + subsampling"
      ],
      "id": "7e02af55-f77f-4a66-962a-4a23cfcca5a9"
    },
    {
      "cell_type": "code",
      "execution_count": null,
      "metadata": {
        "id": "e6229472-af81-4e94-97e3-2e38579c7d8e"
      },
      "outputs": [],
      "source": [
        "#Una vez entrenado el modelo, lo aplicamosa los datos reservado parra \"test\"\n",
        "print(\"Matrix de confusión - LogisticRegression\")\n",
        "\n",
        "logreg = LogisticRegression(C=1.0, penalty='l2', random_state=1, solver=\"newton-cg\", class_weight=\"balanced\")\n",
        "\n",
        "mod = modelo()\n",
        "mod.fit(X_train_os, y_train_os)\n",
        "\n",
        "predicted = mod.predict(X_test)\n",
        "print(predicted)\n",
        "\n",
        "#Generamos las métricas de evaluación\n",
        "#\"Accuracy\" es la precision y \"Precision\"es la exactitud\n",
        "\n",
        "print(\"Accuracy:\", accuracy_score(y_test, predicted))\n",
        "print(\"Balanced_Accuracy:\", balanced_accuracy_score(y_test, predicted))\n",
        "print(\"Precision:\", precision_score(y_test, predicted))\n",
        "print( \"f1 score macro\", f1_score(y_test, predicted, average='macro')) \n",
        "print( \"f1 score micro\", f1_score(y_test, predicted, average='micro')) \n",
        "print( \"precision score\", precision_score(y_test, predicted, average='macro')) \n",
        "print( \"recall score\", recall_score(y_test, predicted, average='macro')) \n",
        "print( \"hamming_loss\", hamming_loss(y_test, predicted))\n",
        "print( \"jaccard_score\", jaccard_score(y_test, predicted))\n",
        "print( \"log_loss\",  log_loss(y_test, predicted))\n",
        "print( \"zero_one_loss\", zero_one_loss(y_test, predicted))\n",
        "print( \"AUC&ROC\", roc_auc_score(y_test, predicted))\n",
        "print( \"matthews_corrcoef\", matthews_corrcoef(y_test, predicted))\n",
        "print( \"classification_report\\n\\n\", classification_report(y_test, predicted))\n",
        "\n",
        "\n",
        "#Generamos la matriz de confusión\n",
        "cnf_matrix = confusion_matrix(y_test, predicted)\n",
        "cnf_matrix"
      ],
      "id": "e6229472-af81-4e94-97e3-2e38579c7d8e"
    },
    {
      "cell_type": "markdown",
      "metadata": {
        "id": "756de5a7-047c-480a-9505-da9929d5a626"
      },
      "source": [
        "### Empeoran nuestros dos mejores modelos(Guassiano y logisticRegression) usando subsampling"
      ],
      "id": "756de5a7-047c-480a-9505-da9929d5a626"
    }
  ],
  "metadata": {
    "colab": {
      "collapsed_sections": [
        "a33784fa-9c5e-4078-b339-5e411b4acfcc",
        "3a4700cb-d713-4cd2-b4c5-a0bf5a4dce6f",
        "d2b2c616-1d8a-4251-8cb0-bc16e9234ace",
        "751d4aef-f094-4b87-b40a-dff8729b9b5c",
        "756de5a7-047c-480a-9505-da9929d5a626"
      ],
      "provenance": []
    },
    "kernelspec": {
      "display_name": "Python 3 (ipykernel)",
      "language": "python",
      "name": "python3"
    },
    "language_info": {
      "codemirror_mode": {
        "name": "ipython",
        "version": 3
      },
      "file_extension": ".py",
      "mimetype": "text/x-python",
      "name": "python",
      "nbconvert_exporter": "python",
      "pygments_lexer": "ipython3",
      "version": "3.9.12"
    }
  },
  "nbformat": 4,
  "nbformat_minor": 5
}