{
 "cells": [
  {
   "cell_type": "code",
   "execution_count": 1,
   "id": "9dd9719a-3b0d-4afc-ae6a-0de352588cbd",
   "metadata": {
    "tags": []
   },
   "outputs": [],
   "source": [
    "import pandas as pd\n",
    "import numpy as np\n",
    "#Librerias de visualización\n",
    "import matplotlib.pyplot as plt\n",
    "import seaborn as sns\n"
   ]
  },
  {
   "cell_type": "markdown",
   "id": "5943c882-4b42-49ed-b1e7-65b346c43696",
   "metadata": {},
   "source": [
    "## Leer dataset"
   ]
  },
  {
   "cell_type": "code",
   "execution_count": 2,
   "id": "f42ada4c-e13c-43d6-bc10-4e1e09a9b7a8",
   "metadata": {},
   "outputs": [
    {
     "data": {
      "text/html": [
       "<div>\n",
       "<style scoped>\n",
       "    .dataframe tbody tr th:only-of-type {\n",
       "        vertical-align: middle;\n",
       "    }\n",
       "\n",
       "    .dataframe tbody tr th {\n",
       "        vertical-align: top;\n",
       "    }\n",
       "\n",
       "    .dataframe thead th {\n",
       "        text-align: right;\n",
       "    }\n",
       "</style>\n",
       "<table border=\"1\" class=\"dataframe\">\n",
       "  <thead>\n",
       "    <tr style=\"text-align: right;\">\n",
       "      <th></th>\n",
       "      <th>gender</th>\n",
       "      <th>age</th>\n",
       "      <th>hypertension</th>\n",
       "      <th>heart_disease</th>\n",
       "      <th>ever_married</th>\n",
       "      <th>work_type</th>\n",
       "      <th>Residence_type</th>\n",
       "      <th>avg_glucose_level</th>\n",
       "      <th>bmi</th>\n",
       "      <th>smoking_status</th>\n",
       "      <th>stroke</th>\n",
       "    </tr>\n",
       "  </thead>\n",
       "  <tbody>\n",
       "    <tr>\n",
       "      <th>0</th>\n",
       "      <td>Male</td>\n",
       "      <td>67.0</td>\n",
       "      <td>0</td>\n",
       "      <td>1</td>\n",
       "      <td>Yes</td>\n",
       "      <td>Private</td>\n",
       "      <td>Urban</td>\n",
       "      <td>228.69</td>\n",
       "      <td>36.6</td>\n",
       "      <td>formerly smoked</td>\n",
       "      <td>1</td>\n",
       "    </tr>\n",
       "    <tr>\n",
       "      <th>1</th>\n",
       "      <td>Male</td>\n",
       "      <td>80.0</td>\n",
       "      <td>0</td>\n",
       "      <td>1</td>\n",
       "      <td>Yes</td>\n",
       "      <td>Private</td>\n",
       "      <td>Rural</td>\n",
       "      <td>105.92</td>\n",
       "      <td>32.5</td>\n",
       "      <td>never smoked</td>\n",
       "      <td>1</td>\n",
       "    </tr>\n",
       "    <tr>\n",
       "      <th>2</th>\n",
       "      <td>Female</td>\n",
       "      <td>49.0</td>\n",
       "      <td>0</td>\n",
       "      <td>0</td>\n",
       "      <td>Yes</td>\n",
       "      <td>Private</td>\n",
       "      <td>Urban</td>\n",
       "      <td>171.23</td>\n",
       "      <td>34.4</td>\n",
       "      <td>smokes</td>\n",
       "      <td>1</td>\n",
       "    </tr>\n",
       "    <tr>\n",
       "      <th>3</th>\n",
       "      <td>Female</td>\n",
       "      <td>79.0</td>\n",
       "      <td>1</td>\n",
       "      <td>0</td>\n",
       "      <td>Yes</td>\n",
       "      <td>Self-employed</td>\n",
       "      <td>Rural</td>\n",
       "      <td>174.12</td>\n",
       "      <td>24.0</td>\n",
       "      <td>never smoked</td>\n",
       "      <td>1</td>\n",
       "    </tr>\n",
       "    <tr>\n",
       "      <th>4</th>\n",
       "      <td>Male</td>\n",
       "      <td>81.0</td>\n",
       "      <td>0</td>\n",
       "      <td>0</td>\n",
       "      <td>Yes</td>\n",
       "      <td>Private</td>\n",
       "      <td>Urban</td>\n",
       "      <td>186.21</td>\n",
       "      <td>29.0</td>\n",
       "      <td>formerly smoked</td>\n",
       "      <td>1</td>\n",
       "    </tr>\n",
       "  </tbody>\n",
       "</table>\n",
       "</div>"
      ],
      "text/plain": [
       "   gender   age  hypertension  heart_disease ever_married      work_type  \\\n",
       "0    Male  67.0             0              1          Yes        Private   \n",
       "1    Male  80.0             0              1          Yes        Private   \n",
       "2  Female  49.0             0              0          Yes        Private   \n",
       "3  Female  79.0             1              0          Yes  Self-employed   \n",
       "4    Male  81.0             0              0          Yes        Private   \n",
       "\n",
       "  Residence_type  avg_glucose_level   bmi   smoking_status  stroke  \n",
       "0          Urban             228.69  36.6  formerly smoked       1  \n",
       "1          Rural             105.92  32.5     never smoked       1  \n",
       "2          Urban             171.23  34.4           smokes       1  \n",
       "3          Rural             174.12  24.0     never smoked       1  \n",
       "4          Urban             186.21  29.0  formerly smoked       1  "
      ]
     },
     "execution_count": 2,
     "metadata": {},
     "output_type": "execute_result"
    }
   ],
   "source": [
    "path = \"stroke_dataset.csv\"\n",
    "df = pd.read_csv(path)\n",
    "df.head()"
   ]
  },
  {
   "cell_type": "markdown",
   "id": "6fe5964e-ee79-4b16-8ea8-49952d930d44",
   "metadata": {},
   "source": [
    "# EDA"
   ]
  },
  {
   "cell_type": "code",
   "execution_count": 3,
   "id": "1958696a-ca6c-4bf5-976d-3c8e27e4cf28",
   "metadata": {},
   "outputs": [
    {
     "name": "stdout",
     "output_type": "stream",
     "text": [
      "<class 'pandas.core.frame.DataFrame'>\n",
      "RangeIndex: 4981 entries, 0 to 4980\n",
      "Data columns (total 11 columns):\n",
      " #   Column             Non-Null Count  Dtype  \n",
      "---  ------             --------------  -----  \n",
      " 0   gender             4981 non-null   object \n",
      " 1   age                4981 non-null   float64\n",
      " 2   hypertension       4981 non-null   int64  \n",
      " 3   heart_disease      4981 non-null   int64  \n",
      " 4   ever_married       4981 non-null   object \n",
      " 5   work_type          4981 non-null   object \n",
      " 6   Residence_type     4981 non-null   object \n",
      " 7   avg_glucose_level  4981 non-null   float64\n",
      " 8   bmi                4981 non-null   float64\n",
      " 9   smoking_status     4981 non-null   object \n",
      " 10  stroke             4981 non-null   int64  \n",
      "dtypes: float64(3), int64(3), object(5)\n",
      "memory usage: 428.2+ KB\n"
     ]
    }
   ],
   "source": [
    "df.info()"
   ]
  },
  {
   "cell_type": "code",
   "execution_count": 4,
   "id": "403d5caf-ece1-4b13-9bda-0591da2b31fc",
   "metadata": {},
   "outputs": [
    {
     "data": {
      "text/plain": [
       "Private          2860\n",
       "Self-employed     804\n",
       "children          673\n",
       "Govt_job          644\n",
       "Name: work_type, dtype: int64"
      ]
     },
     "execution_count": 4,
     "metadata": {},
     "output_type": "execute_result"
    }
   ],
   "source": [
    "df[\"work_type\"].value_counts()"
   ]
  },
  {
   "cell_type": "code",
   "execution_count": 5,
   "id": "c958ffb3-15cc-4910-b69b-94ab01ec36e2",
   "metadata": {},
   "outputs": [
    {
     "name": "stdout",
     "output_type": "stream",
     "text": [
      "Valores en 'work_type':\n",
      "\tPrivate\n",
      "\tSelf-employed\n",
      "\tGovt_job\n",
      "\tchildren\n",
      "\n",
      "Valores en 'Residence_type':\n",
      "\tUrban\n",
      "\tRural\n",
      "\n",
      "Valores en 'smoking_status':\n",
      "\tformerly smoked\n",
      "\tnever smoked\n",
      "\tsmokes\n",
      "\tUnknown\n",
      "\n"
     ]
    }
   ],
   "source": [
    "for col in [\"work_type\", \"Residence_type\", \"smoking_status\"]:\n",
    "    print(f\"Valores en '{col}':\")\n",
    "    for i in df[col].unique():\n",
    "        print(\"\\t\"+str(i))\n",
    "    print()"
   ]
  },
  {
   "cell_type": "code",
   "execution_count": 6,
   "id": "b62d762b-d519-4611-95dd-e3bd2d21b427",
   "metadata": {
    "tags": []
   },
   "outputs": [
    {
     "data": {
      "text/plain": [
       "gender               0\n",
       "age                  0\n",
       "hypertension         0\n",
       "heart_disease        0\n",
       "ever_married         0\n",
       "work_type            0\n",
       "Residence_type       0\n",
       "avg_glucose_level    0\n",
       "bmi                  0\n",
       "smoking_status       0\n",
       "stroke               0\n",
       "dtype: int64"
      ]
     },
     "execution_count": 6,
     "metadata": {},
     "output_type": "execute_result"
    }
   ],
   "source": [
    "df.isnull().sum()"
   ]
  },
  {
   "cell_type": "code",
   "execution_count": 7,
   "id": "e342f48c-5737-4089-983c-6410f1bed60d",
   "metadata": {
    "tags": []
   },
   "outputs": [
    {
     "name": "stderr",
     "output_type": "stream",
     "text": [
      "/home/raul/miniconda3/lib/python3.9/site-packages/seaborn/categorical.py:470: FutureWarning: iteritems is deprecated and will be removed in a future version. Use .items instead.\n",
      "  plot_data = [np.asarray(s, float) for k, s in iter_data]\n"
     ]
    },
    {
     "data": {
      "text/plain": [
       "<AxesSubplot: >"
      ]
     },
     "execution_count": 7,
     "metadata": {},
     "output_type": "execute_result"
    },
    {
     "data": {
      "image/png": "[encoded data removed]",
      "text/plain": [
       "<Figure size 640x480 with 1 Axes>"
      ]
     },
     "metadata": {},
     "output_type": "display_data"
    }
   ],
   "source": [
    "sns.boxplot(data=df)"
   ]
  },
  {
   "cell_type": "code",
   "execution_count": 8,
   "id": "c95a2372-36e8-416c-8826-e2e96ea709e8",
   "metadata": {},
   "outputs": [],
   "source": [
    "df = df.drop([\"ever_married\"], axis=1)"
   ]
  },
  {
   "cell_type": "code",
   "execution_count": 9,
   "id": "48011ad7-f99f-4535-af40-164a8033b990",
   "metadata": {},
   "outputs": [
    {
     "data": {
      "text/html": [
       "<div>\n",
       "<style scoped>\n",
       "    .dataframe tbody tr th:only-of-type {\n",
       "        vertical-align: middle;\n",
       "    }\n",
       "\n",
       "    .dataframe tbody tr th {\n",
       "        vertical-align: top;\n",
       "    }\n",
       "\n",
       "    .dataframe thead th {\n",
       "        text-align: right;\n",
       "    }\n",
       "</style>\n",
       "<table border=\"1\" class=\"dataframe\">\n",
       "  <thead>\n",
       "    <tr style=\"text-align: right;\">\n",
       "      <th></th>\n",
       "      <th>age</th>\n",
       "      <th>hypertension</th>\n",
       "      <th>heart_disease</th>\n",
       "      <th>avg_glucose_level</th>\n",
       "      <th>bmi</th>\n",
       "      <th>stroke</th>\n",
       "    </tr>\n",
       "  </thead>\n",
       "  <tbody>\n",
       "    <tr>\n",
       "      <th>count</th>\n",
       "      <td>4981.000000</td>\n",
       "      <td>4981.000000</td>\n",
       "      <td>4981.000000</td>\n",
       "      <td>4981.000000</td>\n",
       "      <td>4981.000000</td>\n",
       "      <td>4981.000000</td>\n",
       "    </tr>\n",
       "    <tr>\n",
       "      <th>mean</th>\n",
       "      <td>43.419859</td>\n",
       "      <td>0.096165</td>\n",
       "      <td>0.055210</td>\n",
       "      <td>105.943562</td>\n",
       "      <td>28.498173</td>\n",
       "      <td>0.049789</td>\n",
       "    </tr>\n",
       "    <tr>\n",
       "      <th>std</th>\n",
       "      <td>22.662755</td>\n",
       "      <td>0.294848</td>\n",
       "      <td>0.228412</td>\n",
       "      <td>45.075373</td>\n",
       "      <td>6.790464</td>\n",
       "      <td>0.217531</td>\n",
       "    </tr>\n",
       "    <tr>\n",
       "      <th>min</th>\n",
       "      <td>0.080000</td>\n",
       "      <td>0.000000</td>\n",
       "      <td>0.000000</td>\n",
       "      <td>55.120000</td>\n",
       "      <td>14.000000</td>\n",
       "      <td>0.000000</td>\n",
       "    </tr>\n",
       "    <tr>\n",
       "      <th>25%</th>\n",
       "      <td>25.000000</td>\n",
       "      <td>0.000000</td>\n",
       "      <td>0.000000</td>\n",
       "      <td>77.230000</td>\n",
       "      <td>23.700000</td>\n",
       "      <td>0.000000</td>\n",
       "    </tr>\n",
       "    <tr>\n",
       "      <th>50%</th>\n",
       "      <td>45.000000</td>\n",
       "      <td>0.000000</td>\n",
       "      <td>0.000000</td>\n",
       "      <td>91.850000</td>\n",
       "      <td>28.100000</td>\n",
       "      <td>0.000000</td>\n",
       "    </tr>\n",
       "    <tr>\n",
       "      <th>75%</th>\n",
       "      <td>61.000000</td>\n",
       "      <td>0.000000</td>\n",
       "      <td>0.000000</td>\n",
       "      <td>113.860000</td>\n",
       "      <td>32.600000</td>\n",
       "      <td>0.000000</td>\n",
       "    </tr>\n",
       "    <tr>\n",
       "      <th>max</th>\n",
       "      <td>82.000000</td>\n",
       "      <td>1.000000</td>\n",
       "      <td>1.000000</td>\n",
       "      <td>271.740000</td>\n",
       "      <td>48.900000</td>\n",
       "      <td>1.000000</td>\n",
       "    </tr>\n",
       "  </tbody>\n",
       "</table>\n",
       "</div>"
      ],
      "text/plain": [
       "               age  hypertension  heart_disease  avg_glucose_level  \\\n",
       "count  4981.000000   4981.000000    4981.000000        4981.000000   \n",
       "mean     43.419859      0.096165       0.055210         105.943562   \n",
       "std      22.662755      0.294848       0.228412          45.075373   \n",
       "min       0.080000      0.000000       0.000000          55.120000   \n",
       "25%      25.000000      0.000000       0.000000          77.230000   \n",
       "50%      45.000000      0.000000       0.000000          91.850000   \n",
       "75%      61.000000      0.000000       0.000000         113.860000   \n",
       "max      82.000000      1.000000       1.000000         271.740000   \n",
       "\n",
       "               bmi       stroke  \n",
       "count  4981.000000  4981.000000  \n",
       "mean     28.498173     0.049789  \n",
       "std       6.790464     0.217531  \n",
       "min      14.000000     0.000000  \n",
       "25%      23.700000     0.000000  \n",
       "50%      28.100000     0.000000  \n",
       "75%      32.600000     0.000000  \n",
       "max      48.900000     1.000000  "
      ]
     },
     "execution_count": 9,
     "metadata": {},
     "output_type": "execute_result"
    }
   ],
   "source": [
    "df.describe()"
   ]
  },
  {
   "cell_type": "code",
   "execution_count": 10,
   "id": "7714f9ae-525b-4306-8256-cca133368726",
   "metadata": {},
   "outputs": [],
   "source": [
    "X = df.drop(\"stroke\", axis = 1)\n",
    "y = df[\"stroke\"]"
   ]
  },
  {
   "cell_type": "code",
   "execution_count": 11,
   "id": "5dc023d0-22d6-462d-b0b5-a274f4bc2f30",
   "metadata": {},
   "outputs": [
    {
     "data": {
      "text/html": [
       "<div>\n",
       "<style scoped>\n",
       "    .dataframe tbody tr th:only-of-type {\n",
       "        vertical-align: middle;\n",
       "    }\n",
       "\n",
       "    .dataframe tbody tr th {\n",
       "        vertical-align: top;\n",
       "    }\n",
       "\n",
       "    .dataframe thead th {\n",
       "        text-align: right;\n",
       "    }\n",
       "</style>\n",
       "<table border=\"1\" class=\"dataframe\">\n",
       "  <thead>\n",
       "    <tr style=\"text-align: right;\">\n",
       "      <th></th>\n",
       "      <th>gender</th>\n",
       "      <th>age</th>\n",
       "      <th>hypertension</th>\n",
       "      <th>heart_disease</th>\n",
       "      <th>work_type</th>\n",
       "      <th>Residence_type</th>\n",
       "      <th>avg_glucose_level</th>\n",
       "      <th>bmi</th>\n",
       "      <th>smoking_status</th>\n",
       "    </tr>\n",
       "  </thead>\n",
       "  <tbody>\n",
       "    <tr>\n",
       "      <th>0</th>\n",
       "      <td>Male</td>\n",
       "      <td>67.0</td>\n",
       "      <td>0</td>\n",
       "      <td>1</td>\n",
       "      <td>Private</td>\n",
       "      <td>Urban</td>\n",
       "      <td>228.69</td>\n",
       "      <td>36.6</td>\n",
       "      <td>formerly smoked</td>\n",
       "    </tr>\n",
       "    <tr>\n",
       "      <th>1</th>\n",
       "      <td>Male</td>\n",
       "      <td>80.0</td>\n",
       "      <td>0</td>\n",
       "      <td>1</td>\n",
       "      <td>Private</td>\n",
       "      <td>Rural</td>\n",
       "      <td>105.92</td>\n",
       "      <td>32.5</td>\n",
       "      <td>never smoked</td>\n",
       "    </tr>\n",
       "    <tr>\n",
       "      <th>2</th>\n",
       "      <td>Female</td>\n",
       "      <td>49.0</td>\n",
       "      <td>0</td>\n",
       "      <td>0</td>\n",
       "      <td>Private</td>\n",
       "      <td>Urban</td>\n",
       "      <td>171.23</td>\n",
       "      <td>34.4</td>\n",
       "      <td>smokes</td>\n",
       "    </tr>\n",
       "    <tr>\n",
       "      <th>3</th>\n",
       "      <td>Female</td>\n",
       "      <td>79.0</td>\n",
       "      <td>1</td>\n",
       "      <td>0</td>\n",
       "      <td>Self-employed</td>\n",
       "      <td>Rural</td>\n",
       "      <td>174.12</td>\n",
       "      <td>24.0</td>\n",
       "      <td>never smoked</td>\n",
       "    </tr>\n",
       "    <tr>\n",
       "      <th>4</th>\n",
       "      <td>Male</td>\n",
       "      <td>81.0</td>\n",
       "      <td>0</td>\n",
       "      <td>0</td>\n",
       "      <td>Private</td>\n",
       "      <td>Urban</td>\n",
       "      <td>186.21</td>\n",
       "      <td>29.0</td>\n",
       "      <td>formerly smoked</td>\n",
       "    </tr>\n",
       "  </tbody>\n",
       "</table>\n",
       "</div>"
      ],
      "text/plain": [
       "   gender   age  hypertension  heart_disease      work_type Residence_type  \\\n",
       "0    Male  67.0             0              1        Private          Urban   \n",
       "1    Male  80.0             0              1        Private          Rural   \n",
       "2  Female  49.0             0              0        Private          Urban   \n",
       "3  Female  79.0             1              0  Self-employed          Rural   \n",
       "4    Male  81.0             0              0        Private          Urban   \n",
       "\n",
       "   avg_glucose_level   bmi   smoking_status  \n",
       "0             228.69  36.6  formerly smoked  \n",
       "1             105.92  32.5     never smoked  \n",
       "2             171.23  34.4           smokes  \n",
       "3             174.12  24.0     never smoked  \n",
       "4             186.21  29.0  formerly smoked  "
      ]
     },
     "execution_count": 11,
     "metadata": {},
     "output_type": "execute_result"
    }
   ],
   "source": [
    "X.head()"
   ]
  },
  {
   "cell_type": "code",
   "execution_count": 12,
   "id": "8edbe7b1-3a2e-466b-b928-c2612a5ee94b",
   "metadata": {},
   "outputs": [
    {
     "data": {
      "text/plain": [
       "0    1\n",
       "1    1\n",
       "2    1\n",
       "3    1\n",
       "4    1\n",
       "Name: stroke, dtype: int64"
      ]
     },
     "execution_count": 12,
     "metadata": {},
     "output_type": "execute_result"
    }
   ],
   "source": [
    "y.head()"
   ]
  },
  {
   "cell_type": "code",
   "execution_count": 13,
   "id": "796f7229-9eb3-43a7-bc12-5460a5083c7a",
   "metadata": {},
   "outputs": [],
   "source": [
    "categoricas = [\"gender\", \"work_type\", \"Residence_type\", \"smoking_status\"]\n",
    "numericas = [\"age\", \"hypertension\", \"heart_disease\", \"avg_glucose_level\", \"bmi\"]"
   ]
  },
  {
   "cell_type": "code",
   "execution_count": 14,
   "id": "b2c2c7bc-5edd-4fbc-b428-e1c8e1986050",
   "metadata": {},
   "outputs": [],
   "source": [
    "from sklearn.preprocessing import MinMaxScaler, OneHotEncoder\n",
    "from sklearn.compose import ColumnTransformer"
   ]
  },
  {
   "cell_type": "code",
   "execution_count": 15,
   "id": "fcded680-babd-4fc0-9923-fc1377ab4c1f",
   "metadata": {},
   "outputs": [],
   "source": [
    "transformer_numerico = (\"transformer_numerico\", MinMaxScaler(), numericas)\n",
    "transformer_categorico = (\"transformer_categorico\", OneHotEncoder(), categoricas)\n",
    "\n",
    "transformer = ColumnTransformer([transformer_numerico, transformer_categorico], remainder=\"passthrough\")"
   ]
  },
  {
   "cell_type": "code",
   "execution_count": 16,
   "id": "4608570e-0a85-40da-9ee4-40597bc208f8",
   "metadata": {},
   "outputs": [],
   "source": [
    "X = transformer.fit_transform(X)"
   ]
  },
  {
   "cell_type": "code",
   "execution_count": 17,
   "id": "e4781256-4f1f-41a0-9bbc-c1eadebf971e",
   "metadata": {},
   "outputs": [
    {
     "data": {
      "text/html": [
       "<div>\n",
       "<style scoped>\n",
       "    .dataframe tbody tr th:only-of-type {\n",
       "        vertical-align: middle;\n",
       "    }\n",
       "\n",
       "    .dataframe tbody tr th {\n",
       "        vertical-align: top;\n",
       "    }\n",
       "\n",
       "    .dataframe thead th {\n",
       "        text-align: right;\n",
       "    }\n",
       "</style>\n",
       "<table border=\"1\" class=\"dataframe\">\n",
       "  <thead>\n",
       "    <tr style=\"text-align: right;\">\n",
       "      <th></th>\n",
       "      <th>transformer_numerico__age</th>\n",
       "      <th>transformer_numerico__hypertension</th>\n",
       "      <th>transformer_numerico__heart_disease</th>\n",
       "      <th>transformer_numerico__avg_glucose_level</th>\n",
       "      <th>transformer_numerico__bmi</th>\n",
       "      <th>transformer_categorico__gender_Female</th>\n",
       "      <th>transformer_categorico__gender_Male</th>\n",
       "      <th>transformer_categorico__work_type_Govt_job</th>\n",
       "      <th>transformer_categorico__work_type_Private</th>\n",
       "      <th>transformer_categorico__work_type_Self-employed</th>\n",
       "      <th>transformer_categorico__work_type_children</th>\n",
       "      <th>transformer_categorico__Residence_type_Rural</th>\n",
       "      <th>transformer_categorico__Residence_type_Urban</th>\n",
       "      <th>transformer_categorico__smoking_status_Unknown</th>\n",
       "      <th>transformer_categorico__smoking_status_formerly smoked</th>\n",
       "      <th>transformer_categorico__smoking_status_never smoked</th>\n",
       "      <th>transformer_categorico__smoking_status_smokes</th>\n",
       "    </tr>\n",
       "  </thead>\n",
       "  <tbody>\n",
       "    <tr>\n",
       "      <th>0</th>\n",
       "      <td>0.816895</td>\n",
       "      <td>0.0</td>\n",
       "      <td>1.0</td>\n",
       "      <td>0.801265</td>\n",
       "      <td>0.647564</td>\n",
       "      <td>0.0</td>\n",
       "      <td>1.0</td>\n",
       "      <td>0.0</td>\n",
       "      <td>1.0</td>\n",
       "      <td>0.0</td>\n",
       "      <td>0.0</td>\n",
       "      <td>0.0</td>\n",
       "      <td>1.0</td>\n",
       "      <td>0.0</td>\n",
       "      <td>1.0</td>\n",
       "      <td>0.0</td>\n",
       "      <td>0.0</td>\n",
       "    </tr>\n",
       "    <tr>\n",
       "      <th>1</th>\n",
       "      <td>0.975586</td>\n",
       "      <td>0.0</td>\n",
       "      <td>1.0</td>\n",
       "      <td>0.234512</td>\n",
       "      <td>0.530086</td>\n",
       "      <td>0.0</td>\n",
       "      <td>1.0</td>\n",
       "      <td>0.0</td>\n",
       "      <td>1.0</td>\n",
       "      <td>0.0</td>\n",
       "      <td>0.0</td>\n",
       "      <td>1.0</td>\n",
       "      <td>0.0</td>\n",
       "      <td>0.0</td>\n",
       "      <td>0.0</td>\n",
       "      <td>1.0</td>\n",
       "      <td>0.0</td>\n",
       "    </tr>\n",
       "    <tr>\n",
       "      <th>2</th>\n",
       "      <td>0.597168</td>\n",
       "      <td>0.0</td>\n",
       "      <td>0.0</td>\n",
       "      <td>0.536008</td>\n",
       "      <td>0.584527</td>\n",
       "      <td>1.0</td>\n",
       "      <td>0.0</td>\n",
       "      <td>0.0</td>\n",
       "      <td>1.0</td>\n",
       "      <td>0.0</td>\n",
       "      <td>0.0</td>\n",
       "      <td>0.0</td>\n",
       "      <td>1.0</td>\n",
       "      <td>0.0</td>\n",
       "      <td>0.0</td>\n",
       "      <td>0.0</td>\n",
       "      <td>1.0</td>\n",
       "    </tr>\n",
       "    <tr>\n",
       "      <th>3</th>\n",
       "      <td>0.963379</td>\n",
       "      <td>1.0</td>\n",
       "      <td>0.0</td>\n",
       "      <td>0.549349</td>\n",
       "      <td>0.286533</td>\n",
       "      <td>1.0</td>\n",
       "      <td>0.0</td>\n",
       "      <td>0.0</td>\n",
       "      <td>0.0</td>\n",
       "      <td>1.0</td>\n",
       "      <td>0.0</td>\n",
       "      <td>1.0</td>\n",
       "      <td>0.0</td>\n",
       "      <td>0.0</td>\n",
       "      <td>0.0</td>\n",
       "      <td>1.0</td>\n",
       "      <td>0.0</td>\n",
       "    </tr>\n",
       "    <tr>\n",
       "      <th>4</th>\n",
       "      <td>0.987793</td>\n",
       "      <td>0.0</td>\n",
       "      <td>0.0</td>\n",
       "      <td>0.605161</td>\n",
       "      <td>0.429799</td>\n",
       "      <td>0.0</td>\n",
       "      <td>1.0</td>\n",
       "      <td>0.0</td>\n",
       "      <td>1.0</td>\n",
       "      <td>0.0</td>\n",
       "      <td>0.0</td>\n",
       "      <td>0.0</td>\n",
       "      <td>1.0</td>\n",
       "      <td>0.0</td>\n",
       "      <td>1.0</td>\n",
       "      <td>0.0</td>\n",
       "      <td>0.0</td>\n",
       "    </tr>\n",
       "    <tr>\n",
       "      <th>...</th>\n",
       "      <td>...</td>\n",
       "      <td>...</td>\n",
       "      <td>...</td>\n",
       "      <td>...</td>\n",
       "      <td>...</td>\n",
       "      <td>...</td>\n",
       "      <td>...</td>\n",
       "      <td>...</td>\n",
       "      <td>...</td>\n",
       "      <td>...</td>\n",
       "      <td>...</td>\n",
       "      <td>...</td>\n",
       "      <td>...</td>\n",
       "      <td>...</td>\n",
       "      <td>...</td>\n",
       "      <td>...</td>\n",
       "      <td>...</td>\n",
       "    </tr>\n",
       "    <tr>\n",
       "      <th>4976</th>\n",
       "      <td>0.499512</td>\n",
       "      <td>0.0</td>\n",
       "      <td>0.0</td>\n",
       "      <td>0.069384</td>\n",
       "      <td>0.452722</td>\n",
       "      <td>0.0</td>\n",
       "      <td>1.0</td>\n",
       "      <td>0.0</td>\n",
       "      <td>1.0</td>\n",
       "      <td>0.0</td>\n",
       "      <td>0.0</td>\n",
       "      <td>1.0</td>\n",
       "      <td>0.0</td>\n",
       "      <td>0.0</td>\n",
       "      <td>1.0</td>\n",
       "      <td>0.0</td>\n",
       "      <td>0.0</td>\n",
       "    </tr>\n",
       "    <tr>\n",
       "      <th>4977</th>\n",
       "      <td>0.487305</td>\n",
       "      <td>0.0</td>\n",
       "      <td>0.0</td>\n",
       "      <td>0.627966</td>\n",
       "      <td>0.489971</td>\n",
       "      <td>0.0</td>\n",
       "      <td>1.0</td>\n",
       "      <td>0.0</td>\n",
       "      <td>1.0</td>\n",
       "      <td>0.0</td>\n",
       "      <td>0.0</td>\n",
       "      <td>0.0</td>\n",
       "      <td>1.0</td>\n",
       "      <td>0.0</td>\n",
       "      <td>0.0</td>\n",
       "      <td>0.0</td>\n",
       "      <td>1.0</td>\n",
       "    </tr>\n",
       "    <tr>\n",
       "      <th>4978</th>\n",
       "      <td>0.548340</td>\n",
       "      <td>1.0</td>\n",
       "      <td>0.0</td>\n",
       "      <td>0.184194</td>\n",
       "      <td>0.510029</td>\n",
       "      <td>1.0</td>\n",
       "      <td>0.0</td>\n",
       "      <td>1.0</td>\n",
       "      <td>0.0</td>\n",
       "      <td>0.0</td>\n",
       "      <td>0.0</td>\n",
       "      <td>1.0</td>\n",
       "      <td>0.0</td>\n",
       "      <td>0.0</td>\n",
       "      <td>0.0</td>\n",
       "      <td>0.0</td>\n",
       "      <td>1.0</td>\n",
       "    </tr>\n",
       "    <tr>\n",
       "      <th>4979</th>\n",
       "      <td>0.487305</td>\n",
       "      <td>0.0</td>\n",
       "      <td>0.0</td>\n",
       "      <td>0.133044</td>\n",
       "      <td>0.458453</td>\n",
       "      <td>0.0</td>\n",
       "      <td>1.0</td>\n",
       "      <td>0.0</td>\n",
       "      <td>1.0</td>\n",
       "      <td>0.0</td>\n",
       "      <td>0.0</td>\n",
       "      <td>1.0</td>\n",
       "      <td>0.0</td>\n",
       "      <td>0.0</td>\n",
       "      <td>0.0</td>\n",
       "      <td>0.0</td>\n",
       "      <td>1.0</td>\n",
       "    </tr>\n",
       "    <tr>\n",
       "      <th>4980</th>\n",
       "      <td>0.975586</td>\n",
       "      <td>1.0</td>\n",
       "      <td>0.0</td>\n",
       "      <td>0.132167</td>\n",
       "      <td>0.432665</td>\n",
       "      <td>1.0</td>\n",
       "      <td>0.0</td>\n",
       "      <td>0.0</td>\n",
       "      <td>1.0</td>\n",
       "      <td>0.0</td>\n",
       "      <td>0.0</td>\n",
       "      <td>0.0</td>\n",
       "      <td>1.0</td>\n",
       "      <td>0.0</td>\n",
       "      <td>0.0</td>\n",
       "      <td>1.0</td>\n",
       "      <td>0.0</td>\n",
       "    </tr>\n",
       "  </tbody>\n",
       "</table>\n",
       "<p>4981 rows × 17 columns</p>\n",
       "</div>"
      ],
      "text/plain": [
       "      transformer_numerico__age  transformer_numerico__hypertension  \\\n",
       "0                      0.816895                                 0.0   \n",
       "1                      0.975586                                 0.0   \n",
       "2                      0.597168                                 0.0   \n",
       "3                      0.963379                                 1.0   \n",
       "4                      0.987793                                 0.0   \n",
       "...                         ...                                 ...   \n",
       "4976                   0.499512                                 0.0   \n",
       "4977                   0.487305                                 0.0   \n",
       "4978                   0.548340                                 1.0   \n",
       "4979                   0.487305                                 0.0   \n",
       "4980                   0.975586                                 1.0   \n",
       "\n",
       "      transformer_numerico__heart_disease  \\\n",
       "0                                     1.0   \n",
       "1                                     1.0   \n",
       "2                                     0.0   \n",
       "3                                     0.0   \n",
       "4                                     0.0   \n",
       "...                                   ...   \n",
       "4976                                  0.0   \n",
       "4977                                  0.0   \n",
       "4978                                  0.0   \n",
       "4979                                  0.0   \n",
       "4980                                  0.0   \n",
       "\n",
       "      transformer_numerico__avg_glucose_level  transformer_numerico__bmi  \\\n",
       "0                                    0.801265                   0.647564   \n",
       "1                                    0.234512                   0.530086   \n",
       "2                                    0.536008                   0.584527   \n",
       "3                                    0.549349                   0.286533   \n",
       "4                                    0.605161                   0.429799   \n",
       "...                                       ...                        ...   \n",
       "4976                                 0.069384                   0.452722   \n",
       "4977                                 0.627966                   0.489971   \n",
       "4978                                 0.184194                   0.510029   \n",
       "4979                                 0.133044                   0.458453   \n",
       "4980                                 0.132167                   0.432665   \n",
       "\n",
       "      transformer_categorico__gender_Female  \\\n",
       "0                                       0.0   \n",
       "1                                       0.0   \n",
       "2                                       1.0   \n",
       "3                                       1.0   \n",
       "4                                       0.0   \n",
       "...                                     ...   \n",
       "4976                                    0.0   \n",
       "4977                                    0.0   \n",
       "4978                                    1.0   \n",
       "4979                                    0.0   \n",
       "4980                                    1.0   \n",
       "\n",
       "      transformer_categorico__gender_Male  \\\n",
       "0                                     1.0   \n",
       "1                                     1.0   \n",
       "2                                     0.0   \n",
       "3                                     0.0   \n",
       "4                                     1.0   \n",
       "...                                   ...   \n",
       "4976                                  1.0   \n",
       "4977                                  1.0   \n",
       "4978                                  0.0   \n",
       "4979                                  1.0   \n",
       "4980                                  0.0   \n",
       "\n",
       "      transformer_categorico__work_type_Govt_job  \\\n",
       "0                                            0.0   \n",
       "1                                            0.0   \n",
       "2                                            0.0   \n",
       "3                                            0.0   \n",
       "4                                            0.0   \n",
       "...                                          ...   \n",
       "4976                                         0.0   \n",
       "4977                                         0.0   \n",
       "4978                                         1.0   \n",
       "4979                                         0.0   \n",
       "4980                                         0.0   \n",
       "\n",
       "      transformer_categorico__work_type_Private  \\\n",
       "0                                           1.0   \n",
       "1                                           1.0   \n",
       "2                                           1.0   \n",
       "3                                           0.0   \n",
       "4                                           1.0   \n",
       "...                                         ...   \n",
       "4976                                        1.0   \n",
       "4977                                        1.0   \n",
       "4978                                        0.0   \n",
       "4979                                        1.0   \n",
       "4980                                        1.0   \n",
       "\n",
       "      transformer_categorico__work_type_Self-employed  \\\n",
       "0                                                 0.0   \n",
       "1                                                 0.0   \n",
       "2                                                 0.0   \n",
       "3                                                 1.0   \n",
       "4                                                 0.0   \n",
       "...                                               ...   \n",
       "4976                                              0.0   \n",
       "4977                                              0.0   \n",
       "4978                                              0.0   \n",
       "4979                                              0.0   \n",
       "4980                                              0.0   \n",
       "\n",
       "      transformer_categorico__work_type_children  \\\n",
       "0                                            0.0   \n",
       "1                                            0.0   \n",
       "2                                            0.0   \n",
       "3                                            0.0   \n",
       "4                                            0.0   \n",
       "...                                          ...   \n",
       "4976                                         0.0   \n",
       "4977                                         0.0   \n",
       "4978                                         0.0   \n",
       "4979                                         0.0   \n",
       "4980                                         0.0   \n",
       "\n",
       "      transformer_categorico__Residence_type_Rural  \\\n",
       "0                                              0.0   \n",
       "1                                              1.0   \n",
       "2                                              0.0   \n",
       "3                                              1.0   \n",
       "4                                              0.0   \n",
       "...                                            ...   \n",
       "4976                                           1.0   \n",
       "4977                                           0.0   \n",
       "4978                                           1.0   \n",
       "4979                                           1.0   \n",
       "4980                                           0.0   \n",
       "\n",
       "      transformer_categorico__Residence_type_Urban  \\\n",
       "0                                              1.0   \n",
       "1                                              0.0   \n",
       "2                                              1.0   \n",
       "3                                              0.0   \n",
       "4                                              1.0   \n",
       "...                                            ...   \n",
       "4976                                           0.0   \n",
       "4977                                           1.0   \n",
       "4978                                           0.0   \n",
       "4979                                           0.0   \n",
       "4980                                           1.0   \n",
       "\n",
       "      transformer_categorico__smoking_status_Unknown  \\\n",
       "0                                                0.0   \n",
       "1                                                0.0   \n",
       "2                                                0.0   \n",
       "3                                                0.0   \n",
       "4                                                0.0   \n",
       "...                                              ...   \n",
       "4976                                             0.0   \n",
       "4977                                             0.0   \n",
       "4978                                             0.0   \n",
       "4979                                             0.0   \n",
       "4980                                             0.0   \n",
       "\n",
       "      transformer_categorico__smoking_status_formerly smoked  \\\n",
       "0                                                   1.0        \n",
       "1                                                   0.0        \n",
       "2                                                   0.0        \n",
       "3                                                   0.0        \n",
       "4                                                   1.0        \n",
       "...                                                 ...        \n",
       "4976                                                1.0        \n",
       "4977                                                0.0        \n",
       "4978                                                0.0        \n",
       "4979                                                0.0        \n",
       "4980                                                0.0        \n",
       "\n",
       "      transformer_categorico__smoking_status_never smoked  \\\n",
       "0                                                   0.0     \n",
       "1                                                   1.0     \n",
       "2                                                   0.0     \n",
       "3                                                   1.0     \n",
       "4                                                   0.0     \n",
       "...                                                 ...     \n",
       "4976                                                0.0     \n",
       "4977                                                0.0     \n",
       "4978                                                0.0     \n",
       "4979                                                0.0     \n",
       "4980                                                1.0     \n",
       "\n",
       "      transformer_categorico__smoking_status_smokes  \n",
       "0                                               0.0  \n",
       "1                                               0.0  \n",
       "2                                               1.0  \n",
       "3                                               0.0  \n",
       "4                                               0.0  \n",
       "...                                             ...  \n",
       "4976                                            0.0  \n",
       "4977                                            1.0  \n",
       "4978                                            1.0  \n",
       "4979                                            1.0  \n",
       "4980                                            0.0  \n",
       "\n",
       "[4981 rows x 17 columns]"
      ]
     },
     "execution_count": 17,
     "metadata": {},
     "output_type": "execute_result"
    }
   ],
   "source": [
    "pd.DataFrame(X, columns = transformer.get_feature_names_out())"
   ]
  },
  {
   "cell_type": "code",
   "execution_count": 18,
   "id": "1711071a-c366-44bc-9944-e8778679dae8",
   "metadata": {},
   "outputs": [
    {
     "data": {
      "text/plain": [
       "{'transformer_numerico': slice(0, 5, None),\n",
       " 'transformer_categorico': slice(5, 17, None),\n",
       " 'remainder': slice(0, 0, None)}"
      ]
     },
     "execution_count": 18,
     "metadata": {},
     "output_type": "execute_result"
    }
   ],
   "source": [
    "transformer.output_indices_"
   ]
  },
  {
   "cell_type": "markdown",
   "id": "a8a44127-1ad7-4c1d-ae03-88384894ae28",
   "metadata": {},
   "source": [
    "### ENTRENAR"
   ]
  },
  {
   "cell_type": "code",
   "execution_count": 19,
   "id": "c3d13b3d-d069-4362-8c1c-2fd5e69b8548",
   "metadata": {},
   "outputs": [],
   "source": [
    "from sklearn.model_selection import train_test_split\n",
    "\n",
    "X_train, X_test, y_train, y_test = train_test_split(X,y)"
   ]
  },
  {
   "cell_type": "code",
   "execution_count": 20,
   "id": "7625b785-8c96-41f9-8819-1543b4b3fdc2",
   "metadata": {},
   "outputs": [],
   "source": [
    "from sklearn.svm import SVC\n",
    "from sklearn.neighbors import KNeighborsClassifier\n",
    "from sklearn.tree import DecisionTreeClassifier\n",
    "from sklearn.naive_bayes import GaussianNB\n",
    "from sklearn.ensemble import RandomForestClassifier\n",
    "from sklearn.ensemble import GradientBoostingClassifier\n",
    "from sklearn.metrics import accuracy_score\n",
    "from sklearn.linear_model import LogisticRegression"
   ]
  },
  {
   "cell_type": "code",
   "execution_count": 21,
   "id": "43f9967d-933d-46f3-ac75-ebc78064d9d9",
   "metadata": {},
   "outputs": [],
   "source": [
    "def train_evaluate(nombre_modelo, modelo):\n",
    "    mod = modelo()\n",
    "    mod.fit(X_train, y_train)\n",
    "    \n",
    "    y_predict = mod.predict(X_test)\n",
    "    #accuracy del modelo\n",
    "    acc = accuracy_score(y_test, y_predict)\n",
    "    #overfitting\n",
    "    y_pred_train = mod.predict(X_train)\n",
    "    acc_train = accuracy_score(y_train, y_pred_train)\n",
    "    \n",
    "    \n",
    "    print(nombre_modelo)\n",
    "    print()\n",
    "    \n",
    "    print(f\"Accuaracy: {acc}\")\n",
    "    print(f\"Accuaracy_train: {acc_train}\")"
   ]
  },
  {
   "cell_type": "code",
   "execution_count": 22,
   "id": "221a8618-9335-41f5-976b-867296bfe086",
   "metadata": {},
   "outputs": [
    {
     "name": "stdout",
     "output_type": "stream",
     "text": [
      "SVC\n",
      "\n",
      "Accuaracy: 0.949438202247191\n",
      "Accuaracy_train: 0.9504685408299867\n"
     ]
    }
   ],
   "source": [
    "train_evaluate(\"SVC\", SVC)"
   ]
  },
  {
   "cell_type": "code",
   "execution_count": 23,
   "id": "998e8e61-af76-47af-9999-80357ead45d1",
   "metadata": {},
   "outputs": [
    {
     "name": "stdout",
     "output_type": "stream",
     "text": [
      "GradientBoost\n",
      "\n",
      "Accuaracy: 0.9470304975922953\n",
      "Accuaracy_train: 0.9593038821954485\n"
     ]
    }
   ],
   "source": [
    "train_evaluate(\"GradientBoost\", GradientBoostingClassifier)"
   ]
  },
  {
   "cell_type": "code",
   "execution_count": 24,
   "id": "5bcb1a56-f7f2-404f-a39b-31869c753c5b",
   "metadata": {},
   "outputs": [
    {
     "name": "stdout",
     "output_type": "stream",
     "text": [
      "Decission Tree\n",
      "\n",
      "Accuaracy: 0.9197431781701445\n",
      "Accuaracy_train: 1.0\n"
     ]
    }
   ],
   "source": [
    "train_evaluate(\"Decission Tree\", DecisionTreeClassifier)"
   ]
  },
  {
   "cell_type": "code",
   "execution_count": 25,
   "id": "9615563f-a605-4c5a-af95-e0ab4b002e72",
   "metadata": {},
   "outputs": [
    {
     "name": "stdout",
     "output_type": "stream",
     "text": [
      "Gaussiano\n",
      "\n",
      "Accuaracy: 0.833868378812199\n",
      "Accuaracy_train: 0.8340026773761714\n"
     ]
    }
   ],
   "source": [
    "train_evaluate(\"Gaussiano\", GaussianNB)"
   ]
  },
  {
   "cell_type": "code",
   "execution_count": 26,
   "id": "617ed9d5-e97a-45bd-b0f6-413e96746235",
   "metadata": {},
   "outputs": [
    {
     "name": "stdout",
     "output_type": "stream",
     "text": [
      "KNN\n",
      "\n",
      "Accuaracy: 0.9478330658105939\n",
      "Accuaracy_train: 0.951004016064257\n"
     ]
    }
   ],
   "source": [
    "train_evaluate(\"KNN\", KNeighborsClassifier)"
   ]
  },
  {
   "cell_type": "code",
   "execution_count": 27,
   "id": "193e8b82-608e-4e28-84cd-935db792705e",
   "metadata": {},
   "outputs": [
    {
     "name": "stdout",
     "output_type": "stream",
     "text": [
      "RANDOM\n",
      "\n",
      "Accuaracy: 0.9478330658105939\n",
      "Accuaracy_train: 1.0\n"
     ]
    }
   ],
   "source": [
    "train_evaluate(\"RANDOM\", RandomForestClassifier)"
   ]
  },
  {
   "cell_type": "code",
   "execution_count": 28,
   "id": "3dd45754-08f3-4158-8f0a-f36a418785ce",
   "metadata": {},
   "outputs": [
    {
     "data": {
      "text/plain": [
       "0.949438202247191"
      ]
     },
     "execution_count": 28,
     "metadata": {},
     "output_type": "execute_result"
    }
   ],
   "source": [
    "clf = LogisticRegression(random_state=0).fit(X_train, y_train)\n",
    "predic = clf.predict(X_test)\n",
    "accuracy_score(y_test, predic)"
   ]
  },
  {
   "cell_type": "code",
   "execution_count": 29,
   "id": "04958ed8-c467-4840-b9f2-9bff12236e05",
   "metadata": {},
   "outputs": [
    {
     "data": {
      "text/plain": [
       "0.949438202247191"
      ]
     },
     "execution_count": 29,
     "metadata": {},
     "output_type": "execute_result"
    }
   ],
   "source": [
    "clf = SVC().fit(X_train, y_train)\n",
    "predic = clf.predict(X_test)\n",
    "accuracy_score(y_test, predic)"
   ]
  },
  {
   "cell_type": "code",
   "execution_count": 30,
   "id": "2f80a099-6970-4b99-bad6-1ba1c5866d0e",
   "metadata": {},
   "outputs": [
    {
     "data": {
      "text/plain": [
       "['modelo_entrenado.pkl']"
      ]
     },
     "execution_count": 30,
     "metadata": {},
     "output_type": "execute_result"
    }
   ],
   "source": [
    "import joblib \n",
    "joblib.dump(clf, 'modelo_entrenado.pkl')"
   ]
  },
  {
   "cell_type": "code",
   "execution_count": 31,
   "id": "1a11a5b9-da0d-4a04-b55a-4eb44d4e0f98",
   "metadata": {},
   "outputs": [],
   "source": [
    "#submission_preds = clf.predict(X_test_test)"
   ]
  },
  {
   "cell_type": "markdown",
   "id": "a33784fa-9c5e-4078-b339-5e411b4acfcc",
   "metadata": {},
   "source": [
    "# Tratatamos la entrada de datos de un paciente nuevo"
   ]
  },
  {
   "cell_type": "code",
   "execution_count": 32,
   "id": "a2c31fc7-4bcd-46cb-a371-4fd88ba9d58c",
   "metadata": {},
   "outputs": [
    {
     "name": "stdout",
     "output_type": "stream",
     "text": [
      "¡Hola! Introduce los datos del nuevo paciente\n"
     ]
    },
    {
     "name": "stdin",
     "output_type": "stream",
     "text": [
      "Por favor ingrese el genero del paciente (Male/Female):  Male\n",
      "\n",
      "Por favor ingrese el tipo de trabajo(Private/Self-employed/Govt_job/children): \n",
      " Private\n",
      "\n",
      "Por favor ingrese el tipo de residencia(Urban/Rural): \n",
      " Urban\n",
      "\n",
      "Por favor ingrese el tipo de fumador(formerly smoked/never smoked/smokes/Unknown): \n",
      " smokes\n",
      "\n",
      "Por favor ingrese la edad del pàciente: \n",
      " 79\n",
      "\n",
      "Por favor ingrese la hipertension(1 or 0): \n",
      " 1\n",
      "\n",
      "Por favor ingrese si esta enfermo del corazón(1 or 0): \n",
      " 1\n",
      "\n",
      "Por favor ingrese nivel medio de glucosa: \n",
      " 170\n",
      "\n",
      "Por favor ingrese el BMI (Base Muscle Index): \n",
      " 35\n"
     ]
    }
   ],
   "source": [
    "\n",
    "#Mensaje de bienvenida\n",
    "print(\"¡Hola! Introduce los datos del nuevo paciente\")\n",
    "\n",
    "#Escribimos genero\n",
    "gender = input(\"Por favor ingrese el genero del paciente (Male/Female): \")\n",
    "\n",
    "#Escribimos work_type\n",
    "work_type = input(\"\\nPor favor ingrese el tipo de trabajo(Private/Self-employed/Govt_job/children): \\n\")\n",
    "\n",
    "##Leemos Residence_type\n",
    "residence_type = input(\"\\nPor favor ingrese el tipo de residencia(Urban/Rural): \\n\")\n",
    "\n",
    "##Leemos smoking_status\n",
    "smoking_status = input(\"\\nPor favor ingrese el tipo de fumador(formerly smoked/never smoked/smokes/Unknown): \\n\")\n",
    "\n",
    "##Leemos age\n",
    "age = input(\"\\nPor favor ingrese la edad del pàciente: \\n\")\n",
    "\n",
    "##Leemos hypertension\n",
    "hypertension = input(\"\\nPor favor ingrese la hipertension(1 or 0): \\n\")\n",
    "\n",
    "##Leemos heart_disease\n",
    "heart_disease = input(\"\\nPor favor ingrese si esta enfermo del corazón(1 or 0): \\n\")\n",
    "\n",
    "##Leemos avg_glucose_level\n",
    "avg_glucose_level = input(\"\\nPor favor ingrese nivel medio de glucosa: \\n\")\n",
    "\n",
    "##Leemos avg_glucose_level\n",
    "bmi = input(\"\\nPor favor ingrese el BMI (Base Muscle Index): \\n\")\n",
    "\n",
    "#Age será un entero o binario (0 ó 1)\n",
    "age = int(age)\n",
    "#BMI, avg_glucose_level será un real, así que usamos float()\n",
    "bmi = float(bmi)\n",
    "avg_glucose_level = float(avg_glucose_level)\n",
    "#Bool\n",
    "heart_disease = int(heart_disease)\n",
    "hypertension = int(hypertension)\n",
    "\n",
    "list_variables_predictoras = [[gender, age, hypertension, heart_disease, work_type, residence_type, avg_glucose_level, bmi, smoking_status]]\n",
    "\n",
    "list_variables_predictoras\n",
    "\n",
    "#Llamo a mi funcion predictora\n",
    "#predict(variables_predictoras)\n",
    "\n",
    "list_variables_predictoras\n",
    "\n",
    "columns = ['gender', 'age', 'hypertension', 'heart_disease', 'work_type', 'Residence_type', 'avg_glucose_level', 'bmi', 'smoking_status']\n",
    "X_valid = pd.DataFrame(list_variables_predictoras, columns = columns)\n"
   ]
  },
  {
   "cell_type": "code",
   "execution_count": 33,
   "id": "83a7b1f2-ddb8-42b1-8e42-f55d9b3f214d",
   "metadata": {},
   "outputs": [
    {
     "data": {
      "text/html": [
       "<div>\n",
       "<style scoped>\n",
       "    .dataframe tbody tr th:only-of-type {\n",
       "        vertical-align: middle;\n",
       "    }\n",
       "\n",
       "    .dataframe tbody tr th {\n",
       "        vertical-align: top;\n",
       "    }\n",
       "\n",
       "    .dataframe thead th {\n",
       "        text-align: right;\n",
       "    }\n",
       "</style>\n",
       "<table border=\"1\" class=\"dataframe\">\n",
       "  <thead>\n",
       "    <tr style=\"text-align: right;\">\n",
       "      <th></th>\n",
       "      <th>gender</th>\n",
       "      <th>age</th>\n",
       "      <th>hypertension</th>\n",
       "      <th>heart_disease</th>\n",
       "      <th>work_type</th>\n",
       "      <th>Residence_type</th>\n",
       "      <th>avg_glucose_level</th>\n",
       "      <th>bmi</th>\n",
       "      <th>smoking_status</th>\n",
       "    </tr>\n",
       "  </thead>\n",
       "  <tbody>\n",
       "    <tr>\n",
       "      <th>0</th>\n",
       "      <td>Male</td>\n",
       "      <td>79</td>\n",
       "      <td>1</td>\n",
       "      <td>1</td>\n",
       "      <td>Private</td>\n",
       "      <td>Urban</td>\n",
       "      <td>170.0</td>\n",
       "      <td>35.0</td>\n",
       "      <td>smokes</td>\n",
       "    </tr>\n",
       "  </tbody>\n",
       "</table>\n",
       "</div>"
      ],
      "text/plain": [
       "  gender  age  hypertension  heart_disease work_type Residence_type  \\\n",
       "0   Male   79             1              1   Private          Urban   \n",
       "\n",
       "   avg_glucose_level   bmi smoking_status  \n",
       "0              170.0  35.0         smokes  "
      ]
     },
     "execution_count": 33,
     "metadata": {},
     "output_type": "execute_result"
    }
   ],
   "source": [
    "X_valid"
   ]
  },
  {
   "cell_type": "code",
   "execution_count": 34,
   "id": "e3fb482b-3b33-4b24-bf71-2a2f297c6be0",
   "metadata": {},
   "outputs": [
    {
     "name": "stdout",
     "output_type": "stream",
     "text": [
      "GradientBoosting\n",
      "Stroke:  [0]\n"
     ]
    }
   ],
   "source": [
    "X_valid\n",
    "print(\"GradientBoosting\")\n",
    "modelo = GradientBoostingClassifier\n",
    "mod = modelo()\n",
    "mod.fit(X_train, y_train)\n",
    "\n",
    "#Me falta las transformaciones de X_test\n",
    "X_valid = transformer.transform(X_valid)\n",
    "\n",
    "#pd.DataFrame(X_test, columns = transformer.get_feature_names_out())\n",
    "\n",
    "y_predict = mod.predict(X_valid)\n",
    "print(\"Stroke: \", y_predict)\n",
    "\n",
    "## Matrix. Transformacion variables predictoras\n",
    "#model.predict()"
   ]
  },
  {
   "cell_type": "code",
   "execution_count": null,
   "id": "30e54974-e360-4773-b352-f6f06aed1d5d",
   "metadata": {},
   "outputs": [],
   "source": []
  }
 ],
 "metadata": {
  "kernelspec": {
   "display_name": "Python 3 (ipykernel)",
   "language": "python",
   "name": "python3"
  },
  "language_info": {
   "codemirror_mode": {
    "name": "ipython",
    "version": 3
   },
   "file_extension": ".py",
   "mimetype": "text/x-python",
   "name": "python",
   "nbconvert_exporter": "python",
   "pygments_lexer": "ipython3",
   "version": "3.9.12"
  }
 },
 "nbformat": 4,
 "nbformat_minor": 5
}
